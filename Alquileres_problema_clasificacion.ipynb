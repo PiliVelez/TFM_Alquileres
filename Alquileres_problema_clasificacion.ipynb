{
  "nbformat": 4,
  "nbformat_minor": 0,
  "metadata": {
    "colab": {
      "name": "Alquileres_problema_clasificacion.ipynb",
      "provenance": [],
      "collapsed_sections": []
    },
    "kernelspec": {
      "name": "python3",
      "display_name": "Python 3"
    },
    "language_info": {
      "name": "python"
    }
  },
  "cells": [
    {
      "cell_type": "markdown",
      "metadata": {
        "id": "tQgR8yPipiOo"
      },
      "source": [
        "### TFM - Predicción de los precios de Alquiler a partir de las características."
      ]
    },
    {
      "cell_type": "markdown",
      "metadata": {
        "id": "xSSN9xmnpkuM"
      },
      "source": [
        "Importación de librerías necesarias para el desarrollo.\n"
      ]
    },
    {
      "cell_type": "code",
      "metadata": {
        "id": "F_7L59RVo-kD"
      },
      "source": [
        "# Import de todo las librerías que podemos llegar a usar.\n",
        "import pandas as pd\n",
        "import io\n",
        "from google.colab import files\n",
        "\n",
        "import matplotlib.pyplot as plt\n",
        "import numpy as np\n",
        "import itertools\n",
        "import seaborn as sns\n",
        "\n",
        "from scipy import cluster\n",
        "import sklearn.neighbors\n",
        "from sklearn import preprocessing \n",
        "from sklearn.decomposition import PCA\n",
        "\n",
        "import matplotlib.mlab as mlab\n",
        "import matplotlib\n",
        "plt.style.use('ggplot')\n",
        "from matplotlib.pyplot import figure\n",
        "from sklearn.preprocessing import LabelEncoder\n",
        "from sklearn.neighbors import kneighbors_graph\n",
        "\n",
        "%matplotlib inline\n",
        "matplotlib.rcParams['figure.figsize'] = (12,8)\n",
        "\n",
        "pd.options.mode.chained_assignment = None\n",
        "%matplotlib inline\n",
        "\n",
        "from sklearn import linear_model\n",
        "from sklearn.tree import DecisionTreeRegressor\n",
        "from sklearn.svm import SVR\n",
        "from sklearn.linear_model import Ridge\n",
        "from sklearn.linear_model import Lasso\n",
        "from sklearn.linear_model import ElasticNet\n",
        "from sklearn.ensemble import GradientBoostingRegressor\n",
        "\n",
        "from sklearn.linear_model import LogisticRegression\n",
        "from sklearn.tree import DecisionTreeClassifier\n",
        "from sklearn.svm import SVC\n",
        "from sklearn.ensemble import GradientBoostingClassifier\n",
        "from sklearn.multiclass import OneVsOneClassifier, OneVsRestClassifier\n",
        "\n",
        "from sklearn.model_selection import GridSearchCV\n",
        "from scipy import stats\n",
        "from sklearn.model_selection import cross_val_score\n",
        "from sklearn.model_selection import KFold\n",
        "from sklearn.model_selection import RepeatedKFold\n",
        "from sklearn.metrics import mean_squared_error, r2_score, mean_absolute_error"
      ],
      "execution_count": 1,
      "outputs": []
    },
    {
      "cell_type": "markdown",
      "metadata": {
        "id": "f-QdBqwZsidl"
      },
      "source": [
        "Hacemos esa primera lectura del dataset, contar, filas, columnas, tipos de datos."
      ]
    },
    {
      "cell_type": "code",
      "metadata": {
        "id": "vPgNVNqlpqMc",
        "colab": {
          "base_uri": "https://localhost:8080/",
          "height": 204
        },
        "outputId": "52069cc5-3dd9-4b98-b4e1-9c2b16f9bbba"
      },
      "source": [
        "#Lectura del dataset\n",
        "pisos_bilbao = pd.read_csv('/content/pisos_bilbao.csv', ',' , encoding= 'unicode_escape')\n",
        "pisos_bilbao.head(5)"
      ],
      "execution_count": 3,
      "outputs": [
        {
          "output_type": "execute_result",
          "data": {
            "text/html": [
              "<div>\n",
              "<style scoped>\n",
              "    .dataframe tbody tr th:only-of-type {\n",
              "        vertical-align: middle;\n",
              "    }\n",
              "\n",
              "    .dataframe tbody tr th {\n",
              "        vertical-align: top;\n",
              "    }\n",
              "\n",
              "    .dataframe thead th {\n",
              "        text-align: right;\n",
              "    }\n",
              "</style>\n",
              "<table border=\"1\" class=\"dataframe\">\n",
              "  <thead>\n",
              "    <tr style=\"text-align: right;\">\n",
              "      <th></th>\n",
              "      <th>Habitaciones</th>\n",
              "      <th>Banhos</th>\n",
              "      <th>Superficie</th>\n",
              "      <th>Barrio</th>\n",
              "      <th>Renta</th>\n",
              "      <th>Precio</th>\n",
              "    </tr>\n",
              "  </thead>\n",
              "  <tbody>\n",
              "    <tr>\n",
              "      <th>0</th>\n",
              "      <td>2</td>\n",
              "      <td>1</td>\n",
              "      <td>75</td>\n",
              "      <td>8</td>\n",
              "      <td>18165</td>\n",
              "      <td>750</td>\n",
              "    </tr>\n",
              "    <tr>\n",
              "      <th>1</th>\n",
              "      <td>1</td>\n",
              "      <td>1</td>\n",
              "      <td>45</td>\n",
              "      <td>0</td>\n",
              "      <td>40300</td>\n",
              "      <td>780</td>\n",
              "    </tr>\n",
              "    <tr>\n",
              "      <th>2</th>\n",
              "      <td>4</td>\n",
              "      <td>2</td>\n",
              "      <td>220</td>\n",
              "      <td>0</td>\n",
              "      <td>40300</td>\n",
              "      <td>1550</td>\n",
              "    </tr>\n",
              "    <tr>\n",
              "      <th>3</th>\n",
              "      <td>3</td>\n",
              "      <td>2</td>\n",
              "      <td>87</td>\n",
              "      <td>1</td>\n",
              "      <td>40401</td>\n",
              "      <td>1200</td>\n",
              "    </tr>\n",
              "    <tr>\n",
              "      <th>4</th>\n",
              "      <td>1</td>\n",
              "      <td>1</td>\n",
              "      <td>45</td>\n",
              "      <td>0</td>\n",
              "      <td>40300</td>\n",
              "      <td>950</td>\n",
              "    </tr>\n",
              "  </tbody>\n",
              "</table>\n",
              "</div>"
            ],
            "text/plain": [
              "   Habitaciones  Banhos  Superficie  Barrio  Renta  Precio\n",
              "0             2       1          75       8  18165     750\n",
              "1             1       1          45       0  40300     780\n",
              "2             4       2         220       0  40300    1550\n",
              "3             3       2          87       1  40401    1200\n",
              "4             1       1          45       0  40300     950"
            ]
          },
          "metadata": {},
          "execution_count": 3
        }
      ]
    },
    {
      "cell_type": "markdown",
      "metadata": {
        "id": "nWtuvFM61Cj3"
      },
      "source": [
        "# Problema de clasificación"
      ]
    },
    {
      "cell_type": "code",
      "metadata": {
        "colab": {
          "base_uri": "https://localhost:8080/",
          "height": 316
        },
        "id": "G_Ma9vl21NA-",
        "outputId": "680e7c80-7775-41c4-efd4-86dca9b73025"
      },
      "source": [
        "# matplotlib histogram\n",
        "plt.hist(pisos_bilbao['Precio'],bins =[0,200,900,1550,5000])\n",
        "# Así las clases quedan más repartidas\n",
        "# Add labels\n",
        "plt.title('Histograma de los precios de las viviendas')\n",
        "plt.xlabel('Precio')\n",
        "plt.ylabel('Número de pisos')"
      ],
      "execution_count": 4,
      "outputs": [
        {
          "output_type": "execute_result",
          "data": {
            "text/plain": [
              "Text(0, 0.5, 'Número de pisos')"
            ]
          },
          "metadata": {},
          "execution_count": 4
        },
        {
          "output_type": "display_data",
          "data": {
            "image/png": "[encoded data removed]",
            "text/plain": [
              "<Figure size 432x288 with 1 Axes>"
            ]
          },
          "metadata": {
            "needs_background": "light"
          }
        }
      ]
    },
    {
      "cell_type": "code",
      "metadata": {
        "colab": {
          "base_uri": "https://localhost:8080/"
        },
        "id": "m630HVTz2ONX",
        "outputId": "5f8dbef7-29a3-4209-c8d7-983927ea4c87"
      },
      "source": [
        "features = pisos_bilbao[['Habitaciones', 'Banhos', 'Superficie', \n",
        "                  'Barrio', 'Renta', 'Precio']]\n",
        "rango_precios = [0,200,900,1750,5000]\n",
        "names = ['E', 'B', 'M', 'C']\n",
        "rango_preciosN = pd.cut(features.loc[:, ('Precio')], rango_precios, labels = names)\n",
        "Precio_letras = rango_preciosN\n",
        "Precio_letras"
      ],
      "execution_count": 5,
      "outputs": [
        {
          "output_type": "execute_result",
          "data": {
            "text/plain": [
              "0      B\n",
              "1      B\n",
              "2      M\n",
              "3      M\n",
              "4      M\n",
              "      ..\n",
              "555    M\n",
              "556    C\n",
              "557    M\n",
              "558    M\n",
              "559    M\n",
              "Name: Precio, Length: 560, dtype: category\n",
              "Categories (4, object): ['E' < 'B' < 'M' < 'C']"
            ]
          },
          "metadata": {},
          "execution_count": 5
        }
      ]
    },
    {
      "cell_type": "code",
      "metadata": {
        "colab": {
          "base_uri": "https://localhost:8080/",
          "height": 204
        },
        "id": "gvE9FBL01-i-",
        "outputId": "618b319a-66f7-410e-a2ea-3a53d38769da"
      },
      "source": [
        "atributos = features.loc[:, ( 'Habitaciones', 'Banhos', 'Superficie', 'Renta', 'Barrio')]\n",
        "pisos_bilbao = pd.concat([atributos, Precio_letras], axis=1)\n",
        "pisos_bilbao.head()"
      ],
      "execution_count": 6,
      "outputs": [
        {
          "output_type": "execute_result",
          "data": {
            "text/html": [
              "<div>\n",
              "<style scoped>\n",
              "    .dataframe tbody tr th:only-of-type {\n",
              "        vertical-align: middle;\n",
              "    }\n",
              "\n",
              "    .dataframe tbody tr th {\n",
              "        vertical-align: top;\n",
              "    }\n",
              "\n",
              "    .dataframe thead th {\n",
              "        text-align: right;\n",
              "    }\n",
              "</style>\n",
              "<table border=\"1\" class=\"dataframe\">\n",
              "  <thead>\n",
              "    <tr style=\"text-align: right;\">\n",
              "      <th></th>\n",
              "      <th>Habitaciones</th>\n",
              "      <th>Banhos</th>\n",
              "      <th>Superficie</th>\n",
              "      <th>Renta</th>\n",
              "      <th>Barrio</th>\n",
              "      <th>Precio</th>\n",
              "    </tr>\n",
              "  </thead>\n",
              "  <tbody>\n",
              "    <tr>\n",
              "      <th>0</th>\n",
              "      <td>2</td>\n",
              "      <td>1</td>\n",
              "      <td>75</td>\n",
              "      <td>18165</td>\n",
              "      <td>8</td>\n",
              "      <td>B</td>\n",
              "    </tr>\n",
              "    <tr>\n",
              "      <th>1</th>\n",
              "      <td>1</td>\n",
              "      <td>1</td>\n",
              "      <td>45</td>\n",
              "      <td>40300</td>\n",
              "      <td>0</td>\n",
              "      <td>B</td>\n",
              "    </tr>\n",
              "    <tr>\n",
              "      <th>2</th>\n",
              "      <td>4</td>\n",
              "      <td>2</td>\n",
              "      <td>220</td>\n",
              "      <td>40300</td>\n",
              "      <td>0</td>\n",
              "      <td>M</td>\n",
              "    </tr>\n",
              "    <tr>\n",
              "      <th>3</th>\n",
              "      <td>3</td>\n",
              "      <td>2</td>\n",
              "      <td>87</td>\n",
              "      <td>40401</td>\n",
              "      <td>1</td>\n",
              "      <td>M</td>\n",
              "    </tr>\n",
              "    <tr>\n",
              "      <th>4</th>\n",
              "      <td>1</td>\n",
              "      <td>1</td>\n",
              "      <td>45</td>\n",
              "      <td>40300</td>\n",
              "      <td>0</td>\n",
              "      <td>M</td>\n",
              "    </tr>\n",
              "  </tbody>\n",
              "</table>\n",
              "</div>"
            ],
            "text/plain": [
              "   Habitaciones  Banhos  Superficie  Renta  Barrio Precio\n",
              "0             2       1          75  18165       8      B\n",
              "1             1       1          45  40300       0      B\n",
              "2             4       2         220  40300       0      M\n",
              "3             3       2          87  40401       1      M\n",
              "4             1       1          45  40300       0      M"
            ]
          },
          "metadata": {},
          "execution_count": 6
        }
      ]
    },
    {
      "cell_type": "code",
      "metadata": {
        "colab": {
          "base_uri": "https://localhost:8080/",
          "height": 419
        },
        "id": "u07mmGdj2gfZ",
        "outputId": "3346667b-27f5-4601-b928-7cbe1af6a178"
      },
      "source": [
        "pisos_bilbao = pisos_bilbao[pisos_bilbao.Precio != 'E']\n",
        "\n",
        "pisos_bilbao = pisos_bilbao[pisos_bilbao.Superficie > 0]\n",
        "pisos_bilbao = pisos_bilbao[pisos_bilbao.Banhos > 0]\n",
        "pisos_bilbao"
      ],
      "execution_count": 7,
      "outputs": [
        {
          "output_type": "execute_result",
          "data": {
            "text/html": [
              "<div>\n",
              "<style scoped>\n",
              "    .dataframe tbody tr th:only-of-type {\n",
              "        vertical-align: middle;\n",
              "    }\n",
              "\n",
              "    .dataframe tbody tr th {\n",
              "        vertical-align: top;\n",
              "    }\n",
              "\n",
              "    .dataframe thead th {\n",
              "        text-align: right;\n",
              "    }\n",
              "</style>\n",
              "<table border=\"1\" class=\"dataframe\">\n",
              "  <thead>\n",
              "    <tr style=\"text-align: right;\">\n",
              "      <th></th>\n",
              "      <th>Habitaciones</th>\n",
              "      <th>Banhos</th>\n",
              "      <th>Superficie</th>\n",
              "      <th>Renta</th>\n",
              "      <th>Barrio</th>\n",
              "      <th>Precio</th>\n",
              "    </tr>\n",
              "  </thead>\n",
              "  <tbody>\n",
              "    <tr>\n",
              "      <th>0</th>\n",
              "      <td>2</td>\n",
              "      <td>1</td>\n",
              "      <td>75</td>\n",
              "      <td>18165</td>\n",
              "      <td>8</td>\n",
              "      <td>B</td>\n",
              "    </tr>\n",
              "    <tr>\n",
              "      <th>1</th>\n",
              "      <td>1</td>\n",
              "      <td>1</td>\n",
              "      <td>45</td>\n",
              "      <td>40300</td>\n",
              "      <td>0</td>\n",
              "      <td>B</td>\n",
              "    </tr>\n",
              "    <tr>\n",
              "      <th>2</th>\n",
              "      <td>4</td>\n",
              "      <td>2</td>\n",
              "      <td>220</td>\n",
              "      <td>40300</td>\n",
              "      <td>0</td>\n",
              "      <td>M</td>\n",
              "    </tr>\n",
              "    <tr>\n",
              "      <th>3</th>\n",
              "      <td>3</td>\n",
              "      <td>2</td>\n",
              "      <td>87</td>\n",
              "      <td>40401</td>\n",
              "      <td>1</td>\n",
              "      <td>M</td>\n",
              "    </tr>\n",
              "    <tr>\n",
              "      <th>4</th>\n",
              "      <td>1</td>\n",
              "      <td>1</td>\n",
              "      <td>45</td>\n",
              "      <td>40300</td>\n",
              "      <td>0</td>\n",
              "      <td>M</td>\n",
              "    </tr>\n",
              "    <tr>\n",
              "      <th>...</th>\n",
              "      <td>...</td>\n",
              "      <td>...</td>\n",
              "      <td>...</td>\n",
              "      <td>...</td>\n",
              "      <td>...</td>\n",
              "      <td>...</td>\n",
              "    </tr>\n",
              "    <tr>\n",
              "      <th>555</th>\n",
              "      <td>3</td>\n",
              "      <td>2</td>\n",
              "      <td>110</td>\n",
              "      <td>40300</td>\n",
              "      <td>0</td>\n",
              "      <td>M</td>\n",
              "    </tr>\n",
              "    <tr>\n",
              "      <th>556</th>\n",
              "      <td>1</td>\n",
              "      <td>1</td>\n",
              "      <td>100</td>\n",
              "      <td>40300</td>\n",
              "      <td>0</td>\n",
              "      <td>C</td>\n",
              "    </tr>\n",
              "    <tr>\n",
              "      <th>557</th>\n",
              "      <td>2</td>\n",
              "      <td>2</td>\n",
              "      <td>85</td>\n",
              "      <td>40401</td>\n",
              "      <td>1</td>\n",
              "      <td>M</td>\n",
              "    </tr>\n",
              "    <tr>\n",
              "      <th>558</th>\n",
              "      <td>2</td>\n",
              "      <td>2</td>\n",
              "      <td>71</td>\n",
              "      <td>40300</td>\n",
              "      <td>0</td>\n",
              "      <td>M</td>\n",
              "    </tr>\n",
              "    <tr>\n",
              "      <th>559</th>\n",
              "      <td>1</td>\n",
              "      <td>2</td>\n",
              "      <td>50</td>\n",
              "      <td>29709</td>\n",
              "      <td>3</td>\n",
              "      <td>M</td>\n",
              "    </tr>\n",
              "  </tbody>\n",
              "</table>\n",
              "<p>560 rows × 6 columns</p>\n",
              "</div>"
            ],
            "text/plain": [
              "     Habitaciones  Banhos  Superficie  Renta  Barrio Precio\n",
              "0               2       1          75  18165       8      B\n",
              "1               1       1          45  40300       0      B\n",
              "2               4       2         220  40300       0      M\n",
              "3               3       2          87  40401       1      M\n",
              "4               1       1          45  40300       0      M\n",
              "..            ...     ...         ...    ...     ...    ...\n",
              "555             3       2         110  40300       0      M\n",
              "556             1       1         100  40300       0      C\n",
              "557             2       2          85  40401       1      M\n",
              "558             2       2          71  40300       0      M\n",
              "559             1       2          50  29709       3      M\n",
              "\n",
              "[560 rows x 6 columns]"
            ]
          },
          "metadata": {},
          "execution_count": 7
        }
      ]
    },
    {
      "cell_type": "code",
      "metadata": {
        "colab": {
          "base_uri": "https://localhost:8080/",
          "height": 316
        },
        "id": "8mNx9P9SNP2B",
        "outputId": "03372589-6b78-4073-ad31-9f954dd2fa76"
      },
      "source": [
        "# matplotlib histogram\n",
        "plt.hist(pisos_bilbao['Precio'])\n",
        "# Así las clases quedan más repartidas\n",
        "# Add labels\n",
        "plt.title('Histograma de los precios')\n",
        "plt.xlabel('Precio')\n",
        "plt.ylabel('Número de pisos')"
      ],
      "execution_count": 8,
      "outputs": [
        {
          "output_type": "execute_result",
          "data": {
            "text/plain": [
              "Text(0, 0.5, 'Número de pisos')"
            ]
          },
          "metadata": {},
          "execution_count": 8
        },
        {
          "output_type": "display_data",
          "data": {
            "image/png": "[encoded data removed]",
            "text/plain": [
              "<Figure size 432x288 with 1 Axes>"
            ]
          },
          "metadata": {
            "needs_background": "light"
          }
        }
      ]
    },
    {
      "cell_type": "markdown",
      "metadata": {
        "id": "jF2nxMYx8e9G"
      },
      "source": [
        "##### Tres variables"
      ]
    },
    {
      "cell_type": "markdown",
      "metadata": {
        "id": "S94NFCEJ5wGZ"
      },
      "source": [
        "###### Regresión logística"
      ]
    },
    {
      "cell_type": "code",
      "metadata": {
        "id": "CNUCGB7T7ljA"
      },
      "source": [
        "#Importaciones varias para la evaluación\n",
        "\n",
        "from sklearn.metrics import confusion_matrix,accuracy_score,classification_report\n",
        "from sklearn.metrics import plot_confusion_matrix\n",
        "\n",
        "# Configuración de la evaluación\n",
        "\n",
        "def evaluar_modelo(modelo, test_data, test_labels):\n",
        "    prediction = modelo.predict(test_data)\n",
        "    print('Rendimiento obtenido:',accuracy_score(test_labels,prediction))\n",
        "    print('Reporte de indicadores:\\n',classification_report(test_labels,prediction))\n",
        "    print('Matriz de confusión:')\n",
        "    cf = plot_confusion_matrix(modelo,test_data,test_labels,cmap='Blues_r',values_format='d')"
      ],
      "execution_count": 9,
      "outputs": []
    },
    {
      "cell_type": "code",
      "metadata": {
        "colab": {
          "base_uri": "https://localhost:8080/"
        },
        "id": "0kcG5an152lM",
        "outputId": "fb265383-7eec-4afc-d421-75232ace1184"
      },
      "source": [
        "# División aleatoria pero con la librería model_selection\n",
        "from sklearn.model_selection import train_test_split \n",
        "\n",
        "Bilbao_train, Bilbao_test = train_test_split(pisos_bilbao, test_size = 0.20, random_state = 78)\n",
        "# Advertir de los parámetros interesantes como stratify\n",
        "\n",
        "# Quitarlo para que no se vea que tenemos esto aquí, ya queda claro con que nos quedamos un 30 por ciento\n",
        "print(\"Ejemplos usados para entrenar: \", len(Bilbao_train))\n",
        "print(\"Ejemplos usados para test: \", len(Bilbao_test))"
      ],
      "execution_count": 10,
      "outputs": [
        {
          "output_type": "stream",
          "name": "stdout",
          "text": [
            "Ejemplos usados para entrenar:  448\n",
            "Ejemplos usados para test:  112\n"
          ]
        }
      ]
    },
    {
      "cell_type": "code",
      "metadata": {
        "id": "uiTug_hE59hd"
      },
      "source": [
        "# Nos quedamos solo con las variables que más correlación tienen de momento\n",
        "selected_features = ['Habitaciones', 'Banhos', \n",
        "                     'Superficie'   \n",
        "                    ]\n",
        "labels_train = Bilbao_train.Precio.values \n",
        "labels_test = Bilbao_test.Precio.values                   "
      ],
      "execution_count": 11,
      "outputs": []
    },
    {
      "cell_type": "code",
      "metadata": {
        "id": "TFgYbboRhnIN"
      },
      "source": [
        "# Estandarizamos las variables.\n",
        "m_standarizar = preprocessing.StandardScaler()\n",
        "X_train = m_standarizar.fit_transform(Bilbao_train[selected_features])\n",
        "X_test = m_standarizar.transform(Bilbao_test[selected_features])"
      ],
      "execution_count": 12,
      "outputs": []
    },
    {
      "cell_type": "code",
      "metadata": {
        "colab": {
          "base_uri": "https://localhost:8080/"
        },
        "id": "hnzrFj4x3z4_",
        "outputId": "94413433-7cd3-4c91-b37b-880b62195ee7"
      },
      "source": [
        "rl_a = LogisticRegression(solver = 'liblinear', random_state=78) \n",
        "rl_a.fit(X_train, labels_train)"
      ],
      "execution_count": 13,
      "outputs": [
        {
          "output_type": "execute_result",
          "data": {
            "text/plain": [
              "LogisticRegression(C=1.0, class_weight=None, dual=False, fit_intercept=True,\n",
              "                   intercept_scaling=1, l1_ratio=None, max_iter=100,\n",
              "                   multi_class='auto', n_jobs=None, penalty='l2',\n",
              "                   random_state=78, solver='liblinear', tol=0.0001, verbose=0,\n",
              "                   warm_start=False)"
            ]
          },
          "metadata": {},
          "execution_count": 13
        }
      ]
    },
    {
      "cell_type": "code",
      "metadata": {
        "colab": {
          "base_uri": "https://localhost:8080/"
        },
        "id": "NACLiNYkRApd",
        "outputId": "df962e26-1623-4926-967f-ccd43772551a"
      },
      "source": [
        "kf = KFold(n_splits=5)\n",
        "score = rl_a.score(X_train,labels_train)\n",
        "print(\"Metrica del modelo de entrenamiento\", score)\n",
        "scores = cross_val_score(rl_a, X_train, labels_train, cv=kf, scoring=\"accuracy\")\n",
        "print(\"Metricas cross_validation\", scores)\n",
        "print(\"Media de cross_validation\", scores.mean())"
      ],
      "execution_count": 14,
      "outputs": [
        {
          "output_type": "stream",
          "name": "stdout",
          "text": [
            "Metrica del modelo de entrenamiento 0.7321428571428571\n",
            "Metricas cross_validation [0.68888889 0.74444444 0.74444444 0.71910112 0.71910112]\n",
            "Media de cross_validation 0.7231960049937578\n"
          ]
        }
      ]
    },
    {
      "cell_type": "code",
      "metadata": {
        "colab": {
          "base_uri": "https://localhost:8080/",
          "height": 503
        },
        "id": "BT_0ngnK7KPd",
        "outputId": "7cc9562e-ce0e-4046-e6de-3507d278bacc"
      },
      "source": [
        "evaluar_modelo(rl_a, X_test, labels_test)"
      ],
      "execution_count": 15,
      "outputs": [
        {
          "output_type": "stream",
          "name": "stdout",
          "text": [
            "Rendimiento obtenido: 0.7589285714285714\n",
            "Reporte de indicadores:\n",
            "               precision    recall  f1-score   support\n",
            "\n",
            "           B       0.68      0.87      0.76        31\n",
            "           C       1.00      0.09      0.17        11\n",
            "           M       0.80      0.81      0.81        70\n",
            "\n",
            "    accuracy                           0.76       112\n",
            "   macro avg       0.83      0.59      0.58       112\n",
            "weighted avg       0.79      0.76      0.73       112\n",
            "\n",
            "Matriz de confusión:\n"
          ]
        },
        {
          "output_type": "display_data",
          "data": {
            "image/png": "[encoded data removed]",
            "text/plain": [
              "<Figure size 432x288 with 2 Axes>"
            ]
          },
          "metadata": {
            "needs_background": "light"
          }
        }
      ]
    },
    {
      "cell_type": "markdown",
      "metadata": {
        "id": "XI54T1vAECDp"
      },
      "source": [
        "###### Arbol de decisión"
      ]
    },
    {
      "cell_type": "code",
      "metadata": {
        "colab": {
          "base_uri": "https://localhost:8080/",
          "height": 503
        },
        "id": "smIolOflEEim",
        "outputId": "41483f68-46dc-4def-df9d-a124c13891d8"
      },
      "source": [
        "ad_a = DecisionTreeClassifier(max_depth=5, criterion='gini', random_state=78)\n",
        "ad_a.fit(Bilbao_train[selected_features], labels_train)\n",
        "\n",
        "evaluar_modelo(ad_a, Bilbao_test[selected_features], labels_test)"
      ],
      "execution_count": 16,
      "outputs": [
        {
          "output_type": "stream",
          "name": "stdout",
          "text": [
            "Rendimiento obtenido: 0.7589285714285714\n",
            "Reporte de indicadores:\n",
            "               precision    recall  f1-score   support\n",
            "\n",
            "           B       0.71      0.87      0.78        31\n",
            "           C       0.40      0.18      0.25        11\n",
            "           M       0.81      0.80      0.81        70\n",
            "\n",
            "    accuracy                           0.76       112\n",
            "   macro avg       0.64      0.62      0.61       112\n",
            "weighted avg       0.74      0.76      0.74       112\n",
            "\n",
            "Matriz de confusión:\n"
          ]
        },
        {
          "output_type": "display_data",
          "data": {
            "image/png": "[encoded data removed]",
            "text/plain": [
              "<Figure size 432x288 with 2 Axes>"
            ]
          },
          "metadata": {
            "needs_background": "light"
          }
        }
      ]
    },
    {
      "cell_type": "code",
      "metadata": {
        "colab": {
          "base_uri": "https://localhost:8080/"
        },
        "id": "p4K2xmM5b1Ae",
        "outputId": "4df25883-61f3-42d7-a35f-505f2b510980"
      },
      "source": [
        "kf = KFold(n_splits=5)\n",
        "score = ad_a.score(Bilbao_train[selected_features],labels_train)\n",
        "print(\"Metrica del modelo de enrenamiento\", score)\n",
        "scores = cross_val_score(ad_a, Bilbao_train[selected_features], labels_train, cv=kf, scoring=\"accuracy\")\n",
        "print(\"Metricas cross_validation\", scores)\n",
        "print(\"Media de cross_validation\", scores.mean())"
      ],
      "execution_count": 17,
      "outputs": [
        {
          "output_type": "stream",
          "name": "stdout",
          "text": [
            "Metrica del modelo de enrenamiento 0.7879464285714286\n",
            "Metricas cross_validation [0.7        0.72222222 0.75555556 0.71910112 0.70786517]\n",
            "Media de cross_validation 0.7209488139825219\n"
          ]
        }
      ]
    },
    {
      "cell_type": "markdown",
      "metadata": {
        "id": "phUk4GF4JSpf"
      },
      "source": [
        "###### SVM"
      ]
    },
    {
      "cell_type": "code",
      "metadata": {
        "colab": {
          "base_uri": "https://localhost:8080/",
          "height": 503
        },
        "id": "3W_xsahgJUiS",
        "outputId": "17e2c0b0-29c5-4d61-b3a0-4b1618fba91f"
      },
      "source": [
        "svc_a = SVC(C = 10, kernel = 'rbf', random_state=78)\n",
        "ovo = OneVsOneClassifier(svc_a)\n",
        "ovo.fit(X_train, labels_train)\n",
        "evaluar_modelo(ovo, X_test, labels_test)"
      ],
      "execution_count": 18,
      "outputs": [
        {
          "output_type": "stream",
          "name": "stdout",
          "text": [
            "Rendimiento obtenido: 0.7857142857142857\n",
            "Reporte de indicadores:\n",
            "               precision    recall  f1-score   support\n",
            "\n",
            "           B       0.71      0.87      0.78        31\n",
            "           C       1.00      0.18      0.31        11\n",
            "           M       0.82      0.84      0.83        70\n",
            "\n",
            "    accuracy                           0.79       112\n",
            "   macro avg       0.84      0.63      0.64       112\n",
            "weighted avg       0.81      0.79      0.77       112\n",
            "\n",
            "Matriz de confusión:\n"
          ]
        },
        {
          "output_type": "display_data",
          "data": {
            "image/png": "[encoded data removed]",
            "text/plain": [
              "<Figure size 432x288 with 2 Axes>"
            ]
          },
          "metadata": {
            "needs_background": "light"
          }
        }
      ]
    },
    {
      "cell_type": "code",
      "metadata": {
        "colab": {
          "base_uri": "https://localhost:8080/"
        },
        "id": "OP-og6aXcHEz",
        "outputId": "0ce21c69-b684-42d8-d704-3954dc32febc"
      },
      "source": [
        "kf = KFold(n_splits=5)\n",
        "score = ovo.score(X_train,labels_train)\n",
        "print(\"Metrica del modelo de entrenamiento\", score)\n",
        "scores = cross_val_score(ovo, X_train, labels_train, cv=kf, scoring=\"accuracy\")\n",
        "print(\"Metricas cross_validation\", scores)\n",
        "print(\"Media de cross_validation\", scores.mean())"
      ],
      "execution_count": 19,
      "outputs": [
        {
          "output_type": "stream",
          "name": "stdout",
          "text": [
            "Metrica del modelo de entrenamiento 0.7700892857142857\n",
            "Metricas cross_validation [0.71111111 0.76666667 0.76666667 0.70786517 0.73033708]\n",
            "Media de cross_validation 0.7365293383270911\n"
          ]
        }
      ]
    },
    {
      "cell_type": "markdown",
      "metadata": {
        "id": "wNhFw_pZl5mF"
      },
      "source": [
        "###### GradientBoosting"
      ]
    },
    {
      "cell_type": "code",
      "metadata": {
        "colab": {
          "base_uri": "https://localhost:8080/",
          "height": 557
        },
        "id": "ipNI-BdVl5vk",
        "outputId": "c4fd46fe-7090-4669-a4fa-c86e1380031d"
      },
      "source": [
        "gb_a = GradientBoostingClassifier(n_estimators=8, max_features='auto', random_state=78)\n",
        "\n",
        "gb_a.fit(Bilbao_train[selected_features], labels_train)\n",
        "# Prueba Nro. 1\n",
        "evaluar_modelo(gb_a, Bilbao_test[selected_features], labels_test)"
      ],
      "execution_count": 20,
      "outputs": [
        {
          "output_type": "stream",
          "name": "stdout",
          "text": [
            "Rendimiento obtenido: 0.75\n",
            "Reporte de indicadores:\n",
            "               precision    recall  f1-score   support\n",
            "\n",
            "           B       0.68      0.87      0.76        31\n",
            "           C       0.00      0.00      0.00        11\n",
            "           M       0.79      0.81      0.80        70\n",
            "\n",
            "    accuracy                           0.75       112\n",
            "   macro avg       0.49      0.56      0.52       112\n",
            "weighted avg       0.68      0.75      0.71       112\n",
            "\n",
            "Matriz de confusión:\n"
          ]
        },
        {
          "output_type": "stream",
          "name": "stderr",
          "text": [
            "/usr/local/lib/python3.7/dist-packages/sklearn/metrics/_classification.py:1272: UndefinedMetricWarning: Precision and F-score are ill-defined and being set to 0.0 in labels with no predicted samples. Use `zero_division` parameter to control this behavior.\n",
            "  _warn_prf(average, modifier, msg_start, len(result))\n"
          ]
        },
        {
          "output_type": "display_data",
          "data": {
            "image/png": "[encoded data removed]",
            "text/plain": [
              "<Figure size 432x288 with 2 Axes>"
            ]
          },
          "metadata": {
            "needs_background": "light"
          }
        }
      ]
    },
    {
      "cell_type": "code",
      "metadata": {
        "colab": {
          "base_uri": "https://localhost:8080/"
        },
        "id": "9IlWiiYgcVLs",
        "outputId": "282cc56b-2f79-4cea-8e72-6432416079bc"
      },
      "source": [
        "kf = KFold(n_splits=5)\n",
        "score = gb_a.score(Bilbao_train[selected_features],labels_train)\n",
        "print(\"Metrica del modelo de entrenamiento\", score)\n",
        "scores = cross_val_score(gb_a, X_train, labels_train, cv=kf, scoring=\"accuracy\")\n",
        "print(\"Metricas cross_validation\", scores)\n",
        "print(\"Media de cross_validation\", scores.mean())"
      ],
      "execution_count": 21,
      "outputs": [
        {
          "output_type": "stream",
          "name": "stdout",
          "text": [
            "Metrica del modelo de entrenamiento 0.7611607142857143\n",
            "Metricas cross_validation [0.68888889 0.78888889 0.62222222 0.68539326 0.73033708]\n",
            "Media de cross_validation 0.7031460674157304\n"
          ]
        }
      ]
    },
    {
      "cell_type": "markdown",
      "metadata": {
        "id": "eMtjCLzU8nN7"
      },
      "source": [
        "##### Tres variables más barrio\n"
      ]
    },
    {
      "cell_type": "markdown",
      "metadata": {
        "id": "H8gM-IXm819Z"
      },
      "source": [
        "###### Rregresión Logística"
      ]
    },
    {
      "cell_type": "code",
      "metadata": {
        "colab": {
          "base_uri": "https://localhost:8080/"
        },
        "id": "yaCR_HgH8qtW",
        "outputId": "49274c55-fb70-4d90-a8a1-38f04fb8d140"
      },
      "source": [
        "# Nos quedamos solo con las variables que más correlación tienen de momento\n",
        "selected_features = ['Habitaciones', 'Banhos', \n",
        "                     'Superficie' , 'Barrio'  \n",
        "                    ]\n",
        "labels_train = Bilbao_train.Precio.values \n",
        "labels_test = Bilbao_test.Precio.values   \n",
        "\n",
        "# Estandarizamos las variables.\n",
        "m_standarizar = preprocessing.StandardScaler()\n",
        "X_train = m_standarizar.fit_transform(Bilbao_train[selected_features])\n",
        "X_test = m_standarizar.transform(Bilbao_test[selected_features])\n",
        "\n",
        "rl_b = LogisticRegression(solver = 'liblinear', random_state=78) \n",
        "rl_b.fit(X_train, labels_train)"
      ],
      "execution_count": 22,
      "outputs": [
        {
          "output_type": "execute_result",
          "data": {
            "text/plain": [
              "LogisticRegression(C=1.0, class_weight=None, dual=False, fit_intercept=True,\n",
              "                   intercept_scaling=1, l1_ratio=None, max_iter=100,\n",
              "                   multi_class='auto', n_jobs=None, penalty='l2',\n",
              "                   random_state=78, solver='liblinear', tol=0.0001, verbose=0,\n",
              "                   warm_start=False)"
            ]
          },
          "metadata": {},
          "execution_count": 22
        }
      ]
    },
    {
      "cell_type": "code",
      "metadata": {
        "colab": {
          "base_uri": "https://localhost:8080/",
          "height": 503
        },
        "id": "1uGzpoWY8yTo",
        "outputId": "2d3a6b7b-d4a9-4364-a044-5bc6b7f213ca"
      },
      "source": [
        "evaluar_modelo(rl_b, X_test, labels_test)"
      ],
      "execution_count": 23,
      "outputs": [
        {
          "output_type": "stream",
          "name": "stdout",
          "text": [
            "Rendimiento obtenido: 0.7678571428571429\n",
            "Reporte de indicadores:\n",
            "               precision    recall  f1-score   support\n",
            "\n",
            "           B       0.69      0.87      0.77        31\n",
            "           C       1.00      0.09      0.17        11\n",
            "           M       0.81      0.83      0.82        70\n",
            "\n",
            "    accuracy                           0.77       112\n",
            "   macro avg       0.83      0.60      0.58       112\n",
            "weighted avg       0.79      0.77      0.74       112\n",
            "\n",
            "Matriz de confusión:\n"
          ]
        },
        {
          "output_type": "display_data",
          "data": {
            "image/png": "[encoded data removed]",
            "text/plain": [
              "<Figure size 432x288 with 2 Axes>"
            ]
          },
          "metadata": {
            "needs_background": "light"
          }
        }
      ]
    },
    {
      "cell_type": "code",
      "metadata": {
        "colab": {
          "base_uri": "https://localhost:8080/"
        },
        "id": "xJ71pbkmcfuq",
        "outputId": "d7078ff2-1d64-4cde-9531-20e758ebf0cd"
      },
      "source": [
        "kf = KFold(n_splits=5)\n",
        "score = rl_b.score(X_train,labels_train)\n",
        "print(\"Metrica del modelo de entrenamiento\", score)\n",
        "scores = cross_val_score(rl_b, X_train, labels_train, cv=kf, scoring=\"accuracy\")\n",
        "print(\"Metricas cross_validation\", scores)\n",
        "print(\"Media de cross_validation\", scores.mean())"
      ],
      "execution_count": 24,
      "outputs": [
        {
          "output_type": "stream",
          "name": "stdout",
          "text": [
            "Metrica del modelo de entrenamiento 0.7544642857142857\n",
            "Metricas cross_validation [0.71111111 0.77777778 0.72222222 0.69662921 0.75280899]\n",
            "Media de cross_validation 0.7321098626716604\n"
          ]
        }
      ]
    },
    {
      "cell_type": "markdown",
      "metadata": {
        "id": "XHzTrkV7GHYv"
      },
      "source": [
        "###### Arbol de decisión"
      ]
    },
    {
      "cell_type": "code",
      "metadata": {
        "colab": {
          "base_uri": "https://localhost:8080/",
          "height": 503
        },
        "id": "eYlBj07gGMQj",
        "outputId": "2455ef49-6572-48ac-8316-9244cc00781b"
      },
      "source": [
        "ad_b = DecisionTreeClassifier(max_depth=6, criterion='gini', random_state=78)\n",
        "ad_b.fit(Bilbao_train[selected_features], labels_train)\n",
        "\n",
        "evaluar_modelo(ad_b, Bilbao_test[selected_features], labels_test)"
      ],
      "execution_count": 25,
      "outputs": [
        {
          "output_type": "stream",
          "name": "stdout",
          "text": [
            "Rendimiento obtenido: 0.75\n",
            "Reporte de indicadores:\n",
            "               precision    recall  f1-score   support\n",
            "\n",
            "           B       0.70      0.74      0.72        31\n",
            "           C       0.60      0.27      0.37        11\n",
            "           M       0.78      0.83      0.81        70\n",
            "\n",
            "    accuracy                           0.75       112\n",
            "   macro avg       0.69      0.61      0.63       112\n",
            "weighted avg       0.74      0.75      0.74       112\n",
            "\n",
            "Matriz de confusión:\n"
          ]
        },
        {
          "output_type": "display_data",
          "data": {
            "image/png": "[encoded data removed]",
            "text/plain": [
              "<Figure size 432x288 with 2 Axes>"
            ]
          },
          "metadata": {
            "needs_background": "light"
          }
        }
      ]
    },
    {
      "cell_type": "code",
      "metadata": {
        "colab": {
          "base_uri": "https://localhost:8080/"
        },
        "id": "_TURVXMXdT3S",
        "outputId": "350c8b2a-e9ad-49a7-cf0e-46eb9d67c0d8"
      },
      "source": [
        "kf = KFold(n_splits=5)\n",
        "score = ad_b.score(Bilbao_train[selected_features],labels_train)\n",
        "print(\"Metrica del modelo de entrenamiento\", score)\n",
        "scores = cross_val_score(ad_b, Bilbao_train[selected_features], labels_train, cv=kf, scoring=\"accuracy\")\n",
        "print(\"Metricas cross_validation\", scores)\n",
        "print(\"Media de cross_validation\", scores.mean())"
      ],
      "execution_count": 26,
      "outputs": [
        {
          "output_type": "stream",
          "name": "stdout",
          "text": [
            "Metrica del modelo de entrenamiento 0.84375\n",
            "Metricas cross_validation [0.76666667 0.77777778 0.7        0.73033708 0.66292135]\n",
            "Media de cross_validation 0.7275405742821474\n"
          ]
        }
      ]
    },
    {
      "cell_type": "markdown",
      "metadata": {
        "id": "2GD73puwKljB"
      },
      "source": [
        "###### SVM"
      ]
    },
    {
      "cell_type": "code",
      "metadata": {
        "colab": {
          "base_uri": "https://localhost:8080/",
          "height": 503
        },
        "id": "FlQoUBReKnQX",
        "outputId": "02315bde-73aa-419f-bd4a-091fdbcd348e"
      },
      "source": [
        "svc_b = SVC(C = 10, kernel = 'rbf', random_state=78, gamma='auto')\n",
        "ovo = OneVsOneClassifier(svc_b)\n",
        "ovo.fit(X_train, labels_train)\n",
        "evaluar_modelo(ovo, X_test, labels_test)"
      ],
      "execution_count": 27,
      "outputs": [
        {
          "output_type": "stream",
          "name": "stdout",
          "text": [
            "Rendimiento obtenido: 0.8035714285714286\n",
            "Reporte de indicadores:\n",
            "               precision    recall  f1-score   support\n",
            "\n",
            "           B       0.76      0.84      0.80        31\n",
            "           C       1.00      0.18      0.31        11\n",
            "           M       0.82      0.89      0.85        70\n",
            "\n",
            "    accuracy                           0.80       112\n",
            "   macro avg       0.86      0.64      0.65       112\n",
            "weighted avg       0.82      0.80      0.78       112\n",
            "\n",
            "Matriz de confusión:\n"
          ]
        },
        {
          "output_type": "display_data",
          "data": {
            "image/png": "[encoded data removed]",
            "text/plain": [
              "<Figure size 432x288 with 2 Axes>"
            ]
          },
          "metadata": {
            "needs_background": "light"
          }
        }
      ]
    },
    {
      "cell_type": "code",
      "metadata": {
        "colab": {
          "base_uri": "https://localhost:8080/"
        },
        "id": "1kghCg4fdd4z",
        "outputId": "8cc40427-8e0c-4d92-ba02-7605fc5c646b"
      },
      "source": [
        "kf = KFold(n_splits=5)\n",
        "score = ovo.score(X_train,labels_train)\n",
        "print(\"Metrica del modelo de entrenamiento\", score)\n",
        "scores = cross_val_score(ovo, X_train, labels_train, cv=kf, scoring=\"accuracy\")\n",
        "print(\"Metricas cross_validation\", scores)\n",
        "print(\"Media de cross_validation\", scores.mean())"
      ],
      "execution_count": 28,
      "outputs": [
        {
          "output_type": "stream",
          "name": "stdout",
          "text": [
            "Metrica del modelo de entrenamiento 0.8102678571428571\n",
            "Metricas cross_validation [0.75555556 0.77777778 0.77777778 0.71910112 0.73033708]\n",
            "Media de cross_validation 0.7521098626716605\n"
          ]
        }
      ]
    },
    {
      "cell_type": "markdown",
      "metadata": {
        "id": "-SLjoNEjlEZX"
      },
      "source": [
        "###### GradienteBoostingclasificación"
      ]
    },
    {
      "cell_type": "code",
      "metadata": {
        "colab": {
          "base_uri": "https://localhost:8080/",
          "height": 557
        },
        "id": "cxnm9CZwlEgx",
        "outputId": "653bf53d-a929-4495-9370-492596b03776"
      },
      "source": [
        "gb_b = GradientBoostingClassifier(n_estimators=8, max_features='auto', random_state=78)\n",
        "\n",
        "gb_b.fit(Bilbao_train[selected_features], labels_train)\n",
        "# Prueba Nro. 1\n",
        "evaluar_modelo(gb_b, Bilbao_test[selected_features], labels_test)"
      ],
      "execution_count": 29,
      "outputs": [
        {
          "output_type": "stream",
          "name": "stdout",
          "text": [
            "Rendimiento obtenido: 0.75\n",
            "Reporte de indicadores:\n",
            "               precision    recall  f1-score   support\n",
            "\n",
            "           B       0.69      0.81      0.75        31\n",
            "           C       0.00      0.00      0.00        11\n",
            "           M       0.78      0.84      0.81        70\n",
            "\n",
            "    accuracy                           0.75       112\n",
            "   macro avg       0.49      0.55      0.52       112\n",
            "weighted avg       0.68      0.75      0.71       112\n",
            "\n",
            "Matriz de confusión:\n"
          ]
        },
        {
          "output_type": "stream",
          "name": "stderr",
          "text": [
            "/usr/local/lib/python3.7/dist-packages/sklearn/metrics/_classification.py:1272: UndefinedMetricWarning: Precision and F-score are ill-defined and being set to 0.0 in labels with no predicted samples. Use `zero_division` parameter to control this behavior.\n",
            "  _warn_prf(average, modifier, msg_start, len(result))\n"
          ]
        },
        {
          "output_type": "display_data",
          "data": {
            "image/png": "[encoded data removed]",
            "text/plain": [
              "<Figure size 432x288 with 2 Axes>"
            ]
          },
          "metadata": {
            "needs_background": "light"
          }
        }
      ]
    },
    {
      "cell_type": "code",
      "metadata": {
        "colab": {
          "base_uri": "https://localhost:8080/"
        },
        "id": "nLYAYhmOc9Ow",
        "outputId": "38ac47af-f66c-4a56-f42b-5142c1dc7a9f"
      },
      "source": [
        "kf = KFold(n_splits=5)\n",
        "score = gb_b.score(Bilbao_train[selected_features],labels_train)\n",
        "print(\"Metrica del modelo de entrenamiento\", score)\n",
        "scores = cross_val_score(gb_b, Bilbao_train[selected_features], labels_train, cv=kf, scoring=\"accuracy\")\n",
        "print(\"Metricas cross_validation\", scores)\n",
        "print(\"Media de cross_validation\", scores.mean())"
      ],
      "execution_count": 30,
      "outputs": [
        {
          "output_type": "stream",
          "name": "stdout",
          "text": [
            "Metrica del modelo de entrenamiento 0.7879464285714286\n",
            "Metricas cross_validation [0.74444444 0.78888889 0.66666667 0.69662921 0.74157303]\n",
            "Media de cross_validation 0.7276404494382022\n"
          ]
        }
      ]
    },
    {
      "cell_type": "markdown",
      "metadata": {
        "id": "2uf99OLT89YC"
      },
      "source": [
        "##### Tres variables más renta"
      ]
    },
    {
      "cell_type": "markdown",
      "metadata": {
        "id": "Dtx22Eqs9Cn-"
      },
      "source": [
        "###### Regresión Logística\n"
      ]
    },
    {
      "cell_type": "code",
      "metadata": {
        "colab": {
          "base_uri": "https://localhost:8080/"
        },
        "id": "HqptW73_9OOs",
        "outputId": "4f082e83-5726-4355-8c71-3ba4e00ee1d9"
      },
      "source": [
        "# Nos quedamos solo con las variables que más correlación tienen de momento\n",
        "selected_features = ['Habitaciones', 'Banhos', \n",
        "                     'Superficie' , 'Renta'  \n",
        "                    ]\n",
        "                    \n",
        "labels_train = Bilbao_train.Precio.values \n",
        "labels_test = Bilbao_test.Precio.values   \n",
        "m_standarizar = preprocessing.StandardScaler()\n",
        "X_train = m_standarizar.fit_transform(Bilbao_train[selected_features])\n",
        "X_test = m_standarizar.transform(Bilbao_test[selected_features])\n",
        "\n",
        "rl_c = LogisticRegression(solver = 'liblinear', random_state=78) \n",
        "rl_c.fit(X_train, labels_train)"
      ],
      "execution_count": 31,
      "outputs": [
        {
          "output_type": "execute_result",
          "data": {
            "text/plain": [
              "LogisticRegression(C=1.0, class_weight=None, dual=False, fit_intercept=True,\n",
              "                   intercept_scaling=1, l1_ratio=None, max_iter=100,\n",
              "                   multi_class='auto', n_jobs=None, penalty='l2',\n",
              "                   random_state=78, solver='liblinear', tol=0.0001, verbose=0,\n",
              "                   warm_start=False)"
            ]
          },
          "metadata": {},
          "execution_count": 31
        }
      ]
    },
    {
      "cell_type": "code",
      "metadata": {
        "colab": {
          "base_uri": "https://localhost:8080/",
          "height": 503
        },
        "id": "bLXpFvLn9UPG",
        "outputId": "9f300ff4-714b-4c36-eb07-162c78715b2f"
      },
      "source": [
        "evaluar_modelo(rl_c, X_test, labels_test)"
      ],
      "execution_count": 32,
      "outputs": [
        {
          "output_type": "stream",
          "name": "stdout",
          "text": [
            "Rendimiento obtenido: 0.7767857142857143\n",
            "Reporte de indicadores:\n",
            "               precision    recall  f1-score   support\n",
            "\n",
            "           B       0.71      0.87      0.78        31\n",
            "           C       1.00      0.09      0.17        11\n",
            "           M       0.81      0.84      0.83        70\n",
            "\n",
            "    accuracy                           0.78       112\n",
            "   macro avg       0.84      0.60      0.59       112\n",
            "weighted avg       0.80      0.78      0.75       112\n",
            "\n",
            "Matriz de confusión:\n"
          ]
        },
        {
          "output_type": "display_data",
          "data": {
            "image/png": "[encoded data removed]",
            "text/plain": [
              "<Figure size 432x288 with 2 Axes>"
            ]
          },
          "metadata": {
            "needs_background": "light"
          }
        }
      ]
    },
    {
      "cell_type": "code",
      "metadata": {
        "colab": {
          "base_uri": "https://localhost:8080/"
        },
        "id": "Htda4suVdm-a",
        "outputId": "4a5521d6-9c8e-4d8a-ff8f-cd2237a9224e"
      },
      "source": [
        "kf = KFold(n_splits=5)\n",
        "score = rl_c.score(X_train,labels_train)\n",
        "print(\"Metrica del modelo de entrenamiento\", score)\n",
        "scores = cross_val_score(rl_c, X_train, labels_train, cv=kf, scoring=\"accuracy\")\n",
        "print(\"Metricas cross_validation\", scores)\n",
        "print(\"Media de cross_validation\", scores.mean())"
      ],
      "execution_count": 33,
      "outputs": [
        {
          "output_type": "stream",
          "name": "stdout",
          "text": [
            "Metrica del modelo de entrenamiento 0.7433035714285714\n",
            "Metricas cross_validation [0.71111111 0.74444444 0.72222222 0.70786517 0.75280899]\n",
            "Media de cross_validation 0.7276903870162297\n"
          ]
        }
      ]
    },
    {
      "cell_type": "markdown",
      "metadata": {
        "id": "xjTZDD13K3cl"
      },
      "source": [
        "###### Arbol de decisión"
      ]
    },
    {
      "cell_type": "code",
      "metadata": {
        "colab": {
          "base_uri": "https://localhost:8080/",
          "height": 503
        },
        "id": "QYIPgf-bGm4m",
        "outputId": "a01b7f9c-fd77-4cea-9130-6dc5681f1475"
      },
      "source": [
        "ad_c = DecisionTreeClassifier(max_depth=6, criterion='gini', random_state=78)\n",
        "ad_c.fit(Bilbao_train[selected_features], labels_train)\n",
        " \n",
        "evaluar_modelo(ad_c, Bilbao_test[selected_features], labels_test)"
      ],
      "execution_count": 34,
      "outputs": [
        {
          "output_type": "stream",
          "name": "stdout",
          "text": [
            "Rendimiento obtenido: 0.75\n",
            "Reporte de indicadores:\n",
            "               precision    recall  f1-score   support\n",
            "\n",
            "           B       0.68      0.84      0.75        31\n",
            "           C       0.50      0.18      0.27        11\n",
            "           M       0.80      0.80      0.80        70\n",
            "\n",
            "    accuracy                           0.75       112\n",
            "   macro avg       0.66      0.61      0.61       112\n",
            "weighted avg       0.74      0.75      0.73       112\n",
            "\n",
            "Matriz de confusión:\n"
          ]
        },
        {
          "output_type": "display_data",
          "data": {
            "image/png": "[encoded data removed]",
            "text/plain": [
              "<Figure size 432x288 with 2 Axes>"
            ]
          },
          "metadata": {
            "needs_background": "light"
          }
        }
      ]
    },
    {
      "cell_type": "code",
      "metadata": {
        "colab": {
          "base_uri": "https://localhost:8080/"
        },
        "id": "4GXd8Y4FdQoT",
        "outputId": "4a28d2ff-df6c-41a6-d270-172a1222141d"
      },
      "source": [
        "kf = KFold(n_splits=5)\n",
        "score = ad_c.score(Bilbao_train[selected_features],labels_train)\n",
        "print(\"Metrica del modelo de entrenamiento\", score)\n",
        "scores = cross_val_score(ad_c, Bilbao_train[selected_features], labels_train, cv=kf, scoring=\"accuracy\")\n",
        "print(\"Metricas cross_validation\", scores)\n",
        "print(\"Media de cross_validation\", scores.mean())"
      ],
      "execution_count": 35,
      "outputs": [
        {
          "output_type": "stream",
          "name": "stdout",
          "text": [
            "Metrica del modelo de entrenamiento 0.8191964285714286\n",
            "Metricas cross_validation [0.75555556 0.77777778 0.78888889 0.70786517 0.70786517]\n",
            "Media de cross_validation 0.7475905118601747\n"
          ]
        }
      ]
    },
    {
      "cell_type": "markdown",
      "metadata": {
        "id": "8XOTxaqwLUnd"
      },
      "source": [
        "###### SVM"
      ]
    },
    {
      "cell_type": "code",
      "metadata": {
        "colab": {
          "base_uri": "https://localhost:8080/",
          "height": 503
        },
        "id": "7b_BaQElK_6d",
        "outputId": "6584d339-3c6f-4a27-d34b-db7b0a1d540a"
      },
      "source": [
        "svm_c = SVC(C = 10, kernel = 'rbf', random_state=78)\n",
        "ovo = OneVsOneClassifier(svm_c)\n",
        "ovo.fit(X_train, labels_train)\n",
        "evaluar_modelo(ovo, X_test, labels_test)"
      ],
      "execution_count": 36,
      "outputs": [
        {
          "output_type": "stream",
          "name": "stdout",
          "text": [
            "Rendimiento obtenido: 0.8035714285714286\n",
            "Reporte de indicadores:\n",
            "               precision    recall  f1-score   support\n",
            "\n",
            "           B       0.79      0.84      0.81        31\n",
            "           C       1.00      0.09      0.17        11\n",
            "           M       0.81      0.90      0.85        70\n",
            "\n",
            "    accuracy                           0.80       112\n",
            "   macro avg       0.87      0.61      0.61       112\n",
            "weighted avg       0.82      0.80      0.77       112\n",
            "\n",
            "Matriz de confusión:\n"
          ]
        },
        {
          "output_type": "display_data",
          "data": {
            "image/png": "[encoded data removed]",
            "text/plain": [
              "<Figure size 432x288 with 2 Axes>"
            ]
          },
          "metadata": {
            "needs_background": "light"
          }
        }
      ]
    },
    {
      "cell_type": "code",
      "metadata": {
        "colab": {
          "base_uri": "https://localhost:8080/"
        },
        "id": "E6Xg_jxBdhJc",
        "outputId": "82fefb33-8134-459a-9b22-2ed89f877bd3"
      },
      "source": [
        "kf = KFold(n_splits=5)\n",
        "score = ovo.score(X_train,labels_train)\n",
        "print(\"Metrica del modelo de entrenamiento\", score)\n",
        "scores = cross_val_score(ovo, X_train, labels_train, cv=kf, scoring=\"accuracy\")\n",
        "print(\"Metricas cross_validation\", scores)\n",
        "print(\"Media de cross_validation\", scores.mean())"
      ],
      "execution_count": 37,
      "outputs": [
        {
          "output_type": "stream",
          "name": "stdout",
          "text": [
            "Metrica del modelo de entrenamiento 0.8013392857142857\n",
            "Metricas cross_validation [0.75555556 0.8        0.74444444 0.73033708 0.74157303]\n",
            "Media de cross_validation 0.7543820224719101\n"
          ]
        }
      ]
    },
    {
      "cell_type": "markdown",
      "metadata": {
        "id": "RCdfcCwll_Xc"
      },
      "source": [
        "###### GradientBoosting"
      ]
    },
    {
      "cell_type": "code",
      "metadata": {
        "colab": {
          "base_uri": "https://localhost:8080/",
          "height": 558
        },
        "id": "6Rrzx9tol_gl",
        "outputId": "8fd80c7b-2f1e-4d36-f141-b7a81486e980"
      },
      "source": [
        "gb_c = GradientBoostingClassifier(n_estimators=10, max_features='auto', random_state=78)\n",
        "\n",
        "gb_c.fit(Bilbao_train[selected_features], labels_train)\n",
        "\n",
        "evaluar_modelo(gb_c, Bilbao_test[selected_features], labels_test)"
      ],
      "execution_count": 38,
      "outputs": [
        {
          "output_type": "stream",
          "name": "stdout",
          "text": [
            "Rendimiento obtenido: 0.7678571428571429\n",
            "Reporte de indicadores:\n",
            "               precision    recall  f1-score   support\n",
            "\n",
            "           B       0.74      0.81      0.77        31\n",
            "           C       0.00      0.00      0.00        11\n",
            "           M       0.78      0.87      0.82        70\n",
            "\n",
            "    accuracy                           0.77       112\n",
            "   macro avg       0.51      0.56      0.53       112\n",
            "weighted avg       0.69      0.77      0.73       112\n",
            "\n",
            "Matriz de confusión:\n"
          ]
        },
        {
          "output_type": "stream",
          "name": "stderr",
          "text": [
            "/usr/local/lib/python3.7/dist-packages/sklearn/metrics/_classification.py:1272: UndefinedMetricWarning: Precision and F-score are ill-defined and being set to 0.0 in labels with no predicted samples. Use `zero_division` parameter to control this behavior.\n",
            "  _warn_prf(average, modifier, msg_start, len(result))\n"
          ]
        },
        {
          "output_type": "display_data",
          "data": {
            "image/png": "[encoded data removed]",
            "text/plain": [
              "<Figure size 432x288 with 2 Axes>"
            ]
          },
          "metadata": {
            "needs_background": "light"
          }
        }
      ]
    },
    {
      "cell_type": "code",
      "metadata": {
        "colab": {
          "base_uri": "https://localhost:8080/"
        },
        "id": "m5wtfXK_dFK6",
        "outputId": "03661805-5a79-43ac-e8c2-8e67b4f7a14d"
      },
      "source": [
        "kf = KFold(n_splits=5)\n",
        "score = gb_c.score(Bilbao_train[selected_features],labels_train)\n",
        "print(\"Metrica del modelo de entrenamiento\", score)\n",
        "scores = cross_val_score(gb_c, Bilbao_train[selected_features], labels_train, cv=kf, scoring=\"accuracy\")\n",
        "print(\"Metricas cross_validation\", scores)\n",
        "print(\"Media de cross_validation\", scores.mean())"
      ],
      "execution_count": 39,
      "outputs": [
        {
          "output_type": "stream",
          "name": "stdout",
          "text": [
            "Metrica del modelo de entrenamiento 0.7879464285714286\n",
            "Metricas cross_validation [0.73333333 0.8        0.67777778 0.70786517 0.74157303]\n",
            "Media de cross_validation 0.7321098626716604\n"
          ]
        }
      ]
    },
    {
      "cell_type": "markdown",
      "metadata": {
        "id": "8azmIYAj9G-v"
      },
      "source": [
        "##### Todas las variables"
      ]
    },
    {
      "cell_type": "markdown",
      "metadata": {
        "id": "lpNV_gWS9JzS"
      },
      "source": [
        "###### Regresión Logística"
      ]
    },
    {
      "cell_type": "code",
      "metadata": {
        "colab": {
          "base_uri": "https://localhost:8080/"
        },
        "id": "vGch44ol9lMZ",
        "outputId": "a5982d8f-b19f-4fbb-bd26-e623f1ce9c74"
      },
      "source": [
        "# Nos quedamos solo con las variables que más correlación tienen de momento\n",
        "selected_features = ['Habitaciones', 'Banhos', \n",
        "                     'Superficie' , 'Barrio', 'Renta'\n",
        "                    ]\n",
        "                    \n",
        "labels_train = Bilbao_train.Precio.values \n",
        "labels_test = Bilbao_test.Precio.values   \n",
        "\n",
        "\n",
        "m_standarizar = preprocessing.StandardScaler()\n",
        "X_train = m_standarizar.fit_transform(Bilbao_train[selected_features])\n",
        "X_test = m_standarizar.transform(Bilbao_test[selected_features])\n",
        "\n",
        "rl_d = LogisticRegression(solver = 'liblinear', random_state=78) \n",
        "rl_d.fit(X_train, labels_train)"
      ],
      "execution_count": 40,
      "outputs": [
        {
          "output_type": "execute_result",
          "data": {
            "text/plain": [
              "LogisticRegression(C=1.0, class_weight=None, dual=False, fit_intercept=True,\n",
              "                   intercept_scaling=1, l1_ratio=None, max_iter=100,\n",
              "                   multi_class='auto', n_jobs=None, penalty='l2',\n",
              "                   random_state=78, solver='liblinear', tol=0.0001, verbose=0,\n",
              "                   warm_start=False)"
            ]
          },
          "metadata": {},
          "execution_count": 40
        }
      ]
    },
    {
      "cell_type": "code",
      "metadata": {
        "colab": {
          "base_uri": "https://localhost:8080/",
          "height": 503
        },
        "id": "cbpMxxh69pSG",
        "outputId": "aa628969-6d3d-4a33-ed87-109d1666b5a4"
      },
      "source": [
        "evaluar_modelo(rl_d, X_test, labels_test)"
      ],
      "execution_count": 41,
      "outputs": [
        {
          "output_type": "stream",
          "name": "stdout",
          "text": [
            "Rendimiento obtenido: 0.7678571428571429\n",
            "Reporte de indicadores:\n",
            "               precision    recall  f1-score   support\n",
            "\n",
            "           B       0.69      0.87      0.77        31\n",
            "           C       1.00      0.09      0.17        11\n",
            "           M       0.81      0.83      0.82        70\n",
            "\n",
            "    accuracy                           0.77       112\n",
            "   macro avg       0.83      0.60      0.58       112\n",
            "weighted avg       0.79      0.77      0.74       112\n",
            "\n",
            "Matriz de confusión:\n"
          ]
        },
        {
          "output_type": "display_data",
          "data": {
            "image/png": "[encoded data removed]",
            "text/plain": [
              "<Figure size 432x288 with 2 Axes>"
            ]
          },
          "metadata": {
            "needs_background": "light"
          }
        }
      ]
    },
    {
      "cell_type": "code",
      "metadata": {
        "colab": {
          "base_uri": "https://localhost:8080/"
        },
        "id": "8O49b7LPdpea",
        "outputId": "0d425793-a151-4255-b624-a0d19ee6af4e"
      },
      "source": [
        "kf = KFold(n_splits=5)\n",
        "score = rl_d.score(X_train,labels_train)\n",
        "print(\"Metrica del modelo de entrenamiento\", score)\n",
        "scores = cross_val_score(rl_d, X_train, labels_train, cv=kf, scoring=\"accuracy\")\n",
        "print(\"Metricas cross_validation\", scores)\n",
        "print(\"Media de cross_validation\", scores.mean())"
      ],
      "execution_count": 42,
      "outputs": [
        {
          "output_type": "stream",
          "name": "stdout",
          "text": [
            "Metrica del modelo de entrenamiento 0.7522321428571429\n",
            "Metricas cross_validation [0.7        0.78888889 0.71111111 0.70786517 0.75280899]\n",
            "Media de cross_validation 0.7321348314606742\n"
          ]
        }
      ]
    },
    {
      "cell_type": "markdown",
      "metadata": {
        "id": "RMXuK_tnG45U"
      },
      "source": [
        "###### Arbol de decisión"
      ]
    },
    {
      "cell_type": "code",
      "metadata": {
        "colab": {
          "base_uri": "https://localhost:8080/",
          "height": 503
        },
        "id": "H5U3i9ciG4P_",
        "outputId": "aacf10ff-e5a0-4d02-bfb1-aa1b66d93729"
      },
      "source": [
        "ad_d = DecisionTreeClassifier(max_depth=6, criterion='gini', random_state=78)\n",
        "ad_d.fit(Bilbao_train[selected_features], labels_train)\n",
        "\n",
        "evaluar_modelo(ad_d, Bilbao_test[selected_features], labels_test)"
      ],
      "execution_count": 43,
      "outputs": [
        {
          "output_type": "stream",
          "name": "stdout",
          "text": [
            "Rendimiento obtenido: 0.75\n",
            "Reporte de indicadores:\n",
            "               precision    recall  f1-score   support\n",
            "\n",
            "           B       0.70      0.74      0.72        31\n",
            "           C       0.60      0.27      0.37        11\n",
            "           M       0.78      0.83      0.81        70\n",
            "\n",
            "    accuracy                           0.75       112\n",
            "   macro avg       0.69      0.61      0.63       112\n",
            "weighted avg       0.74      0.75      0.74       112\n",
            "\n",
            "Matriz de confusión:\n"
          ]
        },
        {
          "output_type": "display_data",
          "data": {
            "image/png": "[encoded data removed]",
            "text/plain": [
              "<Figure size 432x288 with 2 Axes>"
            ]
          },
          "metadata": {
            "needs_background": "light"
          }
        }
      ]
    },
    {
      "cell_type": "code",
      "metadata": {
        "colab": {
          "base_uri": "https://localhost:8080/"
        },
        "id": "5tmxp_6HdNDj",
        "outputId": "fd8cdbd0-6940-4fca-9e99-69b71e603789"
      },
      "source": [
        "kf = KFold(n_splits=5)\n",
        "score = ad_d.score(Bilbao_train[selected_features],labels_train)\n",
        "print(\"Metrica del modelo de entrenamiento\", score)\n",
        "scores = cross_val_score(ad_d, Bilbao_train[selected_features], labels_train, cv=kf, scoring=\"accuracy\")\n",
        "print(\"Metricas cross_validation\", scores)\n",
        "print(\"Media de cross_validation\", scores.mean())"
      ],
      "execution_count": 44,
      "outputs": [
        {
          "output_type": "stream",
          "name": "stdout",
          "text": [
            "Metrica del modelo de entrenamiento 0.8459821428571429\n",
            "Metricas cross_validation [0.76666667 0.77777778 0.8        0.73033708 0.65168539]\n",
            "Media de cross_validation 0.7452933832709114\n"
          ]
        }
      ]
    },
    {
      "cell_type": "markdown",
      "metadata": {
        "id": "HvwaUqO8LfW_"
      },
      "source": [
        "###### SVM"
      ]
    },
    {
      "cell_type": "code",
      "metadata": {
        "colab": {
          "base_uri": "https://localhost:8080/",
          "height": 503
        },
        "id": "IYqTqikYLkxu",
        "outputId": "95ab9894-b8f3-4246-9835-9a56ccbda04b"
      },
      "source": [
        "svc_d = SVC(C = 10, kernel = 'rbf', random_state=78)\n",
        "ovo = OneVsOneClassifier(svc_d)\n",
        "ovo.fit(X_train, labels_train)\n",
        "evaluar_modelo(ovo, X_test, labels_test)"
      ],
      "execution_count": 45,
      "outputs": [
        {
          "output_type": "stream",
          "name": "stdout",
          "text": [
            "Rendimiento obtenido: 0.7946428571428571\n",
            "Reporte de indicadores:\n",
            "               precision    recall  f1-score   support\n",
            "\n",
            "           B       0.76      0.81      0.78        31\n",
            "           C       1.00      0.18      0.31        11\n",
            "           M       0.81      0.89      0.84        70\n",
            "\n",
            "    accuracy                           0.79       112\n",
            "   macro avg       0.85      0.62      0.64       112\n",
            "weighted avg       0.81      0.79      0.77       112\n",
            "\n",
            "Matriz de confusión:\n"
          ]
        },
        {
          "output_type": "display_data",
          "data": {
            "image/png": "[encoded data removed]",
            "text/plain": [
              "<Figure size 432x288 with 2 Axes>"
            ]
          },
          "metadata": {
            "needs_background": "light"
          }
        }
      ]
    },
    {
      "cell_type": "code",
      "metadata": {
        "colab": {
          "base_uri": "https://localhost:8080/"
        },
        "id": "DGXPGONqdiGi",
        "outputId": "132cebc9-d05b-4ae6-b6f8-811988b929ba"
      },
      "source": [
        "kf = KFold(n_splits=5)\n",
        "score = ovo.score(X_train,labels_train)\n",
        "print(\"Metrica del modelo de entrenamiento\", score)\n",
        "scores = cross_val_score(ovo, X_train, labels_train, cv=kf, scoring=\"accuracy\")\n",
        "print(\"Metricas cross_validation\", scores)\n",
        "print(\"Media de cross_validation\", scores.mean())"
      ],
      "execution_count": 46,
      "outputs": [
        {
          "output_type": "stream",
          "name": "stdout",
          "text": [
            "Metrica del modelo de entrenamiento 0.8236607142857143\n",
            "Metricas cross_validation [0.76666667 0.75555556 0.78888889 0.73033708 0.73033708]\n",
            "Media de cross_validation 0.7543570536828964\n"
          ]
        }
      ]
    },
    {
      "cell_type": "markdown",
      "metadata": {
        "id": "p1xlO0grmESz"
      },
      "source": [
        "###### GradientBoosting"
      ]
    },
    {
      "cell_type": "code",
      "metadata": {
        "colab": {
          "base_uri": "https://localhost:8080/",
          "height": 557
        },
        "id": "FRAp8-mrmIzv",
        "outputId": "c437677a-8bac-4706-a448-3a5e632be3bf"
      },
      "source": [
        "gb_d = GradientBoostingClassifier(n_estimators=10, max_features='auto', random_state=78)\n",
        "\n",
        "gb_d.fit(Bilbao_train[selected_features], labels_train)\n",
        "# Prueba Nro. 1\n",
        "evaluar_modelo(gb_d, Bilbao_test[selected_features], labels_test)"
      ],
      "execution_count": 47,
      "outputs": [
        {
          "output_type": "stream",
          "name": "stdout",
          "text": [
            "Rendimiento obtenido: 0.75\n",
            "Reporte de indicadores:\n",
            "               precision    recall  f1-score   support\n",
            "\n",
            "           B       0.69      0.81      0.75        31\n",
            "           C       0.00      0.00      0.00        11\n",
            "           M       0.78      0.84      0.81        70\n",
            "\n",
            "    accuracy                           0.75       112\n",
            "   macro avg       0.49      0.55      0.52       112\n",
            "weighted avg       0.68      0.75      0.71       112\n",
            "\n",
            "Matriz de confusión:\n"
          ]
        },
        {
          "output_type": "stream",
          "name": "stderr",
          "text": [
            "/usr/local/lib/python3.7/dist-packages/sklearn/metrics/_classification.py:1272: UndefinedMetricWarning: Precision and F-score are ill-defined and being set to 0.0 in labels with no predicted samples. Use `zero_division` parameter to control this behavior.\n",
            "  _warn_prf(average, modifier, msg_start, len(result))\n"
          ]
        },
        {
          "output_type": "display_data",
          "data": {
            "image/png": "[encoded data removed]",
            "text/plain": [
              "<Figure size 432x288 with 2 Axes>"
            ]
          },
          "metadata": {
            "needs_background": "light"
          }
        }
      ]
    },
    {
      "cell_type": "code",
      "metadata": {
        "colab": {
          "base_uri": "https://localhost:8080/"
        },
        "id": "epeBLuFVdIRC",
        "outputId": "3aba0c1a-54d7-445c-c88b-6cc94d39b1db"
      },
      "source": [
        "kf = KFold(n_splits=5)\n",
        "score = gb_d.score(Bilbao_train[selected_features],labels_train)\n",
        "print(\"Metrica del modelo de entrenamiento\", score)\n",
        "scores = cross_val_score(gb_d, Bilbao_train[selected_features], labels_train, cv=kf, scoring=\"accuracy\")\n",
        "print(\"Metricas cross_validation\", scores)\n",
        "print(\"Media de cross_validation\", scores.mean())"
      ],
      "execution_count": 48,
      "outputs": [
        {
          "output_type": "stream",
          "name": "stdout",
          "text": [
            "Metrica del modelo de entrenamiento 0.7991071428571429\n",
            "Metricas cross_validation [0.74444444 0.8        0.65555556 0.70786517 0.74157303]\n",
            "Media de cross_validation 0.7298876404494382\n"
          ]
        }
      ]
    }
  ]
}