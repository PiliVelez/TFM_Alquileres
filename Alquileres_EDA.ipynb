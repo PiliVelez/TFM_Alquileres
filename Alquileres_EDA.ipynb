{
  "nbformat": 4,
  "nbformat_minor": 0,
  "metadata": {
    "colab": {
      "name": "Alquileres_EDA.ipynb",
      "provenance": [],
      "collapsed_sections": [],
      "toc_visible": true
    },
    "kernelspec": {
      "name": "python3",
      "display_name": "Python 3"
    },
    "language_info": {
      "name": "python"
    }
  },
  "cells": [
    {
      "cell_type": "markdown",
      "metadata": {
        "id": "tQgR8yPipiOo"
      },
      "source": [
        "### TFM - Predicción de los precios de alquiler a partir de las características de las viviendas"
      ]
    },
    {
      "cell_type": "markdown",
      "metadata": {
        "id": "UfEiukJuYGIQ"
      },
      "source": [
        "##Selección"
      ]
    },
    {
      "cell_type": "markdown",
      "metadata": {
        "id": "LPnZedH5YI0F"
      },
      "source": [
        "Está hecha con el web scraping -- fotocasa_definitivo.ipynb en este mismo repositorio"
      ]
    },
    {
      "cell_type": "markdown",
      "metadata": {
        "id": "Bm5SciMFYC2c"
      },
      "source": [
        "## Preprocesado"
      ]
    },
    {
      "cell_type": "markdown",
      "metadata": {
        "id": "xSSN9xmnpkuM"
      },
      "source": [
        "Importación de librerías necesarias para el desarrollo.\n"
      ]
    },
    {
      "cell_type": "code",
      "metadata": {
        "id": "F_7L59RVo-kD"
      },
      "source": [
        "# Import de todo las librerías que podemos llegar a usar.\n",
        "import pandas as pd\n",
        "import io\n",
        "from google.colab import files\n",
        "\n",
        "import matplotlib.pyplot as plt\n",
        "import numpy as np\n",
        "import itertools\n",
        "import seaborn as sns\n",
        "\n",
        "from scipy import cluster\n",
        "import sklearn.neighbors\n",
        "from sklearn import preprocessing \n",
        "from sklearn.decomposition import PCA\n",
        "\n",
        "import matplotlib.mlab as mlab\n",
        "import matplotlib\n",
        "plt.style.use('ggplot')\n",
        "from matplotlib.pyplot import figure\n",
        "from sklearn.preprocessing import LabelEncoder\n",
        "from sklearn.neighbors import kneighbors_graph\n",
        "\n",
        "%matplotlib inline\n",
        "matplotlib.rcParams['figure.figsize'] = (12,8)\n",
        "\n",
        "pd.options.mode.chained_assignment = None\n",
        "%matplotlib inline\n"
      ],
      "execution_count": 1,
      "outputs": []
    },
    {
      "cell_type": "markdown",
      "metadata": {
        "id": "f-QdBqwZsidl"
      },
      "source": [
        "Hacemos esa primera lectura del dataset, contar, filas, columnas, tipos de datos."
      ]
    },
    {
      "cell_type": "code",
      "metadata": {
        "id": "vPgNVNqlpqMc",
        "colab": {
          "base_uri": "https://localhost:8080/",
          "height": 354
        },
        "outputId": "3b02d3a7-39dd-43ad-961a-944c3c3286a6"
      },
      "source": [
        "#Lectura del dataset\n",
        "pisos_bilbao = pd.read_csv('/content/Bilbao_csv.csv', ';' , encoding= 'unicode_escape', index_col=0)\n",
        "pisos_bilbao.head(5)"
      ],
      "execution_count": 2,
      "outputs": [
        {
          "output_type": "execute_result",
          "data": {
            "text/html": [
              "<div>\n",
              "<style scoped>\n",
              "    .dataframe tbody tr th:only-of-type {\n",
              "        vertical-align: middle;\n",
              "    }\n",
              "\n",
              "    .dataframe tbody tr th {\n",
              "        vertical-align: top;\n",
              "    }\n",
              "\n",
              "    .dataframe thead th {\n",
              "        text-align: right;\n",
              "    }\n",
              "</style>\n",
              "<table border=\"1\" class=\"dataframe\">\n",
              "  <thead>\n",
              "    <tr style=\"text-align: right;\">\n",
              "      <th></th>\n",
              "      <th>Habitaciones</th>\n",
              "      <th>Banhos</th>\n",
              "      <th>Superficie</th>\n",
              "      <th>Terraza</th>\n",
              "      <th>Ascensor</th>\n",
              "      <th>Parking</th>\n",
              "      <th>Tipo_vivienda</th>\n",
              "      <th>Calle</th>\n",
              "      <th>Precio</th>\n",
              "      <th>Barrio</th>\n",
              "      <th>Renta</th>\n",
              "    </tr>\n",
              "    <tr>\n",
              "      <th>Ciudad</th>\n",
              "      <th></th>\n",
              "      <th></th>\n",
              "      <th></th>\n",
              "      <th></th>\n",
              "      <th></th>\n",
              "      <th></th>\n",
              "      <th></th>\n",
              "      <th></th>\n",
              "      <th></th>\n",
              "      <th></th>\n",
              "      <th></th>\n",
              "    </tr>\n",
              "  </thead>\n",
              "  <tbody>\n",
              "    <tr>\n",
              "      <th>Bilbao</th>\n",
              "      <td>2</td>\n",
              "      <td>1</td>\n",
              "      <td>75</td>\n",
              "      <td>N</td>\n",
              "      <td>S</td>\n",
              "      <td>N</td>\n",
              "      <td>Piso</td>\n",
              "      <td>Calle Santutxu; BegoÃ±a - Santutxu</td>\n",
              "      <td>750</td>\n",
              "      <td>Santutxu</td>\n",
              "      <td>18165</td>\n",
              "    </tr>\n",
              "    <tr>\n",
              "      <th>Bilbao</th>\n",
              "      <td>1</td>\n",
              "      <td>1</td>\n",
              "      <td>45</td>\n",
              "      <td>N</td>\n",
              "      <td>S</td>\n",
              "      <td>N</td>\n",
              "      <td>Piso</td>\n",
              "      <td>Alda. Mazarredo; Abando - Albia</td>\n",
              "      <td>780</td>\n",
              "      <td>Abando</td>\n",
              "      <td>40300</td>\n",
              "    </tr>\n",
              "    <tr>\n",
              "      <th>Bilbao</th>\n",
              "      <td>4</td>\n",
              "      <td>2</td>\n",
              "      <td>220</td>\n",
              "      <td>N</td>\n",
              "      <td>S</td>\n",
              "      <td>N</td>\n",
              "      <td>Piso</td>\n",
              "      <td>Ercilla; Abando - Albia</td>\n",
              "      <td>1550</td>\n",
              "      <td>Abando</td>\n",
              "      <td>40300</td>\n",
              "    </tr>\n",
              "    <tr>\n",
              "      <th>Bilbao</th>\n",
              "      <td>3</td>\n",
              "      <td>2</td>\n",
              "      <td>87</td>\n",
              "      <td>N</td>\n",
              "      <td>S</td>\n",
              "      <td>N</td>\n",
              "      <td>Piso</td>\n",
              "      <td>Indautxu Kalea; Indautxu</td>\n",
              "      <td>1200</td>\n",
              "      <td>Indautxu</td>\n",
              "      <td>40401</td>\n",
              "    </tr>\n",
              "    <tr>\n",
              "      <th>Bilbao</th>\n",
              "      <td>1</td>\n",
              "      <td>1</td>\n",
              "      <td>45</td>\n",
              "      <td>N</td>\n",
              "      <td>S</td>\n",
              "      <td>N</td>\n",
              "      <td>Piso</td>\n",
              "      <td>Uribitarte; Abando - Albia</td>\n",
              "      <td>950</td>\n",
              "      <td>Abando</td>\n",
              "      <td>40300</td>\n",
              "    </tr>\n",
              "  </tbody>\n",
              "</table>\n",
              "</div>"
            ],
            "text/plain": [
              "        Habitaciones  Banhos  Superficie  ... Precio    Barrio  Renta\n",
              "Ciudad                                    ...                        \n",
              "Bilbao             2       1          75  ...    750  Santutxu  18165\n",
              "Bilbao             1       1          45  ...    780    Abando  40300\n",
              "Bilbao             4       2         220  ...   1550    Abando  40300\n",
              "Bilbao             3       2          87  ...   1200  Indautxu  40401\n",
              "Bilbao             1       1          45  ...    950    Abando  40300\n",
              "\n",
              "[5 rows x 11 columns]"
            ]
          },
          "metadata": {},
          "execution_count": 2
        }
      ]
    },
    {
      "cell_type": "code",
      "metadata": {
        "id": "CMhc-rj3kZTZ"
      },
      "source": [
        "# Se borra directamente el campo calle, ya que se solo se necesitaba para sacar el barrio \n",
        "# Ese proceso ya se ha hecho en la excel\n",
        "pisos_bilbao= pisos_bilbao.drop(['Calle'], axis=1)"
      ],
      "execution_count": 3,
      "outputs": []
    },
    {
      "cell_type": "code",
      "metadata": {
        "colab": {
          "base_uri": "https://localhost:8080/",
          "height": 235
        },
        "id": "B_qFNpQwk45H",
        "outputId": "fa5952c1-e00b-4a02-b3ee-4e36294e29f7"
      },
      "source": [
        "# Visualización de los 5 primeros registros del dataset.\n",
        "pisos_bilbao.head(5)"
      ],
      "execution_count": 4,
      "outputs": [
        {
          "output_type": "execute_result",
          "data": {
            "text/html": [
              "<div>\n",
              "<style scoped>\n",
              "    .dataframe tbody tr th:only-of-type {\n",
              "        vertical-align: middle;\n",
              "    }\n",
              "\n",
              "    .dataframe tbody tr th {\n",
              "        vertical-align: top;\n",
              "    }\n",
              "\n",
              "    .dataframe thead th {\n",
              "        text-align: right;\n",
              "    }\n",
              "</style>\n",
              "<table border=\"1\" class=\"dataframe\">\n",
              "  <thead>\n",
              "    <tr style=\"text-align: right;\">\n",
              "      <th></th>\n",
              "      <th>Habitaciones</th>\n",
              "      <th>Banhos</th>\n",
              "      <th>Superficie</th>\n",
              "      <th>Terraza</th>\n",
              "      <th>Ascensor</th>\n",
              "      <th>Parking</th>\n",
              "      <th>Tipo_vivienda</th>\n",
              "      <th>Precio</th>\n",
              "      <th>Barrio</th>\n",
              "      <th>Renta</th>\n",
              "    </tr>\n",
              "    <tr>\n",
              "      <th>Ciudad</th>\n",
              "      <th></th>\n",
              "      <th></th>\n",
              "      <th></th>\n",
              "      <th></th>\n",
              "      <th></th>\n",
              "      <th></th>\n",
              "      <th></th>\n",
              "      <th></th>\n",
              "      <th></th>\n",
              "      <th></th>\n",
              "    </tr>\n",
              "  </thead>\n",
              "  <tbody>\n",
              "    <tr>\n",
              "      <th>Bilbao</th>\n",
              "      <td>2</td>\n",
              "      <td>1</td>\n",
              "      <td>75</td>\n",
              "      <td>N</td>\n",
              "      <td>S</td>\n",
              "      <td>N</td>\n",
              "      <td>Piso</td>\n",
              "      <td>750</td>\n",
              "      <td>Santutxu</td>\n",
              "      <td>18165</td>\n",
              "    </tr>\n",
              "    <tr>\n",
              "      <th>Bilbao</th>\n",
              "      <td>1</td>\n",
              "      <td>1</td>\n",
              "      <td>45</td>\n",
              "      <td>N</td>\n",
              "      <td>S</td>\n",
              "      <td>N</td>\n",
              "      <td>Piso</td>\n",
              "      <td>780</td>\n",
              "      <td>Abando</td>\n",
              "      <td>40300</td>\n",
              "    </tr>\n",
              "    <tr>\n",
              "      <th>Bilbao</th>\n",
              "      <td>4</td>\n",
              "      <td>2</td>\n",
              "      <td>220</td>\n",
              "      <td>N</td>\n",
              "      <td>S</td>\n",
              "      <td>N</td>\n",
              "      <td>Piso</td>\n",
              "      <td>1550</td>\n",
              "      <td>Abando</td>\n",
              "      <td>40300</td>\n",
              "    </tr>\n",
              "    <tr>\n",
              "      <th>Bilbao</th>\n",
              "      <td>3</td>\n",
              "      <td>2</td>\n",
              "      <td>87</td>\n",
              "      <td>N</td>\n",
              "      <td>S</td>\n",
              "      <td>N</td>\n",
              "      <td>Piso</td>\n",
              "      <td>1200</td>\n",
              "      <td>Indautxu</td>\n",
              "      <td>40401</td>\n",
              "    </tr>\n",
              "    <tr>\n",
              "      <th>Bilbao</th>\n",
              "      <td>1</td>\n",
              "      <td>1</td>\n",
              "      <td>45</td>\n",
              "      <td>N</td>\n",
              "      <td>S</td>\n",
              "      <td>N</td>\n",
              "      <td>Piso</td>\n",
              "      <td>950</td>\n",
              "      <td>Abando</td>\n",
              "      <td>40300</td>\n",
              "    </tr>\n",
              "  </tbody>\n",
              "</table>\n",
              "</div>"
            ],
            "text/plain": [
              "        Habitaciones  Banhos  Superficie  ... Precio    Barrio  Renta\n",
              "Ciudad                                    ...                        \n",
              "Bilbao             2       1          75  ...    750  Santutxu  18165\n",
              "Bilbao             1       1          45  ...    780    Abando  40300\n",
              "Bilbao             4       2         220  ...   1550    Abando  40300\n",
              "Bilbao             3       2          87  ...   1200  Indautxu  40401\n",
              "Bilbao             1       1          45  ...    950    Abando  40300\n",
              "\n",
              "[5 rows x 10 columns]"
            ]
          },
          "metadata": {},
          "execution_count": 4
        }
      ]
    },
    {
      "cell_type": "markdown",
      "metadata": {
        "id": "w3ynHQbIc42f"
      },
      "source": [
        "#### Estudio inicial de las características del dataset."
      ]
    },
    {
      "cell_type": "code",
      "metadata": {
        "colab": {
          "base_uri": "https://localhost:8080/"
        },
        "id": "QmFGrpoYstKc",
        "outputId": "859c7658-a115-4532-e20a-be3d64709eab"
      },
      "source": [
        "# Información de las columnas del dataset\n",
        "pisos_bilbao.info()"
      ],
      "execution_count": 5,
      "outputs": [
        {
          "output_type": "stream",
          "name": "stdout",
          "text": [
            "<class 'pandas.core.frame.DataFrame'>\n",
            "Index: 564 entries, Bilbao to Bilbao\n",
            "Data columns (total 10 columns):\n",
            " #   Column         Non-Null Count  Dtype \n",
            "---  ------         --------------  ----- \n",
            " 0   Habitaciones   564 non-null    int64 \n",
            " 1   Banhos         564 non-null    int64 \n",
            " 2   Superficie     564 non-null    int64 \n",
            " 3   Terraza        564 non-null    object\n",
            " 4   Ascensor       564 non-null    object\n",
            " 5   Parking        564 non-null    object\n",
            " 6   Tipo_vivienda  564 non-null    object\n",
            " 7   Precio         564 non-null    int64 \n",
            " 8   Barrio         564 non-null    object\n",
            " 9   Renta          564 non-null    int64 \n",
            "dtypes: int64(5), object(5)\n",
            "memory usage: 48.5+ KB\n"
          ]
        }
      ]
    },
    {
      "cell_type": "code",
      "metadata": {
        "id": "GHBhPPMgTSye",
        "colab": {
          "base_uri": "https://localhost:8080/",
          "height": 297
        },
        "outputId": "021b87ce-68bc-4957-d689-1774e53eb4c1"
      },
      "source": [
        "# Información de estadística descriptiva de las columnas numéricas del dataset\n",
        "#pisos_bilbao.describe(include = 'all')\n",
        "pisos_bilbao.describe()"
      ],
      "execution_count": 6,
      "outputs": [
        {
          "output_type": "execute_result",
          "data": {
            "text/html": [
              "<div>\n",
              "<style scoped>\n",
              "    .dataframe tbody tr th:only-of-type {\n",
              "        vertical-align: middle;\n",
              "    }\n",
              "\n",
              "    .dataframe tbody tr th {\n",
              "        vertical-align: top;\n",
              "    }\n",
              "\n",
              "    .dataframe thead th {\n",
              "        text-align: right;\n",
              "    }\n",
              "</style>\n",
              "<table border=\"1\" class=\"dataframe\">\n",
              "  <thead>\n",
              "    <tr style=\"text-align: right;\">\n",
              "      <th></th>\n",
              "      <th>Habitaciones</th>\n",
              "      <th>Banhos</th>\n",
              "      <th>Superficie</th>\n",
              "      <th>Precio</th>\n",
              "      <th>Renta</th>\n",
              "    </tr>\n",
              "  </thead>\n",
              "  <tbody>\n",
              "    <tr>\n",
              "      <th>count</th>\n",
              "      <td>564.000000</td>\n",
              "      <td>564.000000</td>\n",
              "      <td>564.000000</td>\n",
              "      <td>564.000000</td>\n",
              "      <td>564.000000</td>\n",
              "    </tr>\n",
              "    <tr>\n",
              "      <th>mean</th>\n",
              "      <td>2.237589</td>\n",
              "      <td>1.562057</td>\n",
              "      <td>84.723404</td>\n",
              "      <td>1120.730496</td>\n",
              "      <td>31630.363475</td>\n",
              "    </tr>\n",
              "    <tr>\n",
              "      <th>std</th>\n",
              "      <td>0.974053</td>\n",
              "      <td>0.623444</td>\n",
              "      <td>32.299246</td>\n",
              "      <td>384.703233</td>\n",
              "      <td>8166.649655</td>\n",
              "    </tr>\n",
              "    <tr>\n",
              "      <th>min</th>\n",
              "      <td>1.000000</td>\n",
              "      <td>0.000000</td>\n",
              "      <td>0.000000</td>\n",
              "      <td>0.000000</td>\n",
              "      <td>18165.000000</td>\n",
              "    </tr>\n",
              "    <tr>\n",
              "      <th>25%</th>\n",
              "      <td>2.000000</td>\n",
              "      <td>1.000000</td>\n",
              "      <td>65.000000</td>\n",
              "      <td>850.000000</td>\n",
              "      <td>28537.000000</td>\n",
              "    </tr>\n",
              "    <tr>\n",
              "      <th>50%</th>\n",
              "      <td>2.000000</td>\n",
              "      <td>2.000000</td>\n",
              "      <td>79.500000</td>\n",
              "      <td>1050.000000</td>\n",
              "      <td>30491.000000</td>\n",
              "    </tr>\n",
              "    <tr>\n",
              "      <th>75%</th>\n",
              "      <td>3.000000</td>\n",
              "      <td>2.000000</td>\n",
              "      <td>100.000000</td>\n",
              "      <td>1250.000000</td>\n",
              "      <td>40300.000000</td>\n",
              "    </tr>\n",
              "    <tr>\n",
              "      <th>max</th>\n",
              "      <td>9.000000</td>\n",
              "      <td>8.000000</td>\n",
              "      <td>340.000000</td>\n",
              "      <td>5000.000000</td>\n",
              "      <td>40401.000000</td>\n",
              "    </tr>\n",
              "  </tbody>\n",
              "</table>\n",
              "</div>"
            ],
            "text/plain": [
              "       Habitaciones      Banhos  Superficie       Precio         Renta\n",
              "count    564.000000  564.000000  564.000000   564.000000    564.000000\n",
              "mean       2.237589    1.562057   84.723404  1120.730496  31630.363475\n",
              "std        0.974053    0.623444   32.299246   384.703233   8166.649655\n",
              "min        1.000000    0.000000    0.000000     0.000000  18165.000000\n",
              "25%        2.000000    1.000000   65.000000   850.000000  28537.000000\n",
              "50%        2.000000    2.000000   79.500000  1050.000000  30491.000000\n",
              "75%        3.000000    2.000000  100.000000  1250.000000  40300.000000\n",
              "max        9.000000    8.000000  340.000000  5000.000000  40401.000000"
            ]
          },
          "metadata": {},
          "execution_count": 6
        }
      ]
    },
    {
      "cell_type": "markdown",
      "metadata": {
        "id": "Q5FQSJPQFbvO"
      },
      "source": [
        "### Estudio de las características numéricas entre las que se encuentra la variable objetivo."
      ]
    },
    {
      "cell_type": "code",
      "metadata": {
        "id": "Ed6DKoFw8KkE"
      },
      "source": [
        "# Características del dataset\n",
        "features = pisos_bilbao[['Habitaciones', 'Banhos', 'Superficie', 'Terraza', \n",
        "                 'Ascensor', 'Parking', 'Tipo_vivienda', \n",
        "                  'Precio', 'Barrio', 'Renta']]\n"
      ],
      "execution_count": 7,
      "outputs": []
    },
    {
      "cell_type": "code",
      "metadata": {
        "colab": {
          "base_uri": "https://localhost:8080/",
          "height": 235
        },
        "id": "CeRaCUSQrFpt",
        "outputId": "6df81cb4-04a6-46b4-f447-800a6a868cac"
      },
      "source": [
        "# Características numéricas\n",
        "atributos_numericos = features.loc[:, ( 'Precio', 'Habitaciones', 'Banhos', 'Superficie', 'Renta')]\n",
        "atributos_numericos.head()"
      ],
      "execution_count": 8,
      "outputs": [
        {
          "output_type": "execute_result",
          "data": {
            "text/html": [
              "<div>\n",
              "<style scoped>\n",
              "    .dataframe tbody tr th:only-of-type {\n",
              "        vertical-align: middle;\n",
              "    }\n",
              "\n",
              "    .dataframe tbody tr th {\n",
              "        vertical-align: top;\n",
              "    }\n",
              "\n",
              "    .dataframe thead th {\n",
              "        text-align: right;\n",
              "    }\n",
              "</style>\n",
              "<table border=\"1\" class=\"dataframe\">\n",
              "  <thead>\n",
              "    <tr style=\"text-align: right;\">\n",
              "      <th></th>\n",
              "      <th>Precio</th>\n",
              "      <th>Habitaciones</th>\n",
              "      <th>Banhos</th>\n",
              "      <th>Superficie</th>\n",
              "      <th>Renta</th>\n",
              "    </tr>\n",
              "    <tr>\n",
              "      <th>Ciudad</th>\n",
              "      <th></th>\n",
              "      <th></th>\n",
              "      <th></th>\n",
              "      <th></th>\n",
              "      <th></th>\n",
              "    </tr>\n",
              "  </thead>\n",
              "  <tbody>\n",
              "    <tr>\n",
              "      <th>Bilbao</th>\n",
              "      <td>750</td>\n",
              "      <td>2</td>\n",
              "      <td>1</td>\n",
              "      <td>75</td>\n",
              "      <td>18165</td>\n",
              "    </tr>\n",
              "    <tr>\n",
              "      <th>Bilbao</th>\n",
              "      <td>780</td>\n",
              "      <td>1</td>\n",
              "      <td>1</td>\n",
              "      <td>45</td>\n",
              "      <td>40300</td>\n",
              "    </tr>\n",
              "    <tr>\n",
              "      <th>Bilbao</th>\n",
              "      <td>1550</td>\n",
              "      <td>4</td>\n",
              "      <td>2</td>\n",
              "      <td>220</td>\n",
              "      <td>40300</td>\n",
              "    </tr>\n",
              "    <tr>\n",
              "      <th>Bilbao</th>\n",
              "      <td>1200</td>\n",
              "      <td>3</td>\n",
              "      <td>2</td>\n",
              "      <td>87</td>\n",
              "      <td>40401</td>\n",
              "    </tr>\n",
              "    <tr>\n",
              "      <th>Bilbao</th>\n",
              "      <td>950</td>\n",
              "      <td>1</td>\n",
              "      <td>1</td>\n",
              "      <td>45</td>\n",
              "      <td>40300</td>\n",
              "    </tr>\n",
              "  </tbody>\n",
              "</table>\n",
              "</div>"
            ],
            "text/plain": [
              "        Precio  Habitaciones  Banhos  Superficie  Renta\n",
              "Ciudad                                                 \n",
              "Bilbao     750             2       1          75  18165\n",
              "Bilbao     780             1       1          45  40300\n",
              "Bilbao    1550             4       2         220  40300\n",
              "Bilbao    1200             3       2          87  40401\n",
              "Bilbao     950             1       1          45  40300"
            ]
          },
          "metadata": {},
          "execution_count": 8
        }
      ]
    },
    {
      "cell_type": "markdown",
      "metadata": {
        "id": "BMVunY8FSD-c"
      },
      "source": [
        "Representamos gráficamente la distribución de las Características numéricas."
      ]
    },
    {
      "cell_type": "code",
      "metadata": {
        "colab": {
          "base_uri": "https://localhost:8080/",
          "height": 354
        },
        "id": "H34xrseYjR8U",
        "outputId": "c4dcd8a5-d1d3-4aaf-e3e8-62c6673e5d67"
      },
      "source": [
        "plt.figure(figsize=(10, 5))\n",
        "plt.subplot(1,3,1)\n",
        "sns.boxplot(x = 'Habitaciones', data = pisos_bilbao)\n",
        "plt.subplot(1,3,2)\n",
        "sns.boxplot(x = 'Banhos',  data = pisos_bilbao)\n",
        "plt.subplot(1,3,3)\n",
        "sns.boxplot(x = 'Superficie',  data = pisos_bilbao)\n"
      ],
      "execution_count": 10,
      "outputs": [
        {
          "output_type": "execute_result",
          "data": {
            "text/plain": [
              "<matplotlib.axes._subplots.AxesSubplot at 0x7fc2ab9eabd0>"
            ]
          },
          "metadata": {},
          "execution_count": 10
        },
        {
          "output_type": "display_data",
          "data": {
            "image/png": "[encoded data removed]",
            "text/plain": [
              "<Figure size 720x360 with 3 Axes>"
            ]
          },
          "metadata": {
            "needs_background": "light"
          }
        }
      ]
    },
    {
      "cell_type": "code",
      "metadata": {
        "colab": {
          "base_uri": "https://localhost:8080/",
          "height": 354
        },
        "id": "9Kc-zjuPTDFW",
        "outputId": "51689436-184e-4dcb-f7e5-66407820cbf0"
      },
      "source": [
        "#Podré unificarlos\n",
        "plt.figure(figsize=(10, 5))\n",
        "plt.subplot(1,3,1)\n",
        "sns.boxplot(x = 'Renta', data = pisos_bilbao)\n",
        "plt.subplot(1,3,3)\n",
        "sns.boxplot(x = 'Precio',  data = pisos_bilbao)\n"
      ],
      "execution_count": 11,
      "outputs": [
        {
          "output_type": "execute_result",
          "data": {
            "text/plain": [
              "<matplotlib.axes._subplots.AxesSubplot at 0x7fc2ab8df850>"
            ]
          },
          "metadata": {},
          "execution_count": 11
        },
        {
          "output_type": "display_data",
          "data": {
            "image/png": "[encoded data removed]",
            "text/plain": [
              "<Figure size 720x360 with 2 Axes>"
            ]
          },
          "metadata": {
            "needs_background": "light"
          }
        }
      ]
    },
    {
      "cell_type": "markdown",
      "metadata": {
        "id": "_qgEBRtoGCUF"
      },
      "source": [
        "Se representa mediante gráficas de dispersión la relación entre la variable objetivo y el resto de características numéricas."
      ]
    },
    {
      "cell_type": "code",
      "metadata": {
        "colab": {
          "base_uri": "https://localhost:8080/",
          "height": 354
        },
        "id": "caGyZlUc-rW2",
        "outputId": "dfadceb4-1b19-4fe0-811f-2c6d201ff619"
      },
      "source": [
        "plt.figure(figsize=(10, 5))\n",
        "plt.subplot(1,4,1)\n",
        "sns.regplot(x = 'Habitaciones', y='Precio', data = atributos_numericos, color = \"blue\", marker = '.', scatter_kws = {\"alpha\":0.4}, \n",
        "            line_kws = {\"color\":\"r\",\"alpha\":0.7})\n",
        "plt.subplot(1,4,2)\n",
        "sns.regplot(x = 'Banhos', y='Precio', data = atributos_numericos, color = \"blue\", marker = '.', scatter_kws = {\"alpha\":0.4}, \n",
        "            line_kws = {\"color\":\"r\",\"alpha\":0.7})\n",
        "plt.subplot(1,4,3)\n",
        "sns.regplot(x = 'Superficie', y='Precio', data = atributos_numericos, color = \"blue\", marker = '.', scatter_kws = {\"alpha\":0.4}, \n",
        "            line_kws = {\"color\":\"r\",\"alpha\":0.7})\n",
        "plt.subplot(1,4,4)\n",
        "sns.regplot(x = 'Renta', y='Precio', data = atributos_numericos, color = \"blue\", marker = '.', scatter_kws = {\"alpha\":0.4}, \n",
        "            line_kws = {\"color\":\"r\",\"alpha\":0.7})"
      ],
      "execution_count": 12,
      "outputs": [
        {
          "output_type": "execute_result",
          "data": {
            "text/plain": [
              "<matplotlib.axes._subplots.AxesSubplot at 0x7fc2ab7b86d0>"
            ]
          },
          "metadata": {},
          "execution_count": 12
        },
        {
          "output_type": "display_data",
          "data": {
            "image/png": "[encoded data removed]",
            "text/plain": [
              "<Figure size 720x360 with 4 Axes>"
            ]
          },
          "metadata": {
            "needs_background": "light"
          }
        }
      ]
    },
    {
      "cell_type": "code",
      "metadata": {
        "colab": {
          "base_uri": "https://localhost:8080/"
        },
        "id": "7cjEqt0nzfwV",
        "outputId": "5611c12f-f4be-4274-d9ba-2c4111c888ba"
      },
      "source": [
        "# Correlación de las características con respecto a la variable objetivo\n",
        "corr = atributos_numericos.corr()\n",
        "corr.sort_values(['Precio'], ascending=False, inplace=True)\n",
        "corr['Precio']"
      ],
      "execution_count": 13,
      "outputs": [
        {
          "output_type": "execute_result",
          "data": {
            "text/plain": [
              "Precio          1.000000\n",
              "Superficie      0.704394\n",
              "Banhos          0.487449\n",
              "Habitaciones    0.451415\n",
              "Renta           0.276704\n",
              "Name: Precio, dtype: float64"
            ]
          },
          "metadata": {},
          "execution_count": 13
        }
      ]
    },
    {
      "cell_type": "code",
      "metadata": {
        "id": "OdaM12eni3Lw",
        "colab": {
          "base_uri": "https://localhost:8080/",
          "height": 606
        },
        "outputId": "fa957cb1-ac49-4eec-eaf5-d1e5f1787c62"
      },
      "source": [
        "# Obtenemos la correlación por pares de todas las columnas\n",
        "corr = atributos_numericos.corr()\n",
        "# Configuramos la visualización\n",
        "mask = np.triu(np.ones_like(corr, dtype = bool))\n",
        "sns.set(font_scale=0.7)\n",
        "plt.figure(figsize = (10, 10))\n",
        "plt.title('Corelation matrix')\n",
        "sns.heatmap(corr, mask = mask, cmap = 'Spectral_r', linewidths = .5, annot=True)\n",
        "plt.show()"
      ],
      "execution_count": 14,
      "outputs": [
        {
          "output_type": "display_data",
          "data": {
            "image/png": "[encoded data removed]",
            "text/plain": [
              "<Figure size 720x720 with 2 Axes>"
            ]
          },
          "metadata": {}
        }
      ]
    },
    {
      "cell_type": "markdown",
      "metadata": {
        "id": "64aU0YlahWi2"
      },
      "source": [
        "### Estudio de las características no numéricas\n"
      ]
    },
    {
      "cell_type": "markdown",
      "metadata": {
        "id": "sugUoWoaJYgc"
      },
      "source": [
        "Primero se estudia los valores que pueden tomar y en que proporción."
      ]
    },
    {
      "cell_type": "code",
      "metadata": {
        "id": "VJmvVhYNtVPL",
        "colab": {
          "base_uri": "https://localhost:8080/"
        },
        "outputId": "880844fb-dfd8-4b90-f3de-2c27743cb9a3"
      },
      "source": [
        "print(f\"Valores presentes en el campo Habitaciones: {pisos_bilbao['Habitaciones'].unique()} \\n\")\n",
        "print(f\"Conteo de ocurrencias por valor:\\n{pisos_bilbao['Habitaciones'].value_counts()}\")"
      ],
      "execution_count": 15,
      "outputs": [
        {
          "output_type": "stream",
          "name": "stdout",
          "text": [
            "Valores presentes en el campo Habitaciones: [2 1 4 3 6 7 5 9] \n",
            "\n",
            "Conteo de ocurrencias por valor:\n",
            "2    224\n",
            "3    162\n",
            "1    132\n",
            "4     41\n",
            "5      2\n",
            "9      1\n",
            "7      1\n",
            "6      1\n",
            "Name: Habitaciones, dtype: int64\n"
          ]
        }
      ]
    },
    {
      "cell_type": "code",
      "metadata": {
        "id": "6F6Qnx9vXsEk",
        "colab": {
          "base_uri": "https://localhost:8080/"
        },
        "outputId": "8e48bcb0-a4b3-458b-a78d-17b32d15d8a5"
      },
      "source": [
        "print(f\"Valores presentes en el campo Banhos: {pisos_bilbao['Banhos'].unique()} \\n\")\n",
        "print(f\"Conteo de ocurrencias por valor:\\n{pisos_bilbao['Banhos'].value_counts()}\")"
      ],
      "execution_count": 16,
      "outputs": [
        {
          "output_type": "stream",
          "name": "stdout",
          "text": [
            "Valores presentes en el campo Banhos: [1 2 3 0 4 8] \n",
            "\n",
            "Conteo de ocurrencias por valor:\n",
            "2    281\n",
            "1    265\n",
            "3     14\n",
            "0      2\n",
            "8      1\n",
            "4      1\n",
            "Name: Banhos, dtype: int64\n"
          ]
        }
      ]
    },
    {
      "cell_type": "code",
      "metadata": {
        "id": "gc5cz3mhais6",
        "colab": {
          "base_uri": "https://localhost:8080/"
        },
        "outputId": "07a89819-0fde-4033-dde4-c9afffeef1e6"
      },
      "source": [
        "print(f\"Valores presentes en el campos superficie: {pisos_bilbao['Superficie'].unique()} \\n\")\n",
        "print(f\"Conteo de ocurrencias por valor:\\n{pisos_bilbao['Superficie'].value_counts()}\")\n",
        "print(f\"Estadísticas del atributo: \\n{pisos_bilbao['Superficie'].agg(['min', 'max', 'mean', 'std', 'median'])}\")"
      ],
      "execution_count": 17,
      "outputs": [
        {
          "output_type": "stream",
          "name": "stdout",
          "text": [
            "Valores presentes en el campos superficie: [ 75  45 220  87  65  90  60 200 109 101  89  95  72 119  47 140  70  77\n",
            "  74  55 105  85  50  63 115  83  80 143 125 110  78 250  62 120 126 168\n",
            " 106  20 100  52  91  82  81  67 160 173 130 103  92  86  57 107  53  96\n",
            "  54 156  88  48  61 139  98  97 148  94 102 108 145 170 150 136  68 112\n",
            "  84  58 132  69 128  64  39 180 104  73 340 111  56  40  76  93 135  79\n",
            "  46  34   0 230 133 149  71] \n",
            "\n",
            "Conteo de ocurrencias por valor:\n",
            "65     39\n",
            "70     37\n",
            "60     34\n",
            "50     32\n",
            "75     30\n",
            "       ..\n",
            "250     1\n",
            "84      1\n",
            "81      1\n",
            "79      1\n",
            "0       1\n",
            "Name: Superficie, Length: 97, dtype: int64\n",
            "Estadísticas del atributo: \n",
            "min         0.000000\n",
            "max       340.000000\n",
            "mean       84.723404\n",
            "std        32.299246\n",
            "median     79.500000\n",
            "Name: Superficie, dtype: float64\n"
          ]
        }
      ]
    },
    {
      "cell_type": "code",
      "metadata": {
        "id": "kdG0tAowbrBa",
        "colab": {
          "base_uri": "https://localhost:8080/"
        },
        "outputId": "712695ef-b082-409a-906d-d69e2f584b55"
      },
      "source": [
        "print(f\"Conteo de ocurrencias para el campo Terraza:\\n{pisos_bilbao['Terraza'].value_counts()}\")"
      ],
      "execution_count": 18,
      "outputs": [
        {
          "output_type": "stream",
          "name": "stdout",
          "text": [
            "Conteo de ocurrencias para el campo Terraza:\n",
            "N    467\n",
            "S     97\n",
            "Name: Terraza, dtype: int64\n"
          ]
        }
      ]
    },
    {
      "cell_type": "code",
      "metadata": {
        "id": "OCBVXpYCcO9I",
        "colab": {
          "base_uri": "https://localhost:8080/"
        },
        "outputId": "1daf86dd-0d7b-4249-b03f-45249ff5dd2b"
      },
      "source": [
        "print(f\"Conteo de ocurrencias para el campo Ascensor:\\n{pisos_bilbao['Ascensor'].value_counts()}\")"
      ],
      "execution_count": 19,
      "outputs": [
        {
          "output_type": "stream",
          "name": "stdout",
          "text": [
            "Conteo de ocurrencias para el campo Ascensor:\n",
            "S    466\n",
            "N     98\n",
            "Name: Ascensor, dtype: int64\n"
          ]
        }
      ]
    },
    {
      "cell_type": "code",
      "metadata": {
        "id": "sy-gcWd6cXgH",
        "colab": {
          "base_uri": "https://localhost:8080/"
        },
        "outputId": "abad25f5-b3bb-46e3-a738-8ed646a80b83"
      },
      "source": [
        "print(f\"Conteo de ocurrencias para el campo Parking:\\n{pisos_bilbao['Parking'].value_counts()}\")"
      ],
      "execution_count": 20,
      "outputs": [
        {
          "output_type": "stream",
          "name": "stdout",
          "text": [
            "Conteo de ocurrencias para el campo Parking:\n",
            "N    553\n",
            "S     11\n",
            "Name: Parking, dtype: int64\n"
          ]
        }
      ]
    },
    {
      "cell_type": "code",
      "metadata": {
        "id": "_IXsG0VOcw6J",
        "colab": {
          "base_uri": "https://localhost:8080/"
        },
        "outputId": "4dae7458-1bf3-4639-fccb-39d186d28b4d"
      },
      "source": [
        "print(f\"Conteo de ocurrencias para el campo Tipo_vivienda:\\n{pisos_bilbao['Tipo_vivienda'].value_counts()}\")"
      ],
      "execution_count": 21,
      "outputs": [
        {
          "output_type": "stream",
          "name": "stdout",
          "text": [
            "Conteo de ocurrencias para el campo Tipo_vivienda:\n",
            "Piso           487\n",
            "Apartamento     64\n",
            "Ático            6\n",
            "Estudio          3\n",
            "Dúplex           2\n",
            "Loft             2\n",
            "Name: Tipo_vivienda, dtype: int64\n"
          ]
        }
      ]
    },
    {
      "cell_type": "code",
      "metadata": {
        "id": "E1T6uq38lNcW",
        "colab": {
          "base_uri": "https://localhost:8080/"
        },
        "outputId": "93c0ffa2-6905-43fe-a100-0a9b1fb817bc"
      },
      "source": [
        "print(f\"Conteo de ocurrencias para el campo Barrio:\\n{pisos_bilbao['Barrio'].value_counts()}\")"
      ],
      "execution_count": 22,
      "outputs": [
        {
          "output_type": "stream",
          "name": "stdout",
          "text": [
            "Conteo de ocurrencias para el campo Barrio:\n",
            "Abando        128\n",
            "Indautxu      100\n",
            "Ibaiondo       84\n",
            "Deusto         62\n",
            "Basurtu        56\n",
            "Errekalde      53\n",
            "Uribarri       42\n",
            "Santutxu       35\n",
            "Txurdinaga      4\n",
            "Name: Barrio, dtype: int64\n"
          ]
        }
      ]
    },
    {
      "cell_type": "markdown",
      "metadata": {
        "id": "yNTE7yMfsj0e"
      },
      "source": [
        "Ahora estudiamos las características alfanuméricas con respecto a la variable objetivo para ello transformamos las letras en números. En nuestro caso lo podemos hacer así porque no son demasiados valores diferentes. "
      ]
    },
    {
      "cell_type": "code",
      "metadata": {
        "id": "7xj5JNjp8ioq"
      },
      "source": [
        "# Terraza\n",
        "cambios_terraza = {\n",
        "    'S' : 0, \n",
        "    'N' : 1\n",
        "}\n",
        "\n",
        "TerrazaN = features.loc[:, ('Terraza')].map(cambios_terraza).rename('TerrazaN')\n",
        "\n",
        "#Ascensor\n",
        "cambios_ascensor = {\n",
        "    'S' : 0, \n",
        "    'N' : 1\n",
        "}\n",
        "\n",
        "AscensorN = features.loc[:, ('Ascensor')].map(cambios_ascensor).rename('AscensorN')\n",
        "\n",
        "#Parking\n",
        "cambios_parking = {\n",
        "    'S' : 0, \n",
        "    'N' : 1\n",
        "}\n",
        "\n",
        "ParkingN = features.loc[:, ('Parking')].map(cambios_parking).rename('ParkingN') \n",
        "\n",
        "#Tipo_vivienda\n",
        "cambios_tipo_vivienda = {\n",
        "    'Piso' : 0, \n",
        "    'Apartamento' : 1,\n",
        "    'Ático' : 2,\n",
        "    'Estudio' : 3,\n",
        "    'Loft' : 4,\n",
        "    'Dúplex' : 5\n",
        "}\n",
        "\n",
        "Tipo_viviendaN = features.loc[:, ('Tipo_vivienda')].map(cambios_tipo_vivienda).rename('Tipo_viviendaN')\n",
        "\n",
        "#Barrio\n",
        "cambios_barrio = {\n",
        "    'Abando' : 0, \n",
        "    'Indautxu' : 1,\n",
        "    'Ibaiondo' : 2,\n",
        "    'Deusto' : 4,\n",
        "    'Basurtu' : 3,\n",
        "    'Errekalde' : 6,\n",
        "    'Uribarri' : 7,\n",
        "    'Santutxu' : 8,\n",
        "    'Txurdinaga' : 5\n",
        "}\n",
        "\n",
        "BarrioN = features.loc[:, ('Barrio')].map(cambios_barrio).rename('BarrioN')\n"
      ],
      "execution_count": 23,
      "outputs": []
    },
    {
      "cell_type": "code",
      "metadata": {
        "colab": {
          "base_uri": "https://localhost:8080/",
          "height": 235
        },
        "id": "cLUtwsfgjm77",
        "outputId": "65385d0f-4010-4685-bd58-7cc4a1c32bdb"
      },
      "source": [
        "#Concatenamos todas las características que acabamos de transformar, tambien añadimos a variable precio para\n",
        "#poder ver la correlación\n",
        "atributos_no_numericos = pd.concat([TerrazaN, AscensorN, ParkingN , Tipo_viviendaN, BarrioN, pisos_bilbao.Precio], axis=1)\n",
        "atributos_no_numericos.head()"
      ],
      "execution_count": 25,
      "outputs": [
        {
          "output_type": "execute_result",
          "data": {
            "text/html": [
              "<div>\n",
              "<style scoped>\n",
              "    .dataframe tbody tr th:only-of-type {\n",
              "        vertical-align: middle;\n",
              "    }\n",
              "\n",
              "    .dataframe tbody tr th {\n",
              "        vertical-align: top;\n",
              "    }\n",
              "\n",
              "    .dataframe thead th {\n",
              "        text-align: right;\n",
              "    }\n",
              "</style>\n",
              "<table border=\"1\" class=\"dataframe\">\n",
              "  <thead>\n",
              "    <tr style=\"text-align: right;\">\n",
              "      <th></th>\n",
              "      <th>TerrazaN</th>\n",
              "      <th>AscensorN</th>\n",
              "      <th>ParkingN</th>\n",
              "      <th>Tipo_viviendaN</th>\n",
              "      <th>BarrioN</th>\n",
              "      <th>Precio</th>\n",
              "    </tr>\n",
              "    <tr>\n",
              "      <th>Ciudad</th>\n",
              "      <th></th>\n",
              "      <th></th>\n",
              "      <th></th>\n",
              "      <th></th>\n",
              "      <th></th>\n",
              "      <th></th>\n",
              "    </tr>\n",
              "  </thead>\n",
              "  <tbody>\n",
              "    <tr>\n",
              "      <th>Bilbao</th>\n",
              "      <td>1</td>\n",
              "      <td>0</td>\n",
              "      <td>1</td>\n",
              "      <td>0</td>\n",
              "      <td>8</td>\n",
              "      <td>750</td>\n",
              "    </tr>\n",
              "    <tr>\n",
              "      <th>Bilbao</th>\n",
              "      <td>1</td>\n",
              "      <td>0</td>\n",
              "      <td>1</td>\n",
              "      <td>0</td>\n",
              "      <td>0</td>\n",
              "      <td>780</td>\n",
              "    </tr>\n",
              "    <tr>\n",
              "      <th>Bilbao</th>\n",
              "      <td>1</td>\n",
              "      <td>0</td>\n",
              "      <td>1</td>\n",
              "      <td>0</td>\n",
              "      <td>0</td>\n",
              "      <td>1550</td>\n",
              "    </tr>\n",
              "    <tr>\n",
              "      <th>Bilbao</th>\n",
              "      <td>1</td>\n",
              "      <td>0</td>\n",
              "      <td>1</td>\n",
              "      <td>0</td>\n",
              "      <td>1</td>\n",
              "      <td>1200</td>\n",
              "    </tr>\n",
              "    <tr>\n",
              "      <th>Bilbao</th>\n",
              "      <td>1</td>\n",
              "      <td>0</td>\n",
              "      <td>1</td>\n",
              "      <td>0</td>\n",
              "      <td>0</td>\n",
              "      <td>950</td>\n",
              "    </tr>\n",
              "  </tbody>\n",
              "</table>\n",
              "</div>"
            ],
            "text/plain": [
              "        TerrazaN  AscensorN  ParkingN  Tipo_viviendaN  BarrioN  Precio\n",
              "Ciudad                                                                \n",
              "Bilbao         1          0         1               0        8     750\n",
              "Bilbao         1          0         1               0        0     780\n",
              "Bilbao         1          0         1               0        0    1550\n",
              "Bilbao         1          0         1               0        1    1200\n",
              "Bilbao         1          0         1               0        0     950"
            ]
          },
          "metadata": {},
          "execution_count": 25
        }
      ]
    },
    {
      "cell_type": "code",
      "metadata": {
        "colab": {
          "base_uri": "https://localhost:8080/",
          "height": 351
        },
        "id": "VFckRRshZXIT",
        "outputId": "1d91b125-0623-4531-b713-56237f336870"
      },
      "source": [
        "plt.figure(figsize=(10, 5))\n",
        "plt.subplot(1,3,1)\n",
        "sns.regplot(x = 'AscensorN', y='Precio', data = atributos_no_numericos, color = \"blue\", marker = '.', scatter_kws = {\"alpha\":0.4}, \n",
        "            line_kws = {\"color\":\"r\",\"alpha\":0.7})\n",
        "plt.subplot(1,3,2)\n",
        "sns.regplot(x = 'TerrazaN', y='Precio', data = atributos_no_numericos, color = \"blue\", marker = '.', scatter_kws = {\"alpha\":0.4}, \n",
        "            line_kws = {\"color\":\"r\",\"alpha\":0.7})\n",
        "plt.subplot(1,3,3)\n",
        "sns.regplot(x = 'ParkingN', y='Precio', data = atributos_no_numericos, color = \"blue\", marker = '.', scatter_kws = {\"alpha\":0.4}, \n",
        "            line_kws = {\"color\":\"r\",\"alpha\":0.7})\n"
      ],
      "execution_count": 26,
      "outputs": [
        {
          "output_type": "execute_result",
          "data": {
            "text/plain": [
              "<matplotlib.axes._subplots.AxesSubplot at 0x7fc2a342a750>"
            ]
          },
          "metadata": {},
          "execution_count": 26
        },
        {
          "output_type": "display_data",
          "data": {
            "image/png": "[encoded data removed]",
            "text/plain": [
              "<Figure size 720x360 with 3 Axes>"
            ]
          },
          "metadata": {}
        }
      ]
    },
    {
      "cell_type": "code",
      "metadata": {
        "colab": {
          "base_uri": "https://localhost:8080/",
          "height": 297
        },
        "id": "ZJilp3noZ75m",
        "outputId": "1d04f5d4-ab3b-40e4-a90e-1341b94c98d8"
      },
      "source": [
        "plt.subplot(1,2,1)\n",
        "sns.regplot(x = 'BarrioN', y='Precio', data = atributos_no_numericos, color = \"blue\", marker = '.', scatter_kws = {\"alpha\":0.4}, \n",
        "            line_kws = {\"color\":\"r\",\"alpha\":0.7})\n",
        "plt.subplot(1,2,2)\n",
        "sns.regplot(x = 'Tipo_viviendaN', y='Precio', data = atributos_no_numericos, color = \"blue\", marker = '.', scatter_kws = {\"alpha\":0.4}, \n",
        "            line_kws = {\"color\":\"r\",\"alpha\":0.7})"
      ],
      "execution_count": 27,
      "outputs": [
        {
          "output_type": "execute_result",
          "data": {
            "text/plain": [
              "<matplotlib.axes._subplots.AxesSubplot at 0x7fc2a337add0>"
            ]
          },
          "metadata": {},
          "execution_count": 27
        },
        {
          "output_type": "display_data",
          "data": {
            "image/png": "[encoded data removed]",
            "text/plain": [
              "<Figure size 432x288 with 2 Axes>"
            ]
          },
          "metadata": {}
        }
      ]
    },
    {
      "cell_type": "markdown",
      "metadata": {
        "id": "5Ogbx12Mi4aL"
      },
      "source": [
        "Buscamos la correlación con respecto a la variable objetivo."
      ]
    },
    {
      "cell_type": "code",
      "metadata": {
        "colab": {
          "base_uri": "https://localhost:8080/"
        },
        "id": "UnYaKDdSaH5v",
        "outputId": "feb083dc-b61f-4af9-9620-b3c7d21195b5"
      },
      "source": [
        "# Correlación de las variables\n",
        "corr = atributos_no_numericos.corr()\n",
        "corr.sort_values(['Precio'], ascending=False, inplace=True)\n",
        "corr['Precio']"
      ],
      "execution_count": 28,
      "outputs": [
        {
          "output_type": "execute_result",
          "data": {
            "text/plain": [
              "Precio            1.000000\n",
              "ParkingN         -0.010740\n",
              "TerrazaN         -0.024584\n",
              "AscensorN        -0.056570\n",
              "Tipo_viviendaN   -0.144238\n",
              "BarrioN          -0.264302\n",
              "Name: Precio, dtype: float64"
            ]
          },
          "metadata": {},
          "execution_count": 28
        }
      ]
    },
    {
      "cell_type": "code",
      "metadata": {
        "colab": {
          "base_uri": "https://localhost:8080/",
          "height": 606
        },
        "id": "354gFnr4hsmT",
        "outputId": "73319426-4d14-4d27-ac98-b1b7b2a2a26b"
      },
      "source": [
        "# Obtenemos la correlación por pares de todas las columnas\n",
        "corr = atributos_no_numericos.corr()\n",
        "# Configuramos la visualización\n",
        "mask = np.triu(np.ones_like(corr, dtype = bool))\n",
        "sns.set(font_scale=0.7)\n",
        "plt.figure(figsize = (10, 10))\n",
        "plt.title('Corelation matrix')\n",
        "sns.heatmap(corr, mask = mask, cmap = 'Spectral_r', linewidths = .5, annot=True)\n",
        "plt.show()"
      ],
      "execution_count": 29,
      "outputs": [
        {
          "output_type": "display_data",
          "data": {
            "image/png": "[encoded data removed]",
            "text/plain": [
              "<Figure size 720x720 with 2 Axes>"
            ]
          },
          "metadata": {}
        }
      ]
    },
    {
      "cell_type": "code",
      "metadata": {
        "colab": {
          "base_uri": "https://localhost:8080/",
          "height": 235
        },
        "id": "gg-iaWChjYva",
        "outputId": "e393025c-5983-4eaa-830c-877f7fed20ae"
      },
      "source": [
        "#Concatenación de todas las características que terminan formando parte del dataset final.\n",
        "Bilbao_num = pd.concat([atributos_numericos, atributos_no_numericos.BarrioN], axis=1)\n",
        "Bilbao_num.head()"
      ],
      "execution_count": 30,
      "outputs": [
        {
          "output_type": "execute_result",
          "data": {
            "text/html": [
              "<div>\n",
              "<style scoped>\n",
              "    .dataframe tbody tr th:only-of-type {\n",
              "        vertical-align: middle;\n",
              "    }\n",
              "\n",
              "    .dataframe tbody tr th {\n",
              "        vertical-align: top;\n",
              "    }\n",
              "\n",
              "    .dataframe thead th {\n",
              "        text-align: right;\n",
              "    }\n",
              "</style>\n",
              "<table border=\"1\" class=\"dataframe\">\n",
              "  <thead>\n",
              "    <tr style=\"text-align: right;\">\n",
              "      <th></th>\n",
              "      <th>Precio</th>\n",
              "      <th>Habitaciones</th>\n",
              "      <th>Banhos</th>\n",
              "      <th>Superficie</th>\n",
              "      <th>Renta</th>\n",
              "      <th>BarrioN</th>\n",
              "    </tr>\n",
              "    <tr>\n",
              "      <th>Ciudad</th>\n",
              "      <th></th>\n",
              "      <th></th>\n",
              "      <th></th>\n",
              "      <th></th>\n",
              "      <th></th>\n",
              "      <th></th>\n",
              "    </tr>\n",
              "  </thead>\n",
              "  <tbody>\n",
              "    <tr>\n",
              "      <th>Bilbao</th>\n",
              "      <td>750</td>\n",
              "      <td>2</td>\n",
              "      <td>1</td>\n",
              "      <td>75</td>\n",
              "      <td>18165</td>\n",
              "      <td>8</td>\n",
              "    </tr>\n",
              "    <tr>\n",
              "      <th>Bilbao</th>\n",
              "      <td>780</td>\n",
              "      <td>1</td>\n",
              "      <td>1</td>\n",
              "      <td>45</td>\n",
              "      <td>40300</td>\n",
              "      <td>0</td>\n",
              "    </tr>\n",
              "    <tr>\n",
              "      <th>Bilbao</th>\n",
              "      <td>1550</td>\n",
              "      <td>4</td>\n",
              "      <td>2</td>\n",
              "      <td>220</td>\n",
              "      <td>40300</td>\n",
              "      <td>0</td>\n",
              "    </tr>\n",
              "    <tr>\n",
              "      <th>Bilbao</th>\n",
              "      <td>1200</td>\n",
              "      <td>3</td>\n",
              "      <td>2</td>\n",
              "      <td>87</td>\n",
              "      <td>40401</td>\n",
              "      <td>1</td>\n",
              "    </tr>\n",
              "    <tr>\n",
              "      <th>Bilbao</th>\n",
              "      <td>950</td>\n",
              "      <td>1</td>\n",
              "      <td>1</td>\n",
              "      <td>45</td>\n",
              "      <td>40300</td>\n",
              "      <td>0</td>\n",
              "    </tr>\n",
              "  </tbody>\n",
              "</table>\n",
              "</div>"
            ],
            "text/plain": [
              "        Precio  Habitaciones  Banhos  Superficie  Renta  BarrioN\n",
              "Ciudad                                                          \n",
              "Bilbao     750             2       1          75  18165        8\n",
              "Bilbao     780             1       1          45  40300        0\n",
              "Bilbao    1550             4       2         220  40300        0\n",
              "Bilbao    1200             3       2          87  40401        1\n",
              "Bilbao     950             1       1          45  40300        0"
            ]
          },
          "metadata": {},
          "execution_count": 30
        }
      ]
    },
    {
      "cell_type": "markdown",
      "metadata": {
        "id": "05A0TN9Ni_tm"
      },
      "source": [
        "### Busca de Outliers.\n"
      ]
    },
    {
      "cell_type": "markdown",
      "metadata": {
        "id": "i-WpaWHcpnjW"
      },
      "source": [
        "Antes de la representación, para poder representar la superficie convenientemente, vamos a dividirla en rangos.\n"
      ]
    },
    {
      "cell_type": "code",
      "metadata": {
        "colab": {
          "base_uri": "https://localhost:8080/",
          "height": 351
        },
        "id": "JfbQ_AAvsSgu",
        "outputId": "1bb6aff7-f690-4c87-e3e3-400c8ea6fa2d"
      },
      "source": [
        "# seaborn histogram\n",
        "sns.distplot(atributos_numericos['Superficie'], hist=True, kde=False, \n",
        "            color = 'blue',bins = 10,\n",
        "             hist_kws={'edgecolor':'black'})"
      ],
      "execution_count": 31,
      "outputs": [
        {
          "output_type": "stream",
          "name": "stderr",
          "text": [
            "/usr/local/lib/python3.7/dist-packages/seaborn/distributions.py:2619: FutureWarning: `distplot` is a deprecated function and will be removed in a future version. Please adapt your code to use either `displot` (a figure-level function with similar flexibility) or `histplot` (an axes-level function for histograms).\n",
            "  warnings.warn(msg, FutureWarning)\n"
          ]
        },
        {
          "output_type": "execute_result",
          "data": {
            "text/plain": [
              "<matplotlib.axes._subplots.AxesSubplot at 0x7fc2a34aab10>"
            ]
          },
          "metadata": {},
          "execution_count": 31
        },
        {
          "output_type": "display_data",
          "data": {
            "image/png": "[encoded data removed]",
            "text/plain": [
              "<Figure size 432x288 with 1 Axes>"
            ]
          },
          "metadata": {}
        }
      ]
    },
    {
      "cell_type": "code",
      "metadata": {
        "colab": {
          "base_uri": "https://localhost:8080/",
          "height": 310
        },
        "id": "JF4WQwAurcYA",
        "outputId": "f5cb500f-d1e6-4b77-cdb9-dbe295d6bbbb"
      },
      "source": [
        "# matplotlib histogram\n",
        "plt.hist(atributos_numericos['Superficie'],bins =[0,50,100,150,500])\n",
        "\n",
        "# Add labels\n",
        "plt.title('Histogram of Arrival Delays')\n",
        "plt.xlabel('Delay (min)')\n",
        "plt.ylabel('Flights')"
      ],
      "execution_count": 32,
      "outputs": [
        {
          "output_type": "execute_result",
          "data": {
            "text/plain": [
              "Text(0, 0.5, 'Flights')"
            ]
          },
          "metadata": {},
          "execution_count": 32
        },
        {
          "output_type": "display_data",
          "data": {
            "image/png": "[encoded data removed]",
            "text/plain": [
              "<Figure size 432x288 with 1 Axes>"
            ]
          },
          "metadata": {}
        }
      ]
    },
    {
      "cell_type": "code",
      "metadata": {
        "colab": {
          "base_uri": "https://localhost:8080/"
        },
        "id": "W0q-AL84zP9V",
        "outputId": "46987e37-437e-43f0-fd87-77f0250365bc"
      },
      "source": [
        "rango_superficie = [0, 50, 100, 250, 500 ]\n",
        "names = [0, 1, 2, 3]\n",
        "rango_superficieN = pd.cut(features.loc[:, ('Superficie')], rango_superficie, labels = names)\n",
        "rango_superficieN"
      ],
      "execution_count": 33,
      "outputs": [
        {
          "output_type": "execute_result",
          "data": {
            "text/plain": [
              "Ciudad\n",
              "Bilbao    1\n",
              "Bilbao    0\n",
              "Bilbao    2\n",
              "Bilbao    1\n",
              "Bilbao    0\n",
              "         ..\n",
              "Bilbao    2\n",
              "Bilbao    1\n",
              "Bilbao    1\n",
              "Bilbao    1\n",
              "Bilbao    0\n",
              "Name: Superficie, Length: 564, dtype: category\n",
              "Categories (4, int64): [0 < 1 < 2 < 3]"
            ]
          },
          "metadata": {},
          "execution_count": 33
        }
      ]
    },
    {
      "cell_type": "code",
      "metadata": {
        "id": "N5l2XYXtIi2k"
      },
      "source": [
        "rango_superficie = [0, 50, 100, 250, 500 ]\n",
        "names = [0, 1, 2, 3]\n",
        "rango_superficieN = pd.cut(features.loc[:, ('Superficie')], rango_superficie, labels = names)\n",
        "Super_numerica = rango_superficieN"
      ],
      "execution_count": 38,
      "outputs": []
    },
    {
      "cell_type": "code",
      "metadata": {
        "colab": {
          "base_uri": "https://localhost:8080/",
          "height": 450
        },
        "id": "qcnUV8Vw0nnC",
        "outputId": "25e14275-849a-41ce-beac-7b211c72a9b5"
      },
      "source": [
        "Bilbao_super = pd.concat([atributos_numericos['Precio'], rango_superficieN], axis=1)\n",
        "Bilbao_super"
      ],
      "execution_count": 39,
      "outputs": [
        {
          "output_type": "execute_result",
          "data": {
            "text/html": [
              "<div>\n",
              "<style scoped>\n",
              "    .dataframe tbody tr th:only-of-type {\n",
              "        vertical-align: middle;\n",
              "    }\n",
              "\n",
              "    .dataframe tbody tr th {\n",
              "        vertical-align: top;\n",
              "    }\n",
              "\n",
              "    .dataframe thead th {\n",
              "        text-align: right;\n",
              "    }\n",
              "</style>\n",
              "<table border=\"1\" class=\"dataframe\">\n",
              "  <thead>\n",
              "    <tr style=\"text-align: right;\">\n",
              "      <th></th>\n",
              "      <th>Precio</th>\n",
              "      <th>Superficie</th>\n",
              "    </tr>\n",
              "    <tr>\n",
              "      <th>Ciudad</th>\n",
              "      <th></th>\n",
              "      <th></th>\n",
              "    </tr>\n",
              "  </thead>\n",
              "  <tbody>\n",
              "    <tr>\n",
              "      <th>Bilbao</th>\n",
              "      <td>750</td>\n",
              "      <td>1</td>\n",
              "    </tr>\n",
              "    <tr>\n",
              "      <th>Bilbao</th>\n",
              "      <td>780</td>\n",
              "      <td>0</td>\n",
              "    </tr>\n",
              "    <tr>\n",
              "      <th>Bilbao</th>\n",
              "      <td>1550</td>\n",
              "      <td>2</td>\n",
              "    </tr>\n",
              "    <tr>\n",
              "      <th>Bilbao</th>\n",
              "      <td>1200</td>\n",
              "      <td>1</td>\n",
              "    </tr>\n",
              "    <tr>\n",
              "      <th>Bilbao</th>\n",
              "      <td>950</td>\n",
              "      <td>0</td>\n",
              "    </tr>\n",
              "    <tr>\n",
              "      <th>...</th>\n",
              "      <td>...</td>\n",
              "      <td>...</td>\n",
              "    </tr>\n",
              "    <tr>\n",
              "      <th>Bilbao</th>\n",
              "      <td>1350</td>\n",
              "      <td>2</td>\n",
              "    </tr>\n",
              "    <tr>\n",
              "      <th>Bilbao</th>\n",
              "      <td>2000</td>\n",
              "      <td>1</td>\n",
              "    </tr>\n",
              "    <tr>\n",
              "      <th>Bilbao</th>\n",
              "      <td>1650</td>\n",
              "      <td>1</td>\n",
              "    </tr>\n",
              "    <tr>\n",
              "      <th>Bilbao</th>\n",
              "      <td>1400</td>\n",
              "      <td>1</td>\n",
              "    </tr>\n",
              "    <tr>\n",
              "      <th>Bilbao</th>\n",
              "      <td>1000</td>\n",
              "      <td>0</td>\n",
              "    </tr>\n",
              "  </tbody>\n",
              "</table>\n",
              "<p>564 rows × 2 columns</p>\n",
              "</div>"
            ],
            "text/plain": [
              "        Precio Superficie\n",
              "Ciudad                   \n",
              "Bilbao     750          1\n",
              "Bilbao     780          0\n",
              "Bilbao    1550          2\n",
              "Bilbao    1200          1\n",
              "Bilbao     950          0\n",
              "...        ...        ...\n",
              "Bilbao    1350          2\n",
              "Bilbao    2000          1\n",
              "Bilbao    1650          1\n",
              "Bilbao    1400          1\n",
              "Bilbao    1000          0\n",
              "\n",
              "[564 rows x 2 columns]"
            ]
          },
          "metadata": {},
          "execution_count": 39
        }
      ]
    },
    {
      "cell_type": "code",
      "metadata": {
        "colab": {
          "base_uri": "https://localhost:8080/",
          "height": 623
        },
        "id": "WrU_nio_YvZI",
        "outputId": "02272abe-c8f0-467b-8819-9722372320f3"
      },
      "source": [
        "plt.figure(figsize=(10, 10))\n",
        "plt.subplot(1,3,1)\n",
        "sns.boxplot(x = 'Habitaciones', y = 'Precio', data = atributos_numericos)\n",
        "plt.subplot(1,3,2)\n",
        "sns.boxplot(x = 'Banhos', y = 'Precio', data = atributos_numericos)\n",
        "plt.subplot(1,3,3)\n",
        "sns.boxplot(x = 'Superficie', y = 'Precio', data = Bilbao_super)"
      ],
      "execution_count": 41,
      "outputs": [
        {
          "output_type": "execute_result",
          "data": {
            "text/plain": [
              "<matplotlib.axes._subplots.AxesSubplot at 0x7fc2a216ffd0>"
            ]
          },
          "metadata": {},
          "execution_count": 41
        },
        {
          "output_type": "display_data",
          "data": {
            "image/png": "[encoded data removed]",
            "text/plain": [
              "<Figure size 720x720 with 3 Axes>"
            ]
          },
          "metadata": {}
        }
      ]
    },
    {
      "cell_type": "markdown",
      "metadata": {
        "id": "cTFNHpQ_31sx"
      },
      "source": [
        "Dejaremos en principio los dos valoes extremos, porque aunque lo sean pueden ser posibles."
      ]
    },
    {
      "cell_type": "code",
      "metadata": {
        "colab": {
          "base_uri": "https://localhost:8080/",
          "height": 235
        },
        "id": "S3dqHd-eFehC",
        "outputId": "6043df85-1ca8-403c-a72e-0a76c0437dcc"
      },
      "source": [
        "pisos_bilbao = Bilbao_num[Bilbao_num.Precio > 0]\n",
        "\n",
        "pisos_bilbao = pisos_bilbao[pisos_bilbao.Superficie > 0]\n",
        "pisos_bilbao = pisos_bilbao[pisos_bilbao.Banhos > 0]\n",
        "pisos_bilbao.head(5)"
      ],
      "execution_count": 42,
      "outputs": [
        {
          "output_type": "execute_result",
          "data": {
            "text/html": [
              "<div>\n",
              "<style scoped>\n",
              "    .dataframe tbody tr th:only-of-type {\n",
              "        vertical-align: middle;\n",
              "    }\n",
              "\n",
              "    .dataframe tbody tr th {\n",
              "        vertical-align: top;\n",
              "    }\n",
              "\n",
              "    .dataframe thead th {\n",
              "        text-align: right;\n",
              "    }\n",
              "</style>\n",
              "<table border=\"1\" class=\"dataframe\">\n",
              "  <thead>\n",
              "    <tr style=\"text-align: right;\">\n",
              "      <th></th>\n",
              "      <th>Precio</th>\n",
              "      <th>Habitaciones</th>\n",
              "      <th>Banhos</th>\n",
              "      <th>Superficie</th>\n",
              "      <th>Renta</th>\n",
              "      <th>BarrioN</th>\n",
              "    </tr>\n",
              "    <tr>\n",
              "      <th>Ciudad</th>\n",
              "      <th></th>\n",
              "      <th></th>\n",
              "      <th></th>\n",
              "      <th></th>\n",
              "      <th></th>\n",
              "      <th></th>\n",
              "    </tr>\n",
              "  </thead>\n",
              "  <tbody>\n",
              "    <tr>\n",
              "      <th>Bilbao</th>\n",
              "      <td>750</td>\n",
              "      <td>2</td>\n",
              "      <td>1</td>\n",
              "      <td>75</td>\n",
              "      <td>18165</td>\n",
              "      <td>8</td>\n",
              "    </tr>\n",
              "    <tr>\n",
              "      <th>Bilbao</th>\n",
              "      <td>780</td>\n",
              "      <td>1</td>\n",
              "      <td>1</td>\n",
              "      <td>45</td>\n",
              "      <td>40300</td>\n",
              "      <td>0</td>\n",
              "    </tr>\n",
              "    <tr>\n",
              "      <th>Bilbao</th>\n",
              "      <td>1550</td>\n",
              "      <td>4</td>\n",
              "      <td>2</td>\n",
              "      <td>220</td>\n",
              "      <td>40300</td>\n",
              "      <td>0</td>\n",
              "    </tr>\n",
              "    <tr>\n",
              "      <th>Bilbao</th>\n",
              "      <td>1200</td>\n",
              "      <td>3</td>\n",
              "      <td>2</td>\n",
              "      <td>87</td>\n",
              "      <td>40401</td>\n",
              "      <td>1</td>\n",
              "    </tr>\n",
              "    <tr>\n",
              "      <th>Bilbao</th>\n",
              "      <td>950</td>\n",
              "      <td>1</td>\n",
              "      <td>1</td>\n",
              "      <td>45</td>\n",
              "      <td>40300</td>\n",
              "      <td>0</td>\n",
              "    </tr>\n",
              "  </tbody>\n",
              "</table>\n",
              "</div>"
            ],
            "text/plain": [
              "        Precio  Habitaciones  Banhos  Superficie  Renta  BarrioN\n",
              "Ciudad                                                          \n",
              "Bilbao     750             2       1          75  18165        8\n",
              "Bilbao     780             1       1          45  40300        0\n",
              "Bilbao    1550             4       2         220  40300        0\n",
              "Bilbao    1200             3       2          87  40401        1\n",
              "Bilbao     950             1       1          45  40300        0"
            ]
          },
          "metadata": {},
          "execution_count": 42
        }
      ]
    },
    {
      "cell_type": "markdown",
      "metadata": {
        "id": "Rfhf2HoJU9aj"
      },
      "source": [
        "Se descarga el CSV para los demás cuadernos"
      ]
    },
    {
      "cell_type": "code",
      "metadata": {
        "colab": {
          "base_uri": "https://localhost:8080/",
          "height": 17
        },
        "id": "JG8PunhmU9Ma",
        "outputId": "c1b5969e-7648-4f00-eec3-e386f098b317"
      },
      "source": [
        "\n",
        "output = pd.DataFrame({ 'Habitaciones': pisos_bilbao['Habitaciones'], 'Banhos': pisos_bilbao['Banhos'], \n",
        "                       'Superficie': pisos_bilbao['Superficie'],  'Barrio': pisos_bilbao['BarrioN'],\n",
        "                       'Renta': pisos_bilbao['Renta'], 'Precio': pisos_bilbao['Precio']})\n",
        "\n",
        "with open('pisos_bilbao.csv', 'w') as f:\n",
        "  output.to_csv(f,  index = False)\n",
        "  \n",
        "files.download('pisos_bilbao.csv')"
      ],
      "execution_count": null,
      "outputs": [
        {
          "output_type": "display_data",
          "data": {
            "application/javascript": [
              "\n",
              "    async function download(id, filename, size) {\n",
              "      if (!google.colab.kernel.accessAllowed) {\n",
              "        return;\n",
              "      }\n",
              "      const div = document.createElement('div');\n",
              "      const label = document.createElement('label');\n",
              "      label.textContent = `Downloading \"${filename}\": `;\n",
              "      div.appendChild(label);\n",
              "      const progress = document.createElement('progress');\n",
              "      progress.max = size;\n",
              "      div.appendChild(progress);\n",
              "      document.body.appendChild(div);\n",
              "\n",
              "      const buffers = [];\n",
              "      let downloaded = 0;\n",
              "\n",
              "      const channel = await google.colab.kernel.comms.open(id);\n",
              "      // Send a message to notify the kernel that we're ready.\n",
              "      channel.send({})\n",
              "\n",
              "      for await (const message of channel.messages) {\n",
              "        // Send a message to notify the kernel that we're ready.\n",
              "        channel.send({})\n",
              "        if (message.buffers) {\n",
              "          for (const buffer of message.buffers) {\n",
              "            buffers.push(buffer);\n",
              "            downloaded += buffer.byteLength;\n",
              "            progress.value = downloaded;\n",
              "          }\n",
              "        }\n",
              "      }\n",
              "      const blob = new Blob(buffers, {type: 'application/binary'});\n",
              "      const a = document.createElement('a');\n",
              "      a.href = window.URL.createObjectURL(blob);\n",
              "      a.download = filename;\n",
              "      div.appendChild(a);\n",
              "      a.click();\n",
              "      div.remove();\n",
              "    }\n",
              "  "
            ],
            "text/plain": [
              "<IPython.core.display.Javascript object>"
            ]
          },
          "metadata": {}
        },
        {
          "output_type": "display_data",
          "data": {
            "application/javascript": [
              "download(\"download_08e1431e-6ec2-49b6-9b2f-5f261495cb9d\", \"pisos_bilbao.csv\", 11152)"
            ],
            "text/plain": [
              "<IPython.core.display.Javascript object>"
            ]
          },
          "metadata": {}
        }
      ]
    }
  ]
}