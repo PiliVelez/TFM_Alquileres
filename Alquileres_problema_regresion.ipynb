{
  "nbformat": 4,
  "nbformat_minor": 0,
  "metadata": {
    "colab": {
      "name": "Alquileres_problema_regresion.ipynb",
      "provenance": [],
      "collapsed_sections": [],
      "toc_visible": true
    },
    "kernelspec": {
      "name": "python3",
      "display_name": "Python 3"
    },
    "language_info": {
      "name": "python"
    }
  },
  "cells": [
    {
      "cell_type": "markdown",
      "metadata": {
        "id": "tQgR8yPipiOo"
      },
      "source": [
        "### TFM - Predicción de los precios de Alquiler a partir de las características."
      ]
    },
    {
      "cell_type": "markdown",
      "metadata": {
        "id": "xSSN9xmnpkuM"
      },
      "source": [
        "Importación de librerías necesarias para el desarrollo.\n"
      ]
    },
    {
      "cell_type": "code",
      "metadata": {
        "id": "F_7L59RVo-kD"
      },
      "source": [
        "# Import de todo las librerías que podemos llegar a usar.\n",
        "import pandas as pd\n",
        "import io\n",
        "from google.colab import files\n",
        "\n",
        "import matplotlib.pyplot as plt\n",
        "import numpy as np\n",
        "import itertools\n",
        "import seaborn as sns\n",
        "\n",
        "from scipy import cluster\n",
        "import sklearn.neighbors\n",
        "from sklearn import preprocessing \n",
        "from sklearn.decomposition import PCA\n",
        "\n",
        "import matplotlib.mlab as mlab\n",
        "import matplotlib\n",
        "plt.style.use('ggplot')\n",
        "from matplotlib.pyplot import figure\n",
        "from sklearn.preprocessing import LabelEncoder\n",
        "from sklearn.neighbors import kneighbors_graph\n",
        "\n",
        "%matplotlib inline\n",
        "matplotlib.rcParams['figure.figsize'] = (12,8)\n",
        "\n",
        "pd.options.mode.chained_assignment = None\n",
        "%matplotlib inline\n",
        "\n",
        "from sklearn import linear_model\n",
        "from sklearn.tree import DecisionTreeRegressor\n",
        "from sklearn.svm import SVR\n",
        "from sklearn.linear_model import Ridge\n",
        "from sklearn.linear_model import Lasso\n",
        "from sklearn.linear_model import ElasticNet\n",
        "from sklearn.ensemble import GradientBoostingRegressor\n",
        "from sklearn.model_selection import cross_val_score\n",
        "\n",
        "from sklearn.model_selection import GridSearchCV\n",
        "from scipy import stats\n",
        "from sklearn.model_selection import KFold\n",
        "from sklearn.model_selection import RepeatedKFold\n",
        "from sklearn.metrics import mean_squared_error, r2_score, mean_absolute_error\n",
        "# División aleatoria pero con la librería model_selection\n",
        "from sklearn.model_selection import train_test_split "
      ],
      "execution_count": null,
      "outputs": []
    },
    {
      "cell_type": "markdown",
      "metadata": {
        "id": "f-QdBqwZsidl"
      },
      "source": [
        "Hacemos esa primera lectura del dataset, contar, filas, columnas, tipos de datos."
      ]
    },
    {
      "cell_type": "code",
      "metadata": {
        "id": "vPgNVNqlpqMc",
        "colab": {
          "base_uri": "https://localhost:8080/",
          "height": 204
        },
        "outputId": "c103790c-aeb4-4125-8e55-3ba0fd77db61"
      },
      "source": [
        "#Lectura del dataset\n",
        "pisos_bilbao = pd.read_csv('/content/pisos_bilbao.csv', ',' , encoding= 'unicode_escape')\n",
        "pisos_bilbao.head(5)"
      ],
      "execution_count": null,
      "outputs": [
        {
          "output_type": "execute_result",
          "data": {
            "text/html": [
              "<div>\n",
              "<style scoped>\n",
              "    .dataframe tbody tr th:only-of-type {\n",
              "        vertical-align: middle;\n",
              "    }\n",
              "\n",
              "    .dataframe tbody tr th {\n",
              "        vertical-align: top;\n",
              "    }\n",
              "\n",
              "    .dataframe thead th {\n",
              "        text-align: right;\n",
              "    }\n",
              "</style>\n",
              "<table border=\"1\" class=\"dataframe\">\n",
              "  <thead>\n",
              "    <tr style=\"text-align: right;\">\n",
              "      <th></th>\n",
              "      <th>Habitaciones</th>\n",
              "      <th>Banhos</th>\n",
              "      <th>Superficie</th>\n",
              "      <th>Barrio</th>\n",
              "      <th>Renta</th>\n",
              "      <th>Precio</th>\n",
              "    </tr>\n",
              "  </thead>\n",
              "  <tbody>\n",
              "    <tr>\n",
              "      <th>0</th>\n",
              "      <td>2</td>\n",
              "      <td>1</td>\n",
              "      <td>75</td>\n",
              "      <td>8</td>\n",
              "      <td>18165</td>\n",
              "      <td>750</td>\n",
              "    </tr>\n",
              "    <tr>\n",
              "      <th>1</th>\n",
              "      <td>1</td>\n",
              "      <td>1</td>\n",
              "      <td>45</td>\n",
              "      <td>0</td>\n",
              "      <td>40300</td>\n",
              "      <td>780</td>\n",
              "    </tr>\n",
              "    <tr>\n",
              "      <th>2</th>\n",
              "      <td>4</td>\n",
              "      <td>2</td>\n",
              "      <td>220</td>\n",
              "      <td>0</td>\n",
              "      <td>40300</td>\n",
              "      <td>1550</td>\n",
              "    </tr>\n",
              "    <tr>\n",
              "      <th>3</th>\n",
              "      <td>3</td>\n",
              "      <td>2</td>\n",
              "      <td>87</td>\n",
              "      <td>1</td>\n",
              "      <td>40401</td>\n",
              "      <td>1200</td>\n",
              "    </tr>\n",
              "    <tr>\n",
              "      <th>4</th>\n",
              "      <td>1</td>\n",
              "      <td>1</td>\n",
              "      <td>45</td>\n",
              "      <td>0</td>\n",
              "      <td>40300</td>\n",
              "      <td>950</td>\n",
              "    </tr>\n",
              "  </tbody>\n",
              "</table>\n",
              "</div>"
            ],
            "text/plain": [
              "   Habitaciones  Banhos  Superficie  Barrio  Renta  Precio\n",
              "0             2       1          75       8  18165     750\n",
              "1             1       1          45       0  40300     780\n",
              "2             4       2         220       0  40300    1550\n",
              "3             3       2          87       1  40401    1200\n",
              "4             1       1          45       0  40300     950"
            ]
          },
          "metadata": {},
          "execution_count": 2
        }
      ]
    },
    {
      "cell_type": "markdown",
      "metadata": {
        "id": "B5Kbd7RKYWx2"
      },
      "source": [
        "#### Tres variables."
      ]
    },
    {
      "cell_type": "markdown",
      "metadata": {
        "id": "lpB308jPYdk4"
      },
      "source": [
        "##### Regresión "
      ]
    },
    {
      "cell_type": "markdown",
      "metadata": {
        "id": "5lbFYcdYj-KT"
      },
      "source": [
        "primero tenemos que preparar los ficheros, separarlos en train y test, separar las etiquetas del fichero para poder entrenar el modelo."
      ]
    },
    {
      "cell_type": "code",
      "metadata": {
        "colab": {
          "base_uri": "https://localhost:8080/"
        },
        "id": "cMd2FNkLi0v_",
        "outputId": "21993722-0ed3-420d-bf5a-ed0ec54f117c"
      },
      "source": [
        "Bilbao_train, Bilbao_test = train_test_split(pisos_bilbao, test_size = 0.20, random_state = 78)\n",
        "# Advertir de los parámetros interesantes como stratify\n",
        "\n",
        "print(\"Ejemplos usados para entrenar: \", len(Bilbao_train))\n",
        "print(\"Ejemplos usados para test: \", len(Bilbao_test))"
      ],
      "execution_count": null,
      "outputs": [
        {
          "output_type": "stream",
          "name": "stdout",
          "text": [
            "Ejemplos usados para entrenar:  448\n",
            "Ejemplos usados para test:  112\n"
          ]
        }
      ]
    },
    {
      "cell_type": "code",
      "metadata": {
        "id": "Hfz1IzZymniS"
      },
      "source": [
        "y_train = Bilbao_train['Precio']\n",
        "y_test = Bilbao_test['Precio']"
      ],
      "execution_count": null,
      "outputs": []
    },
    {
      "cell_type": "code",
      "metadata": {
        "id": "1fZH3f2Zmz0l",
        "colab": {
          "base_uri": "https://localhost:8080/"
        },
        "outputId": "0cf4bed4-c736-4dc5-ff6c-51c2abf64503"
      },
      "source": [
        "y_train.describe()"
      ],
      "execution_count": null,
      "outputs": [
        {
          "output_type": "execute_result",
          "data": {
            "text/plain": [
              "count     448.000000\n",
              "mean     1109.569196\n",
              "std       351.877851\n",
              "min       360.000000\n",
              "25%       850.000000\n",
              "50%      1000.000000\n",
              "75%      1200.000000\n",
              "max      3000.000000\n",
              "Name: Precio, dtype: float64"
            ]
          },
          "metadata": {},
          "execution_count": 30
        }
      ]
    },
    {
      "cell_type": "code",
      "metadata": {
        "id": "Zc2lzLtOm0_6",
        "colab": {
          "base_uri": "https://localhost:8080/"
        },
        "outputId": "1fb0f9ca-a04a-4c0a-b4ed-1dfa27ce7eea"
      },
      "source": [
        "y_test.describe()"
      ],
      "execution_count": null,
      "outputs": [
        {
          "output_type": "execute_result",
          "data": {
            "text/plain": [
              "count     112.000000\n",
              "mean     1181.964286\n",
              "std       484.407485\n",
              "min       700.000000\n",
              "25%       890.000000\n",
              "50%      1100.000000\n",
              "75%      1300.000000\n",
              "max      5000.000000\n",
              "Name: Precio, dtype: float64"
            ]
          },
          "metadata": {},
          "execution_count": 31
        }
      ]
    },
    {
      "cell_type": "code",
      "metadata": {
        "id": "6OhfR9y3kwAL"
      },
      "source": [
        "# Nos quedamos solo con las variables que más correlación tienen de momento\n",
        "selected_features = ['Habitaciones', 'Banhos', \n",
        "                     'Superficie'   \n",
        "                    ]"
      ],
      "execution_count": null,
      "outputs": []
    },
    {
      "cell_type": "code",
      "metadata": {
        "id": "Lnv2gN8bkqEq"
      },
      "source": [
        "# Estandarizamos las variables.\n",
        "m_standarizar = preprocessing.StandardScaler()\n",
        "X_train = m_standarizar.fit_transform(Bilbao_train[selected_features])\n",
        "X_test = m_standarizar.transform(Bilbao_test[selected_features])\n"
      ],
      "execution_count": null,
      "outputs": []
    },
    {
      "cell_type": "code",
      "metadata": {
        "colab": {
          "base_uri": "https://localhost:8080/"
        },
        "id": "dM0g0BtWnjLy",
        "outputId": "79f34bd8-1153-4c3b-bc88-4275fde73d20"
      },
      "source": [
        "rl_a = linear_model.LinearRegression()\n",
        "rl_a.fit(X_train, y_train)"
      ],
      "execution_count": null,
      "outputs": [
        {
          "output_type": "execute_result",
          "data": {
            "text/plain": [
              "LinearRegression(copy_X=True, fit_intercept=True, n_jobs=None, normalize=False)"
            ]
          },
          "metadata": {},
          "execution_count": 34
        }
      ]
    },
    {
      "cell_type": "code",
      "metadata": {
        "id": "_VInjD-ynlcp",
        "colab": {
          "base_uri": "https://localhost:8080/"
        },
        "outputId": "c694e0ce-d59e-4e07-e5da-cb560d2a4d23"
      },
      "source": [
        "y_pred = rl_a.predict(X_test)\n",
        "\n",
        "y = np.rint(y_pred) \n",
        "y = y.astype(int) \n",
        "resultado_rl_a = np.hstack(y)\n",
        "resultado_rl_a = r2_score(y_test, resultado_rl_a)\n",
        "resultado_rl_a"
      ],
      "execution_count": null,
      "outputs": [
        {
          "output_type": "execute_result",
          "data": {
            "text/plain": [
              "0.6209904618726518"
            ]
          },
          "metadata": {},
          "execution_count": 35
        }
      ]
    },
    {
      "cell_type": "code",
      "metadata": {
        "colab": {
          "base_uri": "https://localhost:8080/"
        },
        "id": "HBQY8LGkwhfj",
        "outputId": "584b13fe-392c-40ee-92b6-9585fda43a41"
      },
      "source": [
        "kf = KFold(n_splits=5)\n",
        "score = rl_a.score(X_train,y_train)\n",
        "print(\"Metrica del modelo de entrenamiento\", score)\n",
        "scores = cross_val_score(rl_a, X_train, y_train, cv=kf, scoring=\"r2\")\n",
        "print(\"Metricas cross_validation\", scores)\n",
        "print(\"Media de cross_validation\", scores.mean())"
      ],
      "execution_count": null,
      "outputs": [
        {
          "output_type": "stream",
          "name": "stdout",
          "text": [
            "Metrica del modelo de entrenamiento 0.4713325337253342\n",
            "Metricas cross_validation [0.26249076 0.26525351 0.48640281 0.58921743 0.35565301]\n",
            "Media de cross_validation 0.3918035020014984\n"
          ]
        }
      ]
    },
    {
      "cell_type": "markdown",
      "metadata": {
        "id": "1XzxK1y9v_Ma"
      },
      "source": [
        "##### Arbol"
      ]
    },
    {
      "cell_type": "code",
      "metadata": {
        "id": "46tOns8TwB9u",
        "colab": {
          "base_uri": "https://localhost:8080/"
        },
        "outputId": "e80ce6fc-664b-496a-863f-aa0ba4a0372a"
      },
      "source": [
        "ad_a = DecisionTreeRegressor(criterion='r2', max_depth=5, random_state=78, max_features='sqrt')\n",
        "ad_a"
      ],
      "execution_count": null,
      "outputs": [
        {
          "output_type": "execute_result",
          "data": {
            "text/plain": [
              "DecisionTreeRegressor(ccp_alpha=0.0, criterion='r2', max_depth=5,\n",
              "                      max_features='sqrt', max_leaf_nodes=None,\n",
              "                      min_impurity_decrease=0.0, min_impurity_split=None,\n",
              "                      min_samples_leaf=1, min_samples_split=2,\n",
              "                      min_weight_fraction_leaf=0.0, presort='deprecated',\n",
              "                      random_state=78, splitter='best')"
            ]
          },
          "metadata": {},
          "execution_count": 173
        }
      ]
    },
    {
      "cell_type": "code",
      "metadata": {
        "colab": {
          "base_uri": "https://localhost:8080/"
        },
        "id": "k6a5GvwVwyjT",
        "outputId": "aa602d1e-29c8-4575-c638-81a7e06eacb8"
      },
      "source": [
        "# constructor\n",
        "ad_a = DecisionTreeRegressor(criterion='mae', max_depth =5, random_state=78, max_features='sqrt')\n",
        "# fit and predict\n",
        "\n",
        "ad_a.fit(Bilbao_train[selected_features], y_train)\n",
        "y_pred = ad_a.predict(Bilbao_test[selected_features])\n",
        " \n",
        "# Redondeamos y tranformamos en entero el resultado final\n",
        "y = np.rint(y_pred) \n",
        "y = y.astype(int) \n",
        "resultado_ad_a = np.hstack(y)\n",
        "\n",
        "resultado_ad_a = r2_score(y_test, resultado_ad_a)\n",
        "resultado_ad_a"
      ],
      "execution_count": null,
      "outputs": [
        {
          "output_type": "execute_result",
          "data": {
            "text/plain": [
              "0.3024689381142668"
            ]
          },
          "metadata": {},
          "execution_count": 175
        }
      ]
    },
    {
      "cell_type": "code",
      "metadata": {
        "colab": {
          "base_uri": "https://localhost:8080/"
        },
        "id": "9HaKoaWxAAyf",
        "outputId": "085e2ed9-4fe1-4dc8-aafa-c37c67cde8c2"
      },
      "source": [
        "from sklearn.tree import export_graphviz\n",
        "from pydotplus import graph_from_dot_data\n",
        "dot_data = export_graphviz(ad_a,\n",
        "                           feature_names=selected_features)\n",
        "graph = graph_from_dot_data(dot_data)\n",
        "graph.write_png('tree.png')"
      ],
      "execution_count": null,
      "outputs": [
        {
          "output_type": "execute_result",
          "data": {
            "text/plain": [
              "True"
            ]
          },
          "metadata": {},
          "execution_count": 42
        }
      ]
    },
    {
      "cell_type": "code",
      "metadata": {
        "colab": {
          "base_uri": "https://localhost:8080/"
        },
        "id": "-CmYguVH0iYo",
        "outputId": "f9e48389-dac6-4e70-d0e2-1455ddacb0af"
      },
      "source": [
        "kf = KFold(n_splits=5)\n",
        "score = ad_a.score(Bilbao_train[selected_features],y_train)\n",
        "print(\"Metrica del modelo de entrenamiento\", score)\n",
        "scores = cross_val_score(ad_a, Bilbao_train[selected_features], y_train, cv=kf, scoring=\"r2\")\n",
        "print(\"Metricas cross_validation\", scores)\n",
        "print(\"Media de cross_validation\", scores.mean())"
      ],
      "execution_count": null,
      "outputs": [
        {
          "output_type": "stream",
          "name": "stdout",
          "text": [
            "Metrica del modelo de entrenamiento 0.5721603928144288\n",
            "Metricas cross_validation [0.38203973 0.50225375 0.37699363 0.60436179 0.14349006]\n",
            "Media de cross_validation 0.40182779196631574\n"
          ]
        }
      ]
    },
    {
      "cell_type": "markdown",
      "metadata": {
        "id": "L-3qz2lJzjd5"
      },
      "source": [
        "##### SVR"
      ]
    },
    {
      "cell_type": "code",
      "metadata": {
        "colab": {
          "base_uri": "https://localhost:8080/"
        },
        "id": "KTIKHJ85zve3",
        "outputId": "122603ad-9191-4520-abee-ad5341b6f98f"
      },
      "source": [
        "svr_a = SVR(kernel='linear', C=20, epsilon=1)\n",
        "\n",
        "svr_a.fit(X_train, y_train)\n",
        "\n",
        "Bilbao_test_svr=X_test\n",
        "y_pred = svr_a.predict(Bilbao_test_svr)\n",
        "\n",
        "y = np.rint(y_pred) \n",
        "y = y.astype(int) \n",
        "resultado_svr_a = np.hstack(y)\n",
        "\n",
        "resultado_svr_a = r2_score(y_test, resultado_svr_a)\n",
        "resultado_svr_a"
      ],
      "execution_count": null,
      "outputs": [
        {
          "output_type": "execute_result",
          "data": {
            "text/plain": [
              "0.5629298632746377"
            ]
          },
          "metadata": {},
          "execution_count": 56
        }
      ]
    },
    {
      "cell_type": "code",
      "metadata": {
        "colab": {
          "base_uri": "https://localhost:8080/"
        },
        "id": "hVaO_0gh1TSx",
        "outputId": "cadd0f63-a5ba-4494-c030-800bb0121c35"
      },
      "source": [
        "kf = KFold(n_splits=5)\n",
        "score = svr_a.score(X_train,y_train)\n",
        "print(\"Metrica del modelo de entrenamiento\", score)\n",
        "scores = cross_val_score(svr_a, X_train, y_train, cv=kf, scoring=\"r2\")\n",
        "print(\"Metricas cross_validation\", scores)\n",
        "print(\"Media de cross_validation\", scores.mean())"
      ],
      "execution_count": null,
      "outputs": [
        {
          "output_type": "stream",
          "name": "stdout",
          "text": [
            "Metrica del modelo de entrenamiento 0.43647293230719464\n",
            "Metricas cross_validation [0.27230154 0.27930285 0.47814288 0.56168134 0.3827233 ]\n",
            "Media de cross_validation 0.3948303801922046\n"
          ]
        }
      ]
    },
    {
      "cell_type": "code",
      "metadata": {
        "colab": {
          "base_uri": "https://localhost:8080/",
          "height": 319
        },
        "id": "G8PKRtxsryzL",
        "outputId": "b819230b-c670-474d-df6a-21fd8513d28d"
      },
      "source": [
        "xx = np.stack(i for i in range(Bilbao_test['Precio'].shape[0]))\n",
        "plt.plot(xx, Bilbao_test['Precio'], c='r', label='data')\n",
        "plt.plot(xx, y_pred, c='g', label='prediction')\n",
        "plt.axis('tight')\n",
        "plt.legend()\n",
        "\n",
        "plt.show()"
      ],
      "execution_count": null,
      "outputs": [
        {
          "output_type": "stream",
          "name": "stderr",
          "text": [
            "/usr/local/lib/python3.7/dist-packages/IPython/core/interactiveshell.py:2822: FutureWarning: arrays to stack must be passed as a \"sequence\" type such as list or tuple. Support for non-sequence iterables such as generators is deprecated as of NumPy 1.16 and will raise an error in the future.\n",
            "  if self.run_code(code, result):\n"
          ]
        },
        {
          "output_type": "display_data",
          "data": {
            "image/png": "[encoded data removed]",
            "text/plain": [
              "<Figure size 432x288 with 1 Axes>"
            ]
          },
          "metadata": {
            "needs_background": "light"
          }
        }
      ]
    },
    {
      "cell_type": "markdown",
      "metadata": {
        "id": "lPbnW3edkR3Z"
      },
      "source": [
        "##### Gradient Boosting"
      ]
    },
    {
      "cell_type": "code",
      "metadata": {
        "colab": {
          "base_uri": "https://localhost:8080/"
        },
        "id": "u-7hGU6OkRTZ",
        "outputId": "8501f158-0eb2-4264-83a4-f9005ac4e181"
      },
      "source": [
        "gb_a = GradientBoostingRegressor(n_estimators=5, max_features='auto', random_state=78, learning_rate=0.5, \n",
        "                                min_samples_split=20, min_samples_leaf=4, max_depth=5)\n",
        "\n",
        "gb_a.fit(Bilbao_train[selected_features], y_train)\n",
        "\n",
        "Bilbao_test_svr=Bilbao_test[selected_features]\n",
        "y_pred = gb_a.predict(Bilbao_test_svr)\n",
        " \n",
        "y = np.rint(y_pred) \n",
        "y = y.astype(int) \n",
        "resultado_gb_a = np.hstack(y)\n",
        "\n",
        "resultado_gb_a = r2_score(y_test, resultado_gb_a)\n",
        "resultado_gb_a"
      ],
      "execution_count": null,
      "outputs": [
        {
          "output_type": "execute_result",
          "data": {
            "text/plain": [
              "0.45497921894610127"
            ]
          },
          "metadata": {},
          "execution_count": 77
        }
      ]
    },
    {
      "cell_type": "code",
      "metadata": {
        "colab": {
          "base_uri": "https://localhost:8080/"
        },
        "id": "DnHjSQHj1XLo",
        "outputId": "e7da4eb5-0e36-4b95-b9ac-04ef4115a3a3"
      },
      "source": [
        "kf = KFold(n_splits=5)\n",
        "score = gb_a.score(Bilbao_train[selected_features],y_train)\n",
        "print(\"Metrica del modelo de entrenamiento\", score)\n",
        "scores = cross_val_score(gb_a, Bilbao_train[selected_features], y_train, cv=kf, scoring=\"r2\")\n",
        "print(\"Metricas cross_validation\", scores)\n",
        "print(\"Media de cross_validation\", scores.mean())"
      ],
      "execution_count": null,
      "outputs": [
        {
          "output_type": "stream",
          "name": "stdout",
          "text": [
            "Metrica del modelo de entrenamiento 0.6369677174179378\n",
            "Metricas cross_validation [0.22685533 0.36835069 0.51521779 0.50479488 0.42380688]\n",
            "Media de cross_validation 0.4078051141101864\n"
          ]
        }
      ]
    },
    {
      "cell_type": "markdown",
      "metadata": {
        "id": "sAkHzEI3WUby"
      },
      "source": [
        "##### lasso"
      ]
    },
    {
      "cell_type": "code",
      "metadata": {
        "colab": {
          "base_uri": "https://localhost:8080/"
        },
        "id": "UB4RKYxRWWZ8",
        "outputId": "6dcd80a7-8744-4af1-ca6c-19d4a3479f24"
      },
      "source": [
        "ls_a = Lasso(alpha=0.001, random_state=78)\n",
        "ls_a.fit(X_train, y_train)\n",
        "y_pred = ls_a.predict(X_test)\n",
        "\n",
        "y = np.rint(y_pred) \n",
        "y = y.astype(int) \n",
        "resultado_ls_a = np.hstack(y)\n",
        "resultado_ls_a = r2_score(y_test, resultado_ls_a)\n",
        "resultado_ls_a"
      ],
      "execution_count": null,
      "outputs": [
        {
          "output_type": "execute_result",
          "data": {
            "text/plain": [
              "0.6209904618726518"
            ]
          },
          "metadata": {},
          "execution_count": 79
        }
      ]
    },
    {
      "cell_type": "code",
      "metadata": {
        "colab": {
          "base_uri": "https://localhost:8080/"
        },
        "id": "TR89u7SX1sPO",
        "outputId": "99f38e5f-2d3b-464a-fbf0-14d29fbf05c4"
      },
      "source": [
        "kf = KFold(n_splits=5)\n",
        "score = ls_a.score(X_train,y_train)\n",
        "print(\"Metrica del modelo de entrenamiento\", score)\n",
        "scores = cross_val_score(ls_a, X_train, y_train, cv=kf, scoring=\"r2\")\n",
        "print(\"Metricas cross_validation\", scores)\n",
        "print(\"Media de cross_validation\", scores.mean())"
      ],
      "execution_count": null,
      "outputs": [
        {
          "output_type": "stream",
          "name": "stdout",
          "text": [
            "Metrica del modelo de entrenamiento 0.47133253364479577\n",
            "Metricas cross_validation [0.26249203 0.26525785 0.48640284 0.5892142  0.35565802]\n",
            "Media de cross_validation 0.39180498555863286\n"
          ]
        }
      ]
    },
    {
      "cell_type": "code",
      "metadata": {
        "id": "BekbODSCtAAr",
        "colab": {
          "base_uri": "https://localhost:8080/",
          "height": 319
        },
        "outputId": "5b8a127a-6652-4e22-f895-6c8f3b3897b0"
      },
      "source": [
        "xx = np.stack(i for i in range(Bilbao_test['Precio'].shape[0]))\n",
        "plt.plot(xx, Bilbao_test['Precio'], c='r', label='data')\n",
        "plt.plot(xx, y_pred, c='g', label='prediction')\n",
        "plt.axis('tight')\n",
        "plt.legend()\n",
        "\n",
        "plt.show()"
      ],
      "execution_count": null,
      "outputs": [
        {
          "output_type": "stream",
          "name": "stderr",
          "text": [
            "/usr/local/lib/python3.7/dist-packages/IPython/core/interactiveshell.py:2822: FutureWarning: arrays to stack must be passed as a \"sequence\" type such as list or tuple. Support for non-sequence iterables such as generators is deprecated as of NumPy 1.16 and will raise an error in the future.\n",
            "  if self.run_code(code, result):\n"
          ]
        },
        {
          "output_type": "display_data",
          "data": {
            "image/png": "[encoded data removed]",
            "text/plain": [
              "<Figure size 432x288 with 1 Axes>"
            ]
          },
          "metadata": {
            "needs_background": "light"
          }
        }
      ]
    },
    {
      "cell_type": "markdown",
      "metadata": {
        "id": "_hls8Bf23mxg"
      },
      "source": [
        "##### Ridge"
      ]
    },
    {
      "cell_type": "code",
      "metadata": {
        "colab": {
          "base_uri": "https://localhost:8080/"
        },
        "id": "uZ9D1iXf3mKB",
        "outputId": "ca76012a-fcd6-432f-8cbc-56aa55258a0a"
      },
      "source": [
        "rg_a = Ridge(alpha=1, random_state=78,fit_intercept = True)\n",
        "rg_a.fit(X_train, y_train)\n",
        "y_pred = rg_a.predict(X_test)\n",
        "\n",
        "y = np.rint(y_pred) \n",
        "y = y.astype(int) \n",
        "resultado_rg_a = np.hstack(y)\n",
        "resultado_rg_a = r2_score(y_test, resultado_rg_a)\n",
        "resultado_rg_a"
      ],
      "execution_count": null,
      "outputs": [
        {
          "output_type": "execute_result",
          "data": {
            "text/plain": [
              "0.6202171442220634"
            ]
          },
          "metadata": {},
          "execution_count": 82
        }
      ]
    },
    {
      "cell_type": "code",
      "metadata": {
        "colab": {
          "base_uri": "https://localhost:8080/"
        },
        "id": "s7tx1c7F1uJn",
        "outputId": "b8e8ff92-d588-497d-aa0c-4763b733615e"
      },
      "source": [
        "kf = KFold(n_splits=5)\n",
        "score = rg_a.score(X_train,y_train)\n",
        "print(\"Metrica del modelo de entrenamiento\", score)\n",
        "scores = cross_val_score(rg_a, X_train, y_train, cv=kf, scoring=\"r2\")\n",
        "print(\"Metricas cross_validation\", scores)\n",
        "print(\"Media de cross_validation\", scores.mean())"
      ],
      "execution_count": null,
      "outputs": [
        {
          "output_type": "stream",
          "name": "stdout",
          "text": [
            "Metrica del modelo de entrenamiento 0.4713237710857369\n",
            "Metricas cross_validation [0.26343431 0.26534933 0.48639294 0.58776961 0.3583515 ]\n",
            "Media de cross_validation 0.3922595366725044\n"
          ]
        }
      ]
    },
    {
      "cell_type": "markdown",
      "metadata": {
        "id": "gFHS7xhngxwM"
      },
      "source": [
        "##### ElasticNet"
      ]
    },
    {
      "cell_type": "code",
      "metadata": {
        "colab": {
          "base_uri": "https://localhost:8080/"
        },
        "id": "oAF0oEfhgx3O",
        "outputId": "e9b498cd-faa0-4b2e-9380-7666a59f5c58"
      },
      "source": [
        "en_a = ElasticNet(alpha=2, l1_ratio = 1, random_state=78,fit_intercept = True)\n",
        "en_a.fit(X_train, y_train)\n",
        "y_pred = en_a.predict(X_test)\n",
        "\n",
        "y = np.rint(y_pred) \n",
        "y = y.astype(int) \n",
        "resultado_en_a = np.hstack(y)\n",
        "resultado_en_a = r2_score(y_test, resultado_en_a)\n",
        "resultado_en_a"
      ],
      "execution_count": null,
      "outputs": [
        {
          "output_type": "execute_result",
          "data": {
            "text/plain": [
              "0.6201430067787466"
            ]
          },
          "metadata": {},
          "execution_count": 84
        }
      ]
    },
    {
      "cell_type": "code",
      "metadata": {
        "colab": {
          "base_uri": "https://localhost:8080/"
        },
        "id": "vfV4a8Tl1-Hz",
        "outputId": "a2f963d6-5d44-49a4-e529-fdeff6820bd0"
      },
      "source": [
        "kf = KFold(n_splits=5)\n",
        "score = en_a.score(X_train,y_train)\n",
        "print(\"Metrica del modelo de entrenamiento\", score)\n",
        "scores = cross_val_score(en_a, X_train, y_train, cv=kf, scoring=\"r2\")\n",
        "print(\"Metricas cross_validation\", scores)\n",
        "print(\"Media de cross_validation\", scores.mean())"
      ],
      "execution_count": null,
      "outputs": [
        {
          "output_type": "stream",
          "name": "stdout",
          "text": [
            "Metrica del modelo de entrenamiento 0.47109665021531066\n",
            "Metricas cross_validation [0.25954529 0.27392831 0.48560735 0.58247079 0.36534145]\n",
            "Media de cross_validation 0.39337863834914105\n"
          ]
        }
      ]
    },
    {
      "cell_type": "markdown",
      "metadata": {
        "id": "Q-gBGHitet8K"
      },
      "source": [
        "#### Tres Variables más barrio"
      ]
    },
    {
      "cell_type": "markdown",
      "metadata": {
        "id": "UPOxjWf-xKpw"
      },
      "source": [
        "##### Regresion"
      ]
    },
    {
      "cell_type": "code",
      "metadata": {
        "id": "8RQ_OqmPe1jr"
      },
      "source": [
        "# Nos quedamos solo con las variables que más correlación tienen de momento\n",
        "selected_features = ['Habitaciones', 'Banhos', \n",
        "                     'Superficie' , 'Barrio'  \n",
        "                    ]"
      ],
      "execution_count": null,
      "outputs": []
    },
    {
      "cell_type": "code",
      "metadata": {
        "id": "GXeyHJ4ue3pL",
        "colab": {
          "base_uri": "https://localhost:8080/"
        },
        "outputId": "0976907c-d372-4ae3-c2b7-c3e59917c687"
      },
      "source": [
        "# Estandarizamos las variables.\n",
        "m_standarizar = preprocessing.StandardScaler()\n",
        "X_train = m_standarizar.fit_transform(Bilbao_train[selected_features])\n",
        "X_test = m_standarizar.transform(Bilbao_test[selected_features])\n",
        "\n",
        "rl_b = linear_model.LinearRegression()\n",
        "rl_b.fit(X_train, y_train)\n",
        "\n",
        "y_pred = rl_b.predict(X_test)\n",
        "\n",
        "y = np.rint(y_pred) \n",
        "y = y.astype(int) \n",
        "resultado_rl_b = np.hstack(y)\n",
        "resultado_rl_b = r2_score(y_test, resultado_rl_b)\n",
        "resultado_rl_b"
      ],
      "execution_count": null,
      "outputs": [
        {
          "output_type": "execute_result",
          "data": {
            "text/plain": [
              "0.6424437109802478"
            ]
          },
          "metadata": {},
          "execution_count": 87
        }
      ]
    },
    {
      "cell_type": "code",
      "metadata": {
        "colab": {
          "base_uri": "https://localhost:8080/",
          "height": 319
        },
        "id": "NQrKNiH2jahN",
        "outputId": "7ead89aa-d22b-4d67-952d-16648cad0326"
      },
      "source": [
        "xx = np.stack(i for i in range(Bilbao_test['Precio'].shape[0]))\n",
        "plt.plot(xx, Bilbao_test['Precio'], c='r', label='data')\n",
        "plt.plot(xx, y_pred, c='g', label='prediction')\n",
        "plt.axis('tight')\n",
        "plt.legend()\n",
        "\n",
        "plt.show()"
      ],
      "execution_count": null,
      "outputs": [
        {
          "output_type": "stream",
          "name": "stderr",
          "text": [
            "/usr/local/lib/python3.7/dist-packages/IPython/core/interactiveshell.py:2822: FutureWarning: arrays to stack must be passed as a \"sequence\" type such as list or tuple. Support for non-sequence iterables such as generators is deprecated as of NumPy 1.16 and will raise an error in the future.\n",
            "  if self.run_code(code, result):\n"
          ]
        },
        {
          "output_type": "display_data",
          "data": {
            "image/png": "[encoded data removed]",
            "text/plain": [
              "<Figure size 432x288 with 1 Axes>"
            ]
          },
          "metadata": {
            "needs_background": "light"
          }
        }
      ]
    },
    {
      "cell_type": "code",
      "metadata": {
        "colab": {
          "base_uri": "https://localhost:8080/"
        },
        "id": "9qmvYSVi1Baj",
        "outputId": "2eccdedd-79e4-4f90-af37-c873e7b4e975"
      },
      "source": [
        "kf = KFold(n_splits=5)\n",
        "score = rl_b.score(X_train,y_train)\n",
        "print(\"Metrica del modelo de entrenamiento\", score)\n",
        "scores = cross_val_score(rl_b, X_train, y_train, cv=kf, scoring=\"r2\")\n",
        "print(\"Metricas cross_validation\", scores)\n",
        "print(\"Media de cross_validation\", scores.mean())"
      ],
      "execution_count": null,
      "outputs": [
        {
          "output_type": "stream",
          "name": "stdout",
          "text": [
            "Metrica del modelo de entrenamiento 0.5271231008722299\n",
            "Metricas cross_validation [0.3646798  0.31738143 0.53102345 0.6380149  0.42211199]\n",
            "Media de cross_validation 0.4546423110271425\n"
          ]
        }
      ]
    },
    {
      "cell_type": "markdown",
      "metadata": {
        "id": "2bCfw_GOxTJe"
      },
      "source": [
        "##### Arbol"
      ]
    },
    {
      "cell_type": "code",
      "metadata": {
        "id": "XeioRiRGxVQ4"
      },
      "source": [
        "ad_b = DecisionTreeRegressor(criterion='mae', max_depth=5, random_state=78, max_features='sqrt')"
      ],
      "execution_count": null,
      "outputs": []
    },
    {
      "cell_type": "code",
      "metadata": {
        "colab": {
          "base_uri": "https://localhost:8080/",
          "height": 190
        },
        "id": "CAOsXznIxXN3",
        "outputId": "316fc22b-6058-4f09-9874-5125910bb94a"
      },
      "source": [
        "ad_b.fit(Bilbao_train[selected_features], y_train)\n",
        "print ('Características relevantes')\n",
        "pd.DataFrame({'Attributes': selected_features ,\n",
        "              'Decision Tree': ad_b.feature_importances_})"
      ],
      "execution_count": null,
      "outputs": [
        {
          "output_type": "stream",
          "name": "stdout",
          "text": [
            "Características relevantes\n"
          ]
        },
        {
          "output_type": "execute_result",
          "data": {
            "text/html": [
              "<div>\n",
              "<style scoped>\n",
              "    .dataframe tbody tr th:only-of-type {\n",
              "        vertical-align: middle;\n",
              "    }\n",
              "\n",
              "    .dataframe tbody tr th {\n",
              "        vertical-align: top;\n",
              "    }\n",
              "\n",
              "    .dataframe thead th {\n",
              "        text-align: right;\n",
              "    }\n",
              "</style>\n",
              "<table border=\"1\" class=\"dataframe\">\n",
              "  <thead>\n",
              "    <tr style=\"text-align: right;\">\n",
              "      <th></th>\n",
              "      <th>Attributes</th>\n",
              "      <th>Decision Tree</th>\n",
              "    </tr>\n",
              "  </thead>\n",
              "  <tbody>\n",
              "    <tr>\n",
              "      <th>0</th>\n",
              "      <td>Habitaciones</td>\n",
              "      <td>0.143325</td>\n",
              "    </tr>\n",
              "    <tr>\n",
              "      <th>1</th>\n",
              "      <td>Banhos</td>\n",
              "      <td>0.065707</td>\n",
              "    </tr>\n",
              "    <tr>\n",
              "      <th>2</th>\n",
              "      <td>Superficie</td>\n",
              "      <td>0.715236</td>\n",
              "    </tr>\n",
              "    <tr>\n",
              "      <th>3</th>\n",
              "      <td>Barrio</td>\n",
              "      <td>0.075732</td>\n",
              "    </tr>\n",
              "  </tbody>\n",
              "</table>\n",
              "</div>"
            ],
            "text/plain": [
              "     Attributes  Decision Tree\n",
              "0  Habitaciones       0.143325\n",
              "1        Banhos       0.065707\n",
              "2    Superficie       0.715236\n",
              "3        Barrio       0.075732"
            ]
          },
          "metadata": {},
          "execution_count": 91
        }
      ]
    },
    {
      "cell_type": "code",
      "metadata": {
        "colab": {
          "base_uri": "https://localhost:8080/"
        },
        "id": "JYAorNVrxXW0",
        "outputId": "d6212fa2-dce6-4720-adf6-290223f62e84"
      },
      "source": [
        "# constructor\n",
        "ad_b = DecisionTreeRegressor(criterion='mae', max_depth=6, random_state=78, max_features='sqrt')\n",
        "# fit and predict\n",
        "\n",
        "ad_b.fit(Bilbao_train[selected_features], y_train)\n",
        "y_pred = ad_b.predict(Bilbao_test[selected_features])\n",
        "\n",
        "y = np.rint(y_pred) \n",
        "y = y.astype(int) \n",
        "resultado_ad_b = np.hstack(y)\n",
        "\n",
        "resultado_ad_b = r2_score(y_test, resultado_ad_b)\n",
        "resultado_ad_b"
      ],
      "execution_count": null,
      "outputs": [
        {
          "output_type": "execute_result",
          "data": {
            "text/plain": [
              "0.5892915025639176"
            ]
          },
          "metadata": {},
          "execution_count": 92
        }
      ]
    },
    {
      "cell_type": "code",
      "metadata": {
        "colab": {
          "base_uri": "https://localhost:8080/"
        },
        "id": "odBI4mz703VH",
        "outputId": "89b28605-d6a4-4406-a670-7f9d0e2b0bcc"
      },
      "source": [
        "kf = KFold(n_splits=5)\n",
        "score = ad_b.score(Bilbao_train[selected_features],y_train)\n",
        "print(\"Metrica del modelo de entrenamiento\", score)\n",
        "scores = cross_val_score(ad_b, Bilbao_train[selected_features], y_train, cv=kf, scoring=\"r2\")\n",
        "print(\"Metricas cross_validation\", scores)\n",
        "print(\"Media de cross_validation\", scores.mean())"
      ],
      "execution_count": null,
      "outputs": [
        {
          "output_type": "stream",
          "name": "stdout",
          "text": [
            "Metrica del modelo de entrenamiento 0.6793581522518418\n",
            "Metricas cross_validation [0.39713415 0.34423438 0.51906466 0.39882919 0.17804466]\n",
            "Media de cross_validation 0.36746140857859394\n"
          ]
        }
      ]
    },
    {
      "cell_type": "markdown",
      "metadata": {
        "id": "kbj2juVSzmtX"
      },
      "source": [
        "##### SVR"
      ]
    },
    {
      "cell_type": "code",
      "metadata": {
        "colab": {
          "base_uri": "https://localhost:8080/"
        },
        "id": "CyEtaV8v0aVy",
        "outputId": "f840277a-d2a9-4e91-a1db-b52541c07e4a"
      },
      "source": [
        "svr_b = SVR(kernel='linear', C=10, epsilon=1.5)\n",
        "\n",
        "svr_b.fit(X_train, y_train)\n",
        "\n",
        "Bilbao_test_svr=X_test\n",
        "y_pred = svr_b.predict(Bilbao_test_svr)\n",
        "\n",
        "y = np.rint(y_pred) \n",
        "y = y.astype(int) \n",
        "resultado_svr_b = np.hstack(y)\n",
        "\n",
        "resultado_svr_b = r2_score(y_test, resultado_svr_b)\n",
        "resultado_svr_b"
      ],
      "execution_count": null,
      "outputs": [
        {
          "output_type": "execute_result",
          "data": {
            "text/plain": [
              "0.5974203219249956"
            ]
          },
          "metadata": {},
          "execution_count": 95
        }
      ]
    },
    {
      "cell_type": "code",
      "metadata": {
        "colab": {
          "base_uri": "https://localhost:8080/"
        },
        "id": "JWGDD2wz1Ql5",
        "outputId": "bef3f932-d297-4c37-f03b-21070ef018c4"
      },
      "source": [
        "kf = KFold(n_splits=5)\n",
        "score = svr_b.score(X_train,y_train)\n",
        "print(\"Metrica del modelo de entrenamiento\", score)\n",
        "scores = cross_val_score(svr_b, X_train, y_train, cv=kf, scoring=\"r2\")\n",
        "print(\"Metricas cross_validation\", scores)\n",
        "print(\"Media de cross_validation\", scores.mean())"
      ],
      "execution_count": null,
      "outputs": [
        {
          "output_type": "stream",
          "name": "stdout",
          "text": [
            "Metrica del modelo de entrenamiento 0.5027263831946296\n",
            "Metricas cross_validation [0.37657938 0.35209938 0.52687316 0.61329785 0.43291797]\n",
            "Media de cross_validation 0.46035354586592536\n"
          ]
        }
      ]
    },
    {
      "cell_type": "markdown",
      "metadata": {
        "id": "2ti6snBUxRns"
      },
      "source": [
        "##### Gradient Boosting"
      ]
    },
    {
      "cell_type": "code",
      "metadata": {
        "colab": {
          "base_uri": "https://localhost:8080/"
        },
        "id": "Uw7HD3nfxR39",
        "outputId": "b0d6722d-a60b-435f-ee2d-269708badf91"
      },
      "source": [
        "gb_b = GradientBoostingRegressor(n_estimators=7, max_features='auto', random_state=78, learning_rate=0.5, \n",
        "                                min_samples_split=20, min_samples_leaf=5, max_depth=5)\n",
        "\n",
        "gb_b.fit(Bilbao_train[selected_features], y_train)\n",
        "\n",
        "Bilbao_test_svr=Bilbao_test[selected_features]\n",
        "y_pred = gb_b.predict(Bilbao_test_svr)\n",
        "\n",
        "y = np.rint(y_pred) \n",
        "y = y.astype(int) \n",
        "resultado_gb_b = np.hstack(y)\n",
        "\n",
        "resultado_gb_b = r2_score(y_test, resultado_gb_b)\n",
        "resultado_gb_b"
      ],
      "execution_count": null,
      "outputs": [
        {
          "output_type": "execute_result",
          "data": {
            "text/plain": [
              "0.44851167725064534"
            ]
          },
          "metadata": {},
          "execution_count": 103
        }
      ]
    },
    {
      "cell_type": "code",
      "metadata": {
        "colab": {
          "base_uri": "https://localhost:8080/"
        },
        "id": "3ZMObSqB1a8o",
        "outputId": "93673175-1865-4271-8110-264df6e54176"
      },
      "source": [
        "kf = KFold(n_splits=5)\n",
        "score = gb_b.score(Bilbao_train[selected_features],y_train)\n",
        "print(\"Metrica del modelo de entrenamiento\", score)\n",
        "scores = cross_val_score(gb_b, Bilbao_train[selected_features], y_train, cv=kf, scoring=\"r2\")\n",
        "print(\"Metricas cross_validation\", scores)\n",
        "print(\"Media de cross_validation\", scores.mean())"
      ],
      "execution_count": null,
      "outputs": [
        {
          "output_type": "stream",
          "name": "stdout",
          "text": [
            "Metrica del modelo de entrenamiento 0.7340970452396174\n",
            "Metricas cross_validation [0.47300286 0.48787198 0.51697232 0.58181388 0.39203518]\n",
            "Media de cross_validation 0.4903392422029394\n"
          ]
        }
      ]
    },
    {
      "cell_type": "markdown",
      "metadata": {
        "id": "X-uE9OhUYtxQ"
      },
      "source": [
        "##### lasso"
      ]
    },
    {
      "cell_type": "code",
      "metadata": {
        "colab": {
          "base_uri": "https://localhost:8080/"
        },
        "id": "WBvtXF68YnYh",
        "outputId": "c653e71d-d15d-4357-f672-56f16d2f7fdc"
      },
      "source": [
        "ls_b = Lasso(alpha=0.001, random_state=78)\n",
        "ls_b.fit(X_train, y_train)\n",
        "y_pred = ls_b.predict(X_test)\n",
        "\n",
        "y = np.rint(y_pred) \n",
        "y = y.astype(int) \n",
        "resultado_ls_b = np.hstack(y)\n",
        "resultado_ls_b = r2_score(y_test, resultado_ls_b)\n",
        "resultado_ls_b"
      ],
      "execution_count": null,
      "outputs": [
        {
          "output_type": "execute_result",
          "data": {
            "text/plain": [
              "0.6424437109802478"
            ]
          },
          "metadata": {},
          "execution_count": 105
        }
      ]
    },
    {
      "cell_type": "code",
      "metadata": {
        "colab": {
          "base_uri": "https://localhost:8080/"
        },
        "id": "_jScg7IC1qSh",
        "outputId": "9db4d7ff-e768-4e64-e016-15da715ac74d"
      },
      "source": [
        "kf = KFold(n_splits=5)\n",
        "score = ls_b.score(X_train,y_train)\n",
        "print(\"Metrica del modelo de entrenamiento\", score)\n",
        "scores = cross_val_score(ls_b, X_train, y_train, cv=kf, scoring=\"r2\")\n",
        "print(\"Metricas cross_validation\", scores)\n",
        "print(\"Media de cross_validation\", scores.mean())"
      ],
      "execution_count": null,
      "outputs": [
        {
          "output_type": "stream",
          "name": "stdout",
          "text": [
            "Metrica del modelo de entrenamiento 0.5271231008091674\n",
            "Metricas cross_validation [0.36468019 0.31738275 0.53102389 0.63801183 0.42211588]\n",
            "Media de cross_validation 0.454642908639222\n"
          ]
        }
      ]
    },
    {
      "cell_type": "markdown",
      "metadata": {
        "id": "ik5TX1de5hE4"
      },
      "source": [
        "##### Ridge"
      ]
    },
    {
      "cell_type": "code",
      "metadata": {
        "colab": {
          "base_uri": "https://localhost:8080/"
        },
        "id": "oeQiAL0d5i6w",
        "outputId": "0a8a968b-8a3e-4b74-da11-66ee52287407"
      },
      "source": [
        "rg_b = Ridge(alpha=0.001, random_state=78,fit_intercept = True)\n",
        "rg_b.fit(X_train, y_train)\n",
        "y_pred = rg_b.predict(X_test)\n",
        "\n",
        "y = np.rint(y_pred) \n",
        "y = y.astype(int) \n",
        "resultado_rg_b = np.hstack(y)\n",
        "resultado_rg_b = r2_score(y_test, resultado_rg_b)\n",
        "resultado_rg_b"
      ],
      "execution_count": null,
      "outputs": [
        {
          "output_type": "execute_result",
          "data": {
            "text/plain": [
              "0.6424437109802478"
            ]
          },
          "metadata": {},
          "execution_count": 107
        }
      ]
    },
    {
      "cell_type": "code",
      "metadata": {
        "colab": {
          "base_uri": "https://localhost:8080/"
        },
        "id": "n3RzvhYf1wf0",
        "outputId": "97578183-62f2-4ae9-fa35-7f19c8ccca87"
      },
      "source": [
        "kf = KFold(n_splits=5)\n",
        "score = rg_b.score(X_train,y_train)\n",
        "print(\"Metrica del modelo de entrenamiento\", score)\n",
        "scores = cross_val_score(rg_b, X_train, y_train, cv=kf, scoring=\"r2\")\n",
        "print(\"Metricas cross_validation\", scores)\n",
        "print(\"Media de cross_validation\", scores.mean())"
      ],
      "execution_count": null,
      "outputs": [
        {
          "output_type": "stream",
          "name": "stdout",
          "text": [
            "Metrica del modelo de entrenamiento 0.5271231008650894\n",
            "Metricas cross_validation [0.36468095 0.31738188 0.53102329 0.63801368 0.42211395]\n",
            "Media de cross_validation 0.4546427482751776\n"
          ]
        }
      ]
    },
    {
      "cell_type": "markdown",
      "metadata": {
        "id": "JjUzA2xKgts7"
      },
      "source": [
        "##### ElasticNet"
      ]
    },
    {
      "cell_type": "code",
      "metadata": {
        "colab": {
          "base_uri": "https://localhost:8080/"
        },
        "id": "XX4xdPLqgt6C",
        "outputId": "ba736e70-f98f-42da-b9a0-ff4b1d3b7477"
      },
      "source": [
        "en_b = ElasticNet(alpha=2, l1_ratio = 1, random_state=78,fit_intercept = True)\n",
        "en_b.fit(X_train, y_train)\n",
        "y_pred = en_b.predict(X_test)\n",
        "\n",
        "y = np.rint(y_pred) \n",
        "y = y.astype(int) \n",
        "resultado_en_b = np.hstack(y)\n",
        "resultado_en_b = r2_score(y_test, resultado_en_b)\n",
        "resultado_en_b"
      ],
      "execution_count": null,
      "outputs": [
        {
          "output_type": "execute_result",
          "data": {
            "text/plain": [
              "0.6418275754596121"
            ]
          },
          "metadata": {},
          "execution_count": 109
        }
      ]
    },
    {
      "cell_type": "code",
      "metadata": {
        "colab": {
          "base_uri": "https://localhost:8080/"
        },
        "id": "Ax027GYX178e",
        "outputId": "5c6bfb06-0279-41de-85cb-da29525ac1d8"
      },
      "source": [
        "kf = KFold(n_splits=5)\n",
        "score = en_b.score(X_train,y_train)\n",
        "print(\"Metrica del modelo de entrenamiento\", score)\n",
        "scores = cross_val_score(en_b, X_train, y_train, cv=kf, scoring=\"r2\")\n",
        "print(\"Metricas cross_validation\", scores)\n",
        "print(\"Media de cross_validation\", scores.mean())"
      ],
      "execution_count": null,
      "outputs": [
        {
          "output_type": "stream",
          "name": "stdout",
          "text": [
            "Metrica del modelo de entrenamiento 0.5268798664899903\n",
            "Metricas cross_validation [0.36273797 0.32870688 0.52914779 0.63164239 0.42954694]\n",
            "Media de cross_validation 0.4563563949278704\n"
          ]
        }
      ]
    },
    {
      "cell_type": "markdown",
      "metadata": {
        "id": "llalXUenfOSM"
      },
      "source": [
        "#### Tres Variables más renta"
      ]
    },
    {
      "cell_type": "markdown",
      "metadata": {
        "id": "8xFDRVqmyAAn"
      },
      "source": [
        "##### Regresión"
      ]
    },
    {
      "cell_type": "code",
      "metadata": {
        "id": "mOamCi2JfRXT"
      },
      "source": [
        "# Nos quedamos solo con las variables que más correlación tienen de momento\n",
        "selected_features = ['Habitaciones', 'Banhos', \n",
        "                     'Superficie' , 'Renta'  \n",
        "                    ]"
      ],
      "execution_count": null,
      "outputs": []
    },
    {
      "cell_type": "code",
      "metadata": {
        "id": "HPr1bSrofTEn",
        "colab": {
          "base_uri": "https://localhost:8080/"
        },
        "outputId": "8f14466e-6213-4751-f037-2aa40241b244"
      },
      "source": [
        "# Estandarizamos las variables.\n",
        "m_standarizar = preprocessing.StandardScaler()\n",
        "X_train = m_standarizar.fit_transform(Bilbao_train[selected_features])\n",
        "X_test = m_standarizar.transform(Bilbao_test[selected_features])\n",
        "\n",
        "rl_c = linear_model.LinearRegression()\n",
        "rl_c.fit(X_train, y_train)\n",
        "\n",
        "y_pred = rl_c.predict(X_test)\n",
        "\n",
        "y = np.rint(y_pred) \n",
        "y = y.astype(int) \n",
        "resultado_rl_c = np.hstack(y)\n",
        "resultado_rl_c = r2_score(y_test, resultado_rl_c)\n",
        "resultado_rl_c"
      ],
      "execution_count": null,
      "outputs": [
        {
          "output_type": "execute_result",
          "data": {
            "text/plain": [
              "0.6442582162669352"
            ]
          },
          "metadata": {},
          "execution_count": 112
        }
      ]
    },
    {
      "cell_type": "code",
      "metadata": {
        "colab": {
          "base_uri": "https://localhost:8080/"
        },
        "id": "p4GmvdTP1Esf",
        "outputId": "5997b059-fef5-41c8-b5e8-e61d4be6927a"
      },
      "source": [
        "kf = KFold(n_splits=5)\n",
        "score = rl_c.score(X_train,y_train)\n",
        "print(\"Metrica del modelo de entrenamiento\", score)\n",
        "scores = cross_val_score(rl_c, X_train, y_train, cv=kf, scoring=\"r2\")\n",
        "print(\"Metricas cross_validation\", scores)\n",
        "print(\"Media de cross_validation\", scores.mean())"
      ],
      "execution_count": null,
      "outputs": [
        {
          "output_type": "stream",
          "name": "stdout",
          "text": [
            "Metrica del modelo de entrenamiento 0.5264479951553895\n",
            "Metricas cross_validation [0.36381056 0.33919551 0.53473268 0.63425196 0.41630378]\n",
            "Media de cross_validation 0.4576588986736302\n"
          ]
        }
      ]
    },
    {
      "cell_type": "code",
      "metadata": {
        "colab": {
          "base_uri": "https://localhost:8080/",
          "height": 319
        },
        "id": "NnwfmyZRknZ7",
        "outputId": "cd6449a5-8213-4ecb-c4c2-d89a6abfe082"
      },
      "source": [
        "xx = np.stack(i for i in range(Bilbao_test['Precio'].shape[0]))\n",
        "plt.plot(xx, Bilbao_test['Precio'], c='r', label='data')\n",
        "plt.plot(xx, y_pred, c='g', label='prediction')\n",
        "plt.axis('tight')\n",
        "plt.legend()\n",
        "\n",
        "plt.show()"
      ],
      "execution_count": null,
      "outputs": [
        {
          "output_type": "stream",
          "name": "stderr",
          "text": [
            "/usr/local/lib/python3.7/dist-packages/IPython/core/interactiveshell.py:2822: FutureWarning: arrays to stack must be passed as a \"sequence\" type such as list or tuple. Support for non-sequence iterables such as generators is deprecated as of NumPy 1.16 and will raise an error in the future.\n",
            "  if self.run_code(code, result):\n"
          ]
        },
        {
          "output_type": "display_data",
          "data": {
            "image/png": "[encoded data removed]",
            "text/plain": [
              "<Figure size 432x288 with 1 Axes>"
            ]
          },
          "metadata": {
            "needs_background": "light"
          }
        }
      ]
    },
    {
      "cell_type": "markdown",
      "metadata": {
        "id": "QdgH-0YTyDXq"
      },
      "source": [
        "##### Arbol"
      ]
    },
    {
      "cell_type": "code",
      "metadata": {
        "id": "poIH-P78yJf2"
      },
      "source": [
        "ad_c = DecisionTreeRegressor(criterion='mae', max_depth=5, random_state=78, max_features='sqrt')"
      ],
      "execution_count": null,
      "outputs": []
    },
    {
      "cell_type": "code",
      "metadata": {
        "colab": {
          "base_uri": "https://localhost:8080/",
          "height": 190
        },
        "id": "ojYEWMGYyJiy",
        "outputId": "8808898b-4060-47f8-e6c8-3b9e94e8f271"
      },
      "source": [
        "ad_c.fit(Bilbao_train[selected_features], y_train)\n",
        "print ('Características relevantes')\n",
        "pd.DataFrame({'Attributes': selected_features ,\n",
        "              'Decision Tree': ad_c.feature_importances_})"
      ],
      "execution_count": null,
      "outputs": [
        {
          "output_type": "stream",
          "name": "stdout",
          "text": [
            "Características relevantes\n"
          ]
        },
        {
          "output_type": "execute_result",
          "data": {
            "text/html": [
              "<div>\n",
              "<style scoped>\n",
              "    .dataframe tbody tr th:only-of-type {\n",
              "        vertical-align: middle;\n",
              "    }\n",
              "\n",
              "    .dataframe tbody tr th {\n",
              "        vertical-align: top;\n",
              "    }\n",
              "\n",
              "    .dataframe thead th {\n",
              "        text-align: right;\n",
              "    }\n",
              "</style>\n",
              "<table border=\"1\" class=\"dataframe\">\n",
              "  <thead>\n",
              "    <tr style=\"text-align: right;\">\n",
              "      <th></th>\n",
              "      <th>Attributes</th>\n",
              "      <th>Decision Tree</th>\n",
              "    </tr>\n",
              "  </thead>\n",
              "  <tbody>\n",
              "    <tr>\n",
              "      <th>0</th>\n",
              "      <td>Habitaciones</td>\n",
              "      <td>0.172287</td>\n",
              "    </tr>\n",
              "    <tr>\n",
              "      <th>1</th>\n",
              "      <td>Banhos</td>\n",
              "      <td>0.092062</td>\n",
              "    </tr>\n",
              "    <tr>\n",
              "      <th>2</th>\n",
              "      <td>Superficie</td>\n",
              "      <td>0.635979</td>\n",
              "    </tr>\n",
              "    <tr>\n",
              "      <th>3</th>\n",
              "      <td>Renta</td>\n",
              "      <td>0.099671</td>\n",
              "    </tr>\n",
              "  </tbody>\n",
              "</table>\n",
              "</div>"
            ],
            "text/plain": [
              "     Attributes  Decision Tree\n",
              "0  Habitaciones       0.172287\n",
              "1        Banhos       0.092062\n",
              "2    Superficie       0.635979\n",
              "3         Renta       0.099671"
            ]
          },
          "metadata": {},
          "execution_count": 116
        }
      ]
    },
    {
      "cell_type": "code",
      "metadata": {
        "colab": {
          "base_uri": "https://localhost:8080/"
        },
        "id": "tJEfmc0kygjD",
        "outputId": "e65ecefa-3adf-4d4e-b4df-8c5c2bf17706"
      },
      "source": [
        "# constructor\n",
        "ad_c = DecisionTreeRegressor(criterion='mae', max_depth=6, random_state=78, max_features='sqrt')\n",
        "# fit and predict\n",
        "\n",
        "ad_c.fit(Bilbao_train[selected_features], y_train)\n",
        "y_pred = ad_c.predict(Bilbao_test[selected_features])\n",
        "\n",
        "y = np.rint(y_pred) \n",
        "y = y.astype(int) \n",
        "resultado_ad_c = np.hstack(y)\n",
        "\n",
        "resultado_ad_c = r2_score(y_test, resultado_ad_c)\n",
        "resultado_ad_c"
      ],
      "execution_count": null,
      "outputs": [
        {
          "output_type": "execute_result",
          "data": {
            "text/plain": [
              "0.40273685472020126"
            ]
          },
          "metadata": {},
          "execution_count": 117
        }
      ]
    },
    {
      "cell_type": "code",
      "metadata": {
        "colab": {
          "base_uri": "https://localhost:8080/"
        },
        "id": "s4YDnd4_061a",
        "outputId": "662b98fc-dd7a-4f2b-c75e-4fa094e1a021"
      },
      "source": [
        "kf = KFold(n_splits=5)\n",
        "score = ad_c.score(Bilbao_train[selected_features],y_train)\n",
        "print(\"Metrica del modelo de entrenamiento\", score)\n",
        "scores = cross_val_score(ad_c, Bilbao_train[selected_features], y_train, cv=kf, scoring=\"r2\")\n",
        "print(\"Metricas cross_validation\", scores)\n",
        "print(\"Media de cross_validation\", scores.mean())"
      ],
      "execution_count": null,
      "outputs": [
        {
          "output_type": "stream",
          "name": "stdout",
          "text": [
            "Metrica del modelo de entrenamiento 0.671789718467909\n",
            "Metricas cross_validation [0.29623429 0.11280079 0.4009221  0.5354176  0.34124432]\n",
            "Media de cross_validation 0.3373238185943806\n"
          ]
        }
      ]
    },
    {
      "cell_type": "markdown",
      "metadata": {
        "id": "4nJqoAOczqFg"
      },
      "source": [
        "##### SVR"
      ]
    },
    {
      "cell_type": "code",
      "metadata": {
        "colab": {
          "base_uri": "https://localhost:8080/"
        },
        "id": "yC4yeGKA0eh7",
        "outputId": "ec3b80eb-9113-48b4-d831-69f54f4541d1"
      },
      "source": [
        "svr_c = SVR(kernel='linear', C=10, epsilon=1.5)\n",
        "\n",
        "svr_c.fit(X_train, y_train)\n",
        "\n",
        "Bilbao_test_svr=X_test\n",
        "y_pred = svr_c.predict(Bilbao_test_svr)\n",
        "\n",
        "y = np.rint(y_pred) \n",
        "y = y.astype(int) \n",
        "resultado_svr_c = np.hstack(y)\n",
        "\n",
        "resultado_svr_c = r2_score(y_test, resultado_svr_c)\n",
        "resultado_svr_c"
      ],
      "execution_count": null,
      "outputs": [
        {
          "output_type": "execute_result",
          "data": {
            "text/plain": [
              "0.6028097416392096"
            ]
          },
          "metadata": {},
          "execution_count": 119
        }
      ]
    },
    {
      "cell_type": "code",
      "metadata": {
        "colab": {
          "base_uri": "https://localhost:8080/"
        },
        "id": "nYyRaOXy1Nd4",
        "outputId": "a163174b-9271-471c-f54a-8853eda7cdb7"
      },
      "source": [
        "kf = KFold(n_splits=5)\n",
        "score = svr_c.score(X_train,y_train)\n",
        "print(\"Metrica del modelo de entrenamiento\", score)\n",
        "scores = cross_val_score(svr_c, X_train, y_train, cv=kf, scoring=\"r2\")\n",
        "print(\"Metricas cross_validation\", scores)\n",
        "print(\"Media de cross_validation\", scores.mean())"
      ],
      "execution_count": null,
      "outputs": [
        {
          "output_type": "stream",
          "name": "stdout",
          "text": [
            "Metrica del modelo de entrenamiento 0.4987807972958397\n",
            "Metricas cross_validation [0.36219585 0.37378561 0.53051037 0.6051447  0.43073515]\n",
            "Media de cross_validation 0.4604743348390635\n"
          ]
        }
      ]
    },
    {
      "cell_type": "markdown",
      "metadata": {
        "id": "Wm7wbCK4G04k"
      },
      "source": [
        "##### GradientBoosting"
      ]
    },
    {
      "cell_type": "code",
      "metadata": {
        "colab": {
          "base_uri": "https://localhost:8080/"
        },
        "id": "7f7qNOK1G1A8",
        "outputId": "39b037e4-39d8-4262-9117-8d7baf77542f"
      },
      "source": [
        "gb_c = GradientBoostingRegressor(n_estimators=5, max_features='auto', random_state=78, learning_rate=0.5, \n",
        "                                min_samples_split=10, min_samples_leaf=5, max_depth=6)\n",
        "gb_c.fit(Bilbao_train[selected_features], y_train)\n",
        "\n",
        "Bilbao_test_svr=Bilbao_test[selected_features]\n",
        "y_pred = gb_c.predict(Bilbao_test_svr)\n",
        "\n",
        "y = np.rint(y_pred) \n",
        "y = y.astype(int) \n",
        "resultado_gb_c = np.hstack(y)\n",
        "\n",
        "resultado_gb_c = r2_score(y_test, resultado_gb_c)\n",
        "resultado_gb_c"
      ],
      "execution_count": null,
      "outputs": [
        {
          "output_type": "execute_result",
          "data": {
            "text/plain": [
              "0.47135054020044853"
            ]
          },
          "metadata": {},
          "execution_count": 126
        }
      ]
    },
    {
      "cell_type": "code",
      "metadata": {
        "colab": {
          "base_uri": "https://localhost:8080/"
        },
        "id": "BmmEguxb1dw5",
        "outputId": "f84966d9-2888-47af-fdbd-b4bc447bff70"
      },
      "source": [
        "kf = KFold(n_splits=5)\n",
        "score = gb_c.score(Bilbao_train[selected_features],y_train)\n",
        "print(\"Metrica del modelo de entrenamiento\", score)\n",
        "scores = cross_val_score(gb_c, Bilbao_train[selected_features], y_train, cv=kf, scoring=\"r2\")\n",
        "print(\"Metricas cross_validation\", scores)\n",
        "print(\"Media de cross_validation\", scores.mean())"
      ],
      "execution_count": null,
      "outputs": [
        {
          "output_type": "stream",
          "name": "stdout",
          "text": [
            "Metrica del modelo de entrenamiento 0.7354160881096966\n",
            "Metricas cross_validation [0.4562502  0.56277148 0.52675288 0.57428428 0.41900904]\n",
            "Media de cross_validation 0.5078135772835531\n"
          ]
        }
      ]
    },
    {
      "cell_type": "markdown",
      "metadata": {
        "id": "XUP6CT5BYxAF"
      },
      "source": [
        "##### lasso"
      ]
    },
    {
      "cell_type": "code",
      "metadata": {
        "colab": {
          "base_uri": "https://localhost:8080/"
        },
        "id": "vn40rzBPYqyj",
        "outputId": "16c1cd2d-e57c-4bc4-ef1f-8d7eb5c76ff0"
      },
      "source": [
        "ls_c = Lasso(alpha=0.001, random_state=78)\n",
        "ls_c.fit(X_train, y_train)\n",
        "y_pred = ls_c.predict(X_test)\n",
        "\n",
        "y = np.rint(y_pred) \n",
        "y = y.astype(int) \n",
        "resultado_ls_c = np.hstack(y)\n",
        "resultado_ls_c = r2_score(y_test, resultado_ls_c)\n",
        "resultado_ls_c"
      ],
      "execution_count": null,
      "outputs": [
        {
          "output_type": "execute_result",
          "data": {
            "text/plain": [
              "0.6442582162669352"
            ]
          },
          "metadata": {},
          "execution_count": 128
        }
      ]
    },
    {
      "cell_type": "code",
      "metadata": {
        "colab": {
          "base_uri": "https://localhost:8080/"
        },
        "id": "6d1ZxNgV1nsZ",
        "outputId": "50791e78-55c6-42b9-e63c-b298a091df23"
      },
      "source": [
        "kf = KFold(n_splits=5)\n",
        "score = ls_c.score(X_train,y_train)\n",
        "print(\"Metrica del modelo de entrenamiento\", score)\n",
        "scores = cross_val_score(ls_c, X_train, y_train, cv=kf, scoring=\"r2\")\n",
        "print(\"Metricas cross_validation\", scores)\n",
        "print(\"Media de cross_validation\", scores.mean())"
      ],
      "execution_count": null,
      "outputs": [
        {
          "output_type": "stream",
          "name": "stdout",
          "text": [
            "Metrica del modelo de entrenamiento 0.5264479950836755\n",
            "Metricas cross_validation [0.36381184 0.33920045 0.53473234 0.63424898 0.41630754]\n",
            "Media de cross_validation 0.4576602314236979\n"
          ]
        }
      ]
    },
    {
      "cell_type": "markdown",
      "metadata": {
        "id": "9uv7ZI4V5pf5"
      },
      "source": [
        "##### Ridge"
      ]
    },
    {
      "cell_type": "code",
      "metadata": {
        "colab": {
          "base_uri": "https://localhost:8080/"
        },
        "id": "orhFa9P15tlO",
        "outputId": "0bd9a7bf-cf03-4884-f23f-f29a8fb29591"
      },
      "source": [
        "rg_c = Ridge(alpha=0.001, random_state=78,fit_intercept = True)\n",
        "rg_c.fit(X_train, y_train)\n",
        "y_pred = rg_c.predict(X_test)\n",
        "\n",
        "y = np.rint(y_pred) \n",
        "y = y.astype(int) \n",
        "resultado_rg_c = np.hstack(y)\n",
        "resultado_rg_c = r2_score(y_test, resultado_rg_c)\n",
        "resultado_rg_c"
      ],
      "execution_count": null,
      "outputs": [
        {
          "output_type": "execute_result",
          "data": {
            "text/plain": [
              "0.6442582162669352"
            ]
          },
          "metadata": {},
          "execution_count": 130
        }
      ]
    },
    {
      "cell_type": "code",
      "metadata": {
        "colab": {
          "base_uri": "https://localhost:8080/"
        },
        "id": "jaTFkhaa1zKp",
        "outputId": "945e49ad-b4db-4f54-b33e-6d63ff2b10c0"
      },
      "source": [
        "kf = KFold(n_splits=5)\n",
        "score = rg_c.score(X_train,y_train)\n",
        "print(\"Metrica del modelo de entrenamiento\", score)\n",
        "scores = cross_val_score(rg_c, X_train, y_train, cv=kf, scoring=\"r2\")\n",
        "print(\"Metricas cross_validation\", scores)\n",
        "print(\"Media de cross_validation\", scores.mean())"
      ],
      "execution_count": null,
      "outputs": [
        {
          "output_type": "stream",
          "name": "stdout",
          "text": [
            "Metrica del modelo de entrenamiento 0.5264479951480052\n",
            "Metricas cross_validation [0.3638117  0.3391958  0.53473259 0.63425074 0.41630565]\n",
            "Media de cross_validation 0.45765929616517526\n"
          ]
        }
      ]
    },
    {
      "cell_type": "markdown",
      "metadata": {
        "id": "mFI3dUT2gojq"
      },
      "source": [
        "##### ElasticNet"
      ]
    },
    {
      "cell_type": "code",
      "metadata": {
        "colab": {
          "base_uri": "https://localhost:8080/"
        },
        "id": "XnwD9BhlgoD_",
        "outputId": "d84d67ae-b507-41e1-9f2b-7d14677c8a00"
      },
      "source": [
        "en_c = ElasticNet(alpha=2, l1_ratio = 1, random_state=78,fit_intercept = True)\n",
        "en_c.fit(X_train, y_train)\n",
        "y_pred = en_c.predict(X_test)\n",
        "\n",
        "y = np.rint(y_pred) \n",
        "y = y.astype(int) \n",
        "resultado_en_c = np.hstack(y)\n",
        "resultado_en_c = r2_score(y_test, resultado_en_c)\n",
        "resultado_en_c"
      ],
      "execution_count": null,
      "outputs": [
        {
          "output_type": "execute_result",
          "data": {
            "text/plain": [
              "0.6436597800530677"
            ]
          },
          "metadata": {},
          "execution_count": 132
        }
      ]
    },
    {
      "cell_type": "code",
      "metadata": {
        "colab": {
          "base_uri": "https://localhost:8080/"
        },
        "id": "vJpvaHcY16Fa",
        "outputId": "fa1b1de6-60ea-4d81-b89a-9b891a126ccb"
      },
      "source": [
        "kf = KFold(n_splits=5)\n",
        "score = en_c.score(X_train,y_train)\n",
        "print(\"Metrica del modelo de entrenamiento\", score)\n",
        "scores = cross_val_score(en_c, X_train, y_train, cv=kf, scoring=\"r2\")\n",
        "print(\"Metricas cross_validation\", scores)\n",
        "print(\"Media de cross_validation\", scores.mean())"
      ],
      "execution_count": null,
      "outputs": [
        {
          "output_type": "stream",
          "name": "stdout",
          "text": [
            "Metrica del modelo de entrenamiento 0.5262048331997713\n",
            "Metricas cross_validation [0.36185254 0.3498043  0.53324689 0.62785731 0.42350081]\n",
            "Media de cross_validation 0.4592523685911328\n"
          ]
        }
      ]
    },
    {
      "cell_type": "markdown",
      "metadata": {
        "id": "_6EQfTiVfalv"
      },
      "source": [
        "#### Tres Variables más barrio más renta"
      ]
    },
    {
      "cell_type": "markdown",
      "metadata": {
        "id": "Pd6nSkPyy1lg"
      },
      "source": [
        "##### Regresión "
      ]
    },
    {
      "cell_type": "code",
      "metadata": {
        "id": "f6VfpXrzffJW"
      },
      "source": [
        "# Nos quedamos solo con las variables que más correlación tienen de momento\n",
        "selected_features = ['Habitaciones', 'Banhos', \n",
        "                     'Superficie' , 'Barrio', 'Renta'\n",
        "                    ]"
      ],
      "execution_count": null,
      "outputs": []
    },
    {
      "cell_type": "code",
      "metadata": {
        "id": "KJcYEx3Wfgz8",
        "colab": {
          "base_uri": "https://localhost:8080/"
        },
        "outputId": "35fc8341-2904-487d-c5e1-b9bc0e708c36"
      },
      "source": [
        "# Estandarizamos las variables.\n",
        "m_standarizar = preprocessing.StandardScaler()\n",
        "X_train = m_standarizar.fit_transform(Bilbao_train[selected_features])\n",
        "X_test = m_standarizar.transform(Bilbao_test[selected_features])\n",
        "\n",
        "rl_d = linear_model.LinearRegression()\n",
        "rl_d.fit(X_train, y_train)\n",
        "\n",
        "y_pred = rl_d.predict(X_test)\n",
        "\n",
        "y = np.rint(y_pred) \n",
        "y = y.astype(int) \n",
        "resultado_rl_d = np.hstack(y)\n",
        "resultado_rl_d = r2_score(y_test, resultado_rl_d)\n",
        "resultado_rl_d"
      ],
      "execution_count": null,
      "outputs": [
        {
          "output_type": "execute_result",
          "data": {
            "text/plain": [
              "0.6438472928822541"
            ]
          },
          "metadata": {},
          "execution_count": 135
        }
      ]
    },
    {
      "cell_type": "code",
      "metadata": {
        "colab": {
          "base_uri": "https://localhost:8080/"
        },
        "id": "iPFKDGn21Hdz",
        "outputId": "4904acf7-9ba3-44c1-a5a9-f2591edbdc5c"
      },
      "source": [
        "kf = KFold(n_splits=5)\n",
        "score = rl_d.score(X_train,y_train)\n",
        "print(\"Metrica del modelo de entrenamiento\", score)\n",
        "scores = cross_val_score(rl_d, X_train, y_train, cv=kf, scoring=\"r2\")\n",
        "print(\"Metricas cross_validation\", scores)\n",
        "print(\"Media de cross_validation\", scores.mean())"
      ],
      "execution_count": null,
      "outputs": [
        {
          "output_type": "stream",
          "name": "stdout",
          "text": [
            "Metrica del modelo de entrenamiento 0.5277431722405419\n",
            "Metricas cross_validation [0.36596459 0.31859226 0.53293934 0.63662196 0.41909326]\n",
            "Media de cross_validation 0.45464228160211767\n"
          ]
        }
      ]
    },
    {
      "cell_type": "code",
      "metadata": {
        "colab": {
          "base_uri": "https://localhost:8080/",
          "height": 319
        },
        "id": "Y2Hm-_yvksEU",
        "outputId": "95e18557-4bcc-4757-ee99-67fa33df7581"
      },
      "source": [
        "xx = np.stack(i for i in range(Bilbao_test['Precio'].shape[0]))\n",
        "plt.plot(xx, Bilbao_test['Precio'], c='r', label='data')\n",
        "plt.plot(xx, y_pred, c='g', label='prediction')\n",
        "plt.axis('tight')\n",
        "plt.legend()\n",
        "\n",
        "plt.show()"
      ],
      "execution_count": null,
      "outputs": [
        {
          "output_type": "stream",
          "name": "stderr",
          "text": [
            "/usr/local/lib/python3.7/dist-packages/IPython/core/interactiveshell.py:2822: FutureWarning: arrays to stack must be passed as a \"sequence\" type such as list or tuple. Support for non-sequence iterables such as generators is deprecated as of NumPy 1.16 and will raise an error in the future.\n",
            "  if self.run_code(code, result):\n"
          ]
        },
        {
          "output_type": "display_data",
          "data": {
            "image/png": "[encoded data removed]",
            "text/plain": [
              "<Figure size 432x288 with 1 Axes>"
            ]
          },
          "metadata": {
            "needs_background": "light"
          }
        }
      ]
    },
    {
      "cell_type": "markdown",
      "metadata": {
        "id": "KcD1gQwJy7Mu"
      },
      "source": [
        "##### Arbol"
      ]
    },
    {
      "cell_type": "code",
      "metadata": {
        "id": "_-FYpudey9Nj"
      },
      "source": [
        "ad_d = DecisionTreeRegressor(criterion='mae', max_depth=5, random_state=78, max_features='sqrt')"
      ],
      "execution_count": null,
      "outputs": []
    },
    {
      "cell_type": "code",
      "metadata": {
        "colab": {
          "base_uri": "https://localhost:8080/"
        },
        "id": "NyVVr3Vmy9bt",
        "outputId": "3cf9afe8-432c-4c1e-fca4-70f759fbc647"
      },
      "source": [
        "# constructor\n",
        "ad_d = DecisionTreeRegressor(criterion='mae', max_depth=4, random_state=78, max_features='sqrt')\n",
        "# fit and predict\n",
        "\n",
        "ad_d.fit(Bilbao_train[selected_features], y_train)\n",
        "y_pred = ad_d.predict(Bilbao_test[selected_features])\n",
        "\n",
        "y = np.rint(y_pred) \n",
        "y = y.astype(int) \n",
        "resultado_ad_d = np.hstack(y)\n",
        "\n",
        "resultado_ad_d = r2_score(y_test, resultado_ad_d)\n",
        "resultado_ad_d"
      ],
      "execution_count": null,
      "outputs": [
        {
          "output_type": "execute_result",
          "data": {
            "text/plain": [
              "0.5155553843092929"
            ]
          },
          "metadata": {},
          "execution_count": 139
        }
      ]
    },
    {
      "cell_type": "code",
      "metadata": {
        "colab": {
          "base_uri": "https://localhost:8080/"
        },
        "id": "y6N1Ki9D09ho",
        "outputId": "174bb6ab-4334-41c3-abba-f01b5bbc9e8a"
      },
      "source": [
        "kf = KFold(n_splits=5)\n",
        "score = ad_d.score(Bilbao_train[selected_features],y_train)\n",
        "print(\"Metrica del modelo de entrenamiento\", score)\n",
        "scores = cross_val_score(ad_d, Bilbao_train[selected_features], y_train, cv=kf, scoring=\"r2\")\n",
        "print(\"Metricas cross_validation\", scores)\n",
        "print(\"Media de cross_validation\", scores.mean())"
      ],
      "execution_count": null,
      "outputs": [
        {
          "output_type": "stream",
          "name": "stdout",
          "text": [
            "Metrica del modelo de entrenamiento 0.5166134505012514\n",
            "Metricas cross_validation [0.22864549 0.17402097 0.50879823 0.59511049 0.41969996]\n",
            "Media de cross_validation 0.3852550272114543\n"
          ]
        }
      ]
    },
    {
      "cell_type": "markdown",
      "metadata": {
        "id": "ClXUwoXyztYt"
      },
      "source": [
        "##### SVR"
      ]
    },
    {
      "cell_type": "code",
      "metadata": {
        "colab": {
          "base_uri": "https://localhost:8080/"
        },
        "id": "0aD3dQ_R0mvB",
        "outputId": "101fb7be-57f1-442e-bdee-faa599a8c382"
      },
      "source": [
        "svr_d = SVR(kernel='linear', C=10, epsilon=1.5)\n",
        "\n",
        "svr_d.fit(X_train, y_train)\n",
        "\n",
        "Bilbao_test_svr=X_test\n",
        "y_pred = svr_d.predict(Bilbao_test_svr)\n",
        "\n",
        "y = np.rint(y_pred) \n",
        "y = y.astype(int) \n",
        "resultado_svr_d = np.hstack(y)\n",
        "\n",
        "resultado_svr_d = r2_score(y_test, resultado_svr_d)\n",
        "resultado_svr_d"
      ],
      "execution_count": null,
      "outputs": [
        {
          "output_type": "execute_result",
          "data": {
            "text/plain": [
              "0.6043999533247286"
            ]
          },
          "metadata": {},
          "execution_count": 141
        }
      ]
    },
    {
      "cell_type": "code",
      "metadata": {
        "colab": {
          "base_uri": "https://localhost:8080/"
        },
        "id": "l98FcmGk1K_Z",
        "outputId": "d27bda03-adbf-4919-e494-15895048f5b3"
      },
      "source": [
        "kf = KFold(n_splits=5)\n",
        "score = svr_d.score(X_train,y_train)\n",
        "print(\"Metrica del modelo de entrenamiento\", score)\n",
        "scores = cross_val_score(svr_d, X_train, y_train, cv=kf, scoring=\"r2\")\n",
        "print(\"Metricas cross_validation\", scores)\n",
        "print(\"Media de cross_validation\", scores.mean())"
      ],
      "execution_count": null,
      "outputs": [
        {
          "output_type": "stream",
          "name": "stdout",
          "text": [
            "Metrica del modelo de entrenamiento 0.5038803121748667\n",
            "Metricas cross_validation [0.37626482 0.35624756 0.53105757 0.61091625 0.43946811]\n",
            "Media de cross_validation 0.46279086017651705\n"
          ]
        }
      ]
    },
    {
      "cell_type": "markdown",
      "metadata": {
        "id": "MGO1m2nmG8Vl"
      },
      "source": [
        "##### Gradiente Boosting"
      ]
    },
    {
      "cell_type": "code",
      "metadata": {
        "colab": {
          "base_uri": "https://localhost:8080/"
        },
        "id": "oCDka-SBG8dA",
        "outputId": "b3ec8139-c957-48d6-8186-7e5b29c6b54b"
      },
      "source": [
        "gb_d = GradientBoostingRegressor(n_estimators=6, max_features='auto', random_state=78, learning_rate=0.5, \n",
        "                                min_samples_split=15, min_samples_leaf=5)\n",
        "\n",
        "gb_d.fit(Bilbao_train[selected_features], y_train)\n",
        "\n",
        "Bilbao_test_svr=Bilbao_test[selected_features]\n",
        "y_pred = gb_d.predict(Bilbao_test_svr)\n",
        "\n",
        "y = np.rint(y_pred) \n",
        "y = y.astype(int) \n",
        "resultado_gb_d = np.hstack(y)\n",
        "\n",
        "resultado_gb_d = r2_score(y_test, resultado_gb_d)\n",
        "resultado_gb_d"
      ],
      "execution_count": null,
      "outputs": [
        {
          "output_type": "execute_result",
          "data": {
            "text/plain": [
              "0.5009208987156208"
            ]
          },
          "metadata": {},
          "execution_count": 154
        }
      ]
    },
    {
      "cell_type": "code",
      "metadata": {
        "colab": {
          "base_uri": "https://localhost:8080/"
        },
        "id": "fCZ36ppY1gm4",
        "outputId": "fd892e67-52a5-46fd-a80e-b707f9efe94e"
      },
      "source": [
        "kf = KFold(n_splits=5)\n",
        "score = gb_d.score(Bilbao_train[selected_features],y_train)\n",
        "print(\"Metrica del modelo de entrenamiento\", score)\n",
        "scores = cross_val_score(gb_d, Bilbao_train[selected_features], y_train, cv=kf, scoring=\"r2\")\n",
        "print(\"Metricas cross_validation\", scores)\n",
        "print(\"Media de cross_validation\", scores.mean())"
      ],
      "execution_count": null,
      "outputs": [
        {
          "output_type": "stream",
          "name": "stdout",
          "text": [
            "Metrica del modelo de entrenamiento 0.6647371452055293\n",
            "Metricas cross_validation [0.46739544 0.56879176 0.55459436 0.6422278  0.43523447]\n",
            "Media de cross_validation 0.533648768117836\n"
          ]
        }
      ]
    },
    {
      "cell_type": "code",
      "metadata": {
        "colab": {
          "base_uri": "https://localhost:8080/",
          "height": 319
        },
        "id": "1VP-hd5VjC6n",
        "outputId": "369bf7f3-c1a5-4e65-e9de-8e1fd5481688"
      },
      "source": [
        "xx = np.stack(i for i in range(Bilbao_test['Precio'].shape[0]))\n",
        "plt.plot(xx, Bilbao_test['Precio'], c='r', label='data')\n",
        "plt.plot(xx, y_pred, c='g', label='prediction')\n",
        "plt.axis('tight')\n",
        "plt.legend()\n",
        "\n",
        "plt.show()"
      ],
      "execution_count": null,
      "outputs": [
        {
          "output_type": "stream",
          "name": "stderr",
          "text": [
            "/usr/local/lib/python3.7/dist-packages/IPython/core/interactiveshell.py:2822: FutureWarning: arrays to stack must be passed as a \"sequence\" type such as list or tuple. Support for non-sequence iterables such as generators is deprecated as of NumPy 1.16 and will raise an error in the future.\n",
            "  if self.run_code(code, result):\n"
          ]
        },
        {
          "output_type": "display_data",
          "data": {
            "image/png": "[encoded data removed]",
            "text/plain": [
              "<Figure size 432x288 with 1 Axes>"
            ]
          },
          "metadata": {
            "needs_background": "light"
          }
        }
      ]
    },
    {
      "cell_type": "markdown",
      "metadata": {
        "id": "UfGNoDlMY1Qw"
      },
      "source": [
        "##### lasso"
      ]
    },
    {
      "cell_type": "code",
      "metadata": {
        "colab": {
          "base_uri": "https://localhost:8080/"
        },
        "id": "q1zqsl4jY3bD",
        "outputId": "f04e333c-521d-4105-aadb-a73a415a74c8"
      },
      "source": [
        "ls_d = Lasso(alpha=0.001, random_state=78)\n",
        "ls_d.fit(X_train, y_train)\n",
        "y_pred = ls_d.predict(X_test)\n",
        "\n",
        "y = np.rint(y_pred) \n",
        "y = y.astype(int) \n",
        "resultado_ls_d = np.hstack(y)\n",
        "resultado_ls_d = r2_score(y_test, resultado_ls_d)\n",
        "resultado_ls_d"
      ],
      "execution_count": null,
      "outputs": [
        {
          "output_type": "execute_result",
          "data": {
            "text/plain": [
              "0.6438535509885517"
            ]
          },
          "metadata": {},
          "execution_count": 177
        }
      ]
    },
    {
      "cell_type": "code",
      "metadata": {
        "colab": {
          "base_uri": "https://localhost:8080/"
        },
        "id": "tAkEqPrl1lVa",
        "outputId": "254fe979-4257-4f6c-cdf0-ae42e6d0e9d1"
      },
      "source": [
        "kf = KFold(n_splits=5)\n",
        "score = ls_d.score(X_train,y_train)\n",
        "print(\"Metrica del modelo de entrenamiento\", score)\n",
        "scores = cross_val_score(ls_d, X_train, y_train, cv=kf, scoring=\"r2\")\n",
        "print(\"Metricas cross_validation\", scores)\n",
        "print(\"Media de cross_validation\", scores.mean())"
      ],
      "execution_count": null,
      "outputs": [
        {
          "output_type": "stream",
          "name": "stdout",
          "text": [
            "Metrica del modelo de entrenamiento 0.5277431721239783\n",
            "Metricas cross_validation [0.36596388 0.31859445 0.53293793 0.63661951 0.41909864]\n",
            "Media de cross_validation 0.45464288087409904\n"
          ]
        }
      ]
    },
    {
      "cell_type": "code",
      "metadata": {
        "colab": {
          "base_uri": "https://localhost:8080/",
          "height": 319
        },
        "id": "N_gx1rvD9IDY",
        "outputId": "d7ee87ec-873d-4818-a51e-5d46a3100d2c"
      },
      "source": [
        "xx = np.stack(i for i in range(Bilbao_test['Precio'].shape[0]))\n",
        "plt.plot(xx, Bilbao_test['Precio'], c='r', label='data')\n",
        "plt.plot(xx, y_pred, c='g', label='prediction')\n",
        "plt.axis('tight')\n",
        "plt.legend()\n",
        "\n",
        "plt.show()"
      ],
      "execution_count": null,
      "outputs": [
        {
          "output_type": "stream",
          "name": "stderr",
          "text": [
            "/usr/local/lib/python3.7/dist-packages/IPython/core/interactiveshell.py:2822: FutureWarning: arrays to stack must be passed as a \"sequence\" type such as list or tuple. Support for non-sequence iterables such as generators is deprecated as of NumPy 1.16 and will raise an error in the future.\n",
            "  if self.run_code(code, result):\n"
          ]
        },
        {
          "output_type": "display_data",
          "data": {
            "image/png": "[encoded data removed]",
            "text/plain": [
              "<Figure size 432x288 with 1 Axes>"
            ]
          },
          "metadata": {
            "needs_background": "light"
          }
        }
      ]
    },
    {
      "cell_type": "markdown",
      "metadata": {
        "id": "M3HLBrQO5xB1"
      },
      "source": [
        "##### Ridge"
      ]
    },
    {
      "cell_type": "code",
      "metadata": {
        "colab": {
          "base_uri": "https://localhost:8080/"
        },
        "id": "AMzEpHlm5y53",
        "outputId": "2723ba2b-d8be-449c-cd99-f50e1d818bfa"
      },
      "source": [
        "rg_d = Ridge(alpha=0.001, random_state=78,fit_intercept = True)\n",
        "rg_d.fit(X_train, y_train)\n",
        "y_pred = rg_d.predict(X_test)\n",
        "\n",
        "y = np.rint(y_pred) \n",
        "y = y.astype(int) \n",
        "resultado_rg_d = np.hstack(y)\n",
        "resultado_rg_d = r2_score(y_test, resultado_rg_d)\n",
        "resultado_rg_d"
      ],
      "execution_count": null,
      "outputs": [
        {
          "output_type": "execute_result",
          "data": {
            "text/plain": [
              "0.6438472928822541"
            ]
          },
          "metadata": {},
          "execution_count": 159
        }
      ]
    },
    {
      "cell_type": "code",
      "metadata": {
        "colab": {
          "base_uri": "https://localhost:8080/"
        },
        "id": "qFXcy5ho11-k",
        "outputId": "5c68fb94-5f74-4702-d469-1d10dae83a6c"
      },
      "source": [
        "kf = KFold(n_splits=5)\n",
        "score = rg_d.score(X_train,y_train)\n",
        "print(\"Metrica del modelo de entrenamiento\", score)\n",
        "scores = cross_val_score(rg_d, X_train, y_train, cv=kf, scoring=\"r2\")\n",
        "print(\"Metricas cross_validation\", scores)\n",
        "print(\"Media de cross_validation\", scores.mean())"
      ],
      "execution_count": null,
      "outputs": [
        {
          "output_type": "stream",
          "name": "stdout",
          "text": [
            "Metrica del modelo de entrenamiento 0.5277431722332686\n",
            "Metricas cross_validation [0.3659658  0.31859369 0.53293926 0.63662079 0.41909527]\n",
            "Media de cross_validation 0.4546429639975201\n"
          ]
        }
      ]
    },
    {
      "cell_type": "markdown",
      "metadata": {
        "id": "pw1eFx4D6Fd4"
      },
      "source": [
        "##### ElasticNet"
      ]
    },
    {
      "cell_type": "code",
      "metadata": {
        "colab": {
          "base_uri": "https://localhost:8080/"
        },
        "id": "rp2ZHzfT6Ht3",
        "outputId": "0ca23e0b-9c7b-4aa0-e2a6-b1f1db1029b7"
      },
      "source": [
        "en_d = ElasticNet(alpha=2, l1_ratio = 1, random_state=78,fit_intercept = True)\n",
        "en_d.fit(X_train, y_train)\n",
        "y_pred = en_d.predict(X_test)\n",
        "\n",
        "y = np.rint(y_pred) \n",
        "y = y.astype(int) \n",
        "resultado_en_d = np.hstack(y)\n",
        "resultado_en_d = r2_score(y_test, resultado_en_d)\n",
        "resultado_en_d"
      ],
      "execution_count": null,
      "outputs": [
        {
          "output_type": "execute_result",
          "data": {
            "text/plain": [
              "0.6431385527457303"
            ]
          },
          "metadata": {},
          "execution_count": 161
        }
      ]
    },
    {
      "cell_type": "code",
      "metadata": {
        "colab": {
          "base_uri": "https://localhost:8080/"
        },
        "id": "S-J9LRLZ14Kf",
        "outputId": "edbe8599-632a-4d6f-f642-b8e8c651ffc0"
      },
      "source": [
        "kf = KFold(n_splits=5)\n",
        "score = en_d.score(X_train,y_train)\n",
        "print(\"Metrica del modelo de entrenamiento\", score)\n",
        "scores = cross_val_score(en_d, X_train, y_train, cv=kf, scoring=\"r2\")\n",
        "print(\"Metricas cross_validation\", scores)\n",
        "print(\"Media de cross_validation\", scores.mean())"
      ],
      "execution_count": null,
      "outputs": [
        {
          "output_type": "stream",
          "name": "stdout",
          "text": [
            "Metrica del modelo de entrenamiento 0.527499797276326\n",
            "Metricas cross_validation [0.36401632 0.32977093 0.53104531 0.6302441  0.42629331]\n",
            "Media de cross_validation 0.4562739918939204\n"
          ]
        }
      ]
    },
    {
      "cell_type": "code",
      "metadata": {
        "colab": {
          "base_uri": "https://localhost:8080/",
          "height": 266
        },
        "id": "QxKM71OR2qSg",
        "outputId": "17176df6-ad6d-409d-dcd6-8a15c78ff359"
      },
      "source": [
        "resultados_a = [resultado_rl_a, resultado_ad_a, resultado_svr_a, \n",
        "                  resultado_gb_a, resultado_ls_a, resultado_rg_a, resultado_en_a]\n",
        "labels = ['Regresion lineal', 'Árbol de decisión', 'SVR', 'Gradient Boosting',\n",
        "           'Lasso', 'Ridge',  'ElasticNet']\n",
        "\n",
        "scoreModels = pd.DataFrame({'Models': labels,\n",
        "                            'resultados': resultados})\n",
        "scoreModels.sort_values(by = 'resultados', ascending = False)"
      ],
      "execution_count": null,
      "outputs": [
        {
          "output_type": "execute_result",
          "data": {
            "text/html": [
              "<div>\n",
              "<style scoped>\n",
              "    .dataframe tbody tr th:only-of-type {\n",
              "        vertical-align: middle;\n",
              "    }\n",
              "\n",
              "    .dataframe tbody tr th {\n",
              "        vertical-align: top;\n",
              "    }\n",
              "\n",
              "    .dataframe thead th {\n",
              "        text-align: right;\n",
              "    }\n",
              "</style>\n",
              "<table border=\"1\" class=\"dataframe\">\n",
              "  <thead>\n",
              "    <tr style=\"text-align: right;\">\n",
              "      <th></th>\n",
              "      <th>Models</th>\n",
              "      <th>resultados</th>\n",
              "    </tr>\n",
              "  </thead>\n",
              "  <tbody>\n",
              "    <tr>\n",
              "      <th>0</th>\n",
              "      <td>Regresion lineal</td>\n",
              "      <td>0.620990</td>\n",
              "    </tr>\n",
              "    <tr>\n",
              "      <th>4</th>\n",
              "      <td>Lasso</td>\n",
              "      <td>0.620990</td>\n",
              "    </tr>\n",
              "    <tr>\n",
              "      <th>5</th>\n",
              "      <td>Ridge</td>\n",
              "      <td>0.620217</td>\n",
              "    </tr>\n",
              "    <tr>\n",
              "      <th>6</th>\n",
              "      <td>ElasticNet</td>\n",
              "      <td>0.620143</td>\n",
              "    </tr>\n",
              "    <tr>\n",
              "      <th>2</th>\n",
              "      <td>SVR</td>\n",
              "      <td>0.562930</td>\n",
              "    </tr>\n",
              "    <tr>\n",
              "      <th>3</th>\n",
              "      <td>Gradient Boosting</td>\n",
              "      <td>0.454979</td>\n",
              "    </tr>\n",
              "    <tr>\n",
              "      <th>1</th>\n",
              "      <td>Árbol de decisión</td>\n",
              "      <td>0.330174</td>\n",
              "    </tr>\n",
              "  </tbody>\n",
              "</table>\n",
              "</div>"
            ],
            "text/plain": [
              "              Models  resultados\n",
              "0   Regresion lineal    0.620990\n",
              "4              Lasso    0.620990\n",
              "5              Ridge    0.620217\n",
              "6         ElasticNet    0.620143\n",
              "2                SVR    0.562930\n",
              "3  Gradient Boosting    0.454979\n",
              "1  Árbol de decisión    0.330174"
            ]
          },
          "metadata": {},
          "execution_count": 172
        }
      ]
    },
    {
      "cell_type": "code",
      "metadata": {
        "colab": {
          "base_uri": "https://localhost:8080/",
          "height": 266
        },
        "id": "LFUBHWHX2iMi",
        "outputId": "49b06ddd-533f-4da2-9f3e-b756a867350a"
      },
      "source": [
        "resultados_b = [resultado_rl_b, resultado_ad_b, resultado_svr_b, \n",
        "                  resultado_gb_b, resultado_ls_b, resultado_rg_b, resultado_en_b]\n",
        "labels = ['Regresion lineal', 'Árbol de decisión', 'SVR', 'Gradient Boosting',\n",
        "           'Lasso', 'Ridge',  'ElasticNet']\n",
        "\n",
        "scoreModels = pd.DataFrame({'Models': labels,\n",
        "                            'resultados': resultados_b})\n",
        "scoreModels.sort_values(by = 'resultados', ascending = False)"
      ],
      "execution_count": null,
      "outputs": [
        {
          "output_type": "execute_result",
          "data": {
            "text/html": [
              "<div>\n",
              "<style scoped>\n",
              "    .dataframe tbody tr th:only-of-type {\n",
              "        vertical-align: middle;\n",
              "    }\n",
              "\n",
              "    .dataframe tbody tr th {\n",
              "        vertical-align: top;\n",
              "    }\n",
              "\n",
              "    .dataframe thead th {\n",
              "        text-align: right;\n",
              "    }\n",
              "</style>\n",
              "<table border=\"1\" class=\"dataframe\">\n",
              "  <thead>\n",
              "    <tr style=\"text-align: right;\">\n",
              "      <th></th>\n",
              "      <th>Models</th>\n",
              "      <th>resultados</th>\n",
              "    </tr>\n",
              "  </thead>\n",
              "  <tbody>\n",
              "    <tr>\n",
              "      <th>0</th>\n",
              "      <td>Regresion lineal</td>\n",
              "      <td>0.642444</td>\n",
              "    </tr>\n",
              "    <tr>\n",
              "      <th>4</th>\n",
              "      <td>Lasso</td>\n",
              "      <td>0.642444</td>\n",
              "    </tr>\n",
              "    <tr>\n",
              "      <th>5</th>\n",
              "      <td>Ridge</td>\n",
              "      <td>0.642444</td>\n",
              "    </tr>\n",
              "    <tr>\n",
              "      <th>6</th>\n",
              "      <td>ElasticNet</td>\n",
              "      <td>0.641828</td>\n",
              "    </tr>\n",
              "    <tr>\n",
              "      <th>2</th>\n",
              "      <td>SVR</td>\n",
              "      <td>0.597420</td>\n",
              "    </tr>\n",
              "    <tr>\n",
              "      <th>1</th>\n",
              "      <td>Árbol de decisión</td>\n",
              "      <td>0.589292</td>\n",
              "    </tr>\n",
              "    <tr>\n",
              "      <th>3</th>\n",
              "      <td>Gradient Boosting</td>\n",
              "      <td>0.448512</td>\n",
              "    </tr>\n",
              "  </tbody>\n",
              "</table>\n",
              "</div>"
            ],
            "text/plain": [
              "              Models  resultados\n",
              "0   Regresion lineal    0.642444\n",
              "4              Lasso    0.642444\n",
              "5              Ridge    0.642444\n",
              "6         ElasticNet    0.641828\n",
              "2                SVR    0.597420\n",
              "1  Árbol de decisión    0.589292\n",
              "3  Gradient Boosting    0.448512"
            ]
          },
          "metadata": {},
          "execution_count": 171
        }
      ]
    },
    {
      "cell_type": "code",
      "metadata": {
        "colab": {
          "base_uri": "https://localhost:8080/",
          "height": 266
        },
        "id": "IdM6vzQ72ZT-",
        "outputId": "c8e3f86e-a03d-445d-c2dc-1a78fbab6e8a"
      },
      "source": [
        "resultados_c = [resultado_rl_c, resultado_ad_c, resultado_svr_c, \n",
        "                  resultado_gb_c, resultado_ls_c, resultado_rg_c, resultado_en_c]\n",
        "labels = ['Regresion lineal', 'Árbol de decisión', 'SVR', 'Gradient Boosting',\n",
        "           'Lasso', 'Ridge',  'ElasticNet']\n",
        "\n",
        "scoreModels = pd.DataFrame({'Models': labels,\n",
        "                            'resultados': resultados_c})\n",
        "scoreModels.sort_values(by = 'resultados', ascending = False)"
      ],
      "execution_count": null,
      "outputs": [
        {
          "output_type": "execute_result",
          "data": {
            "text/html": [
              "<div>\n",
              "<style scoped>\n",
              "    .dataframe tbody tr th:only-of-type {\n",
              "        vertical-align: middle;\n",
              "    }\n",
              "\n",
              "    .dataframe tbody tr th {\n",
              "        vertical-align: top;\n",
              "    }\n",
              "\n",
              "    .dataframe thead th {\n",
              "        text-align: right;\n",
              "    }\n",
              "</style>\n",
              "<table border=\"1\" class=\"dataframe\">\n",
              "  <thead>\n",
              "    <tr style=\"text-align: right;\">\n",
              "      <th></th>\n",
              "      <th>Models</th>\n",
              "      <th>resultados</th>\n",
              "    </tr>\n",
              "  </thead>\n",
              "  <tbody>\n",
              "    <tr>\n",
              "      <th>0</th>\n",
              "      <td>Regresion lineal</td>\n",
              "      <td>0.644258</td>\n",
              "    </tr>\n",
              "    <tr>\n",
              "      <th>4</th>\n",
              "      <td>Lasso</td>\n",
              "      <td>0.644258</td>\n",
              "    </tr>\n",
              "    <tr>\n",
              "      <th>5</th>\n",
              "      <td>Ridge</td>\n",
              "      <td>0.644258</td>\n",
              "    </tr>\n",
              "    <tr>\n",
              "      <th>6</th>\n",
              "      <td>ElasticNet</td>\n",
              "      <td>0.643660</td>\n",
              "    </tr>\n",
              "    <tr>\n",
              "      <th>2</th>\n",
              "      <td>SVR</td>\n",
              "      <td>0.602810</td>\n",
              "    </tr>\n",
              "    <tr>\n",
              "      <th>3</th>\n",
              "      <td>Gradient Boosting</td>\n",
              "      <td>0.471351</td>\n",
              "    </tr>\n",
              "    <tr>\n",
              "      <th>1</th>\n",
              "      <td>Árbol de decisión</td>\n",
              "      <td>0.402737</td>\n",
              "    </tr>\n",
              "  </tbody>\n",
              "</table>\n",
              "</div>"
            ],
            "text/plain": [
              "              Models  resultados\n",
              "0   Regresion lineal    0.644258\n",
              "4              Lasso    0.644258\n",
              "5              Ridge    0.644258\n",
              "6         ElasticNet    0.643660\n",
              "2                SVR    0.602810\n",
              "3  Gradient Boosting    0.471351\n",
              "1  Árbol de decisión    0.402737"
            ]
          },
          "metadata": {},
          "execution_count": 170
        }
      ]
    },
    {
      "cell_type": "code",
      "metadata": {
        "colab": {
          "base_uri": "https://localhost:8080/",
          "height": 266
        },
        "id": "40hKnA6Q1Zdu",
        "outputId": "ea45052b-fa95-4555-9ee7-053551fb0172"
      },
      "source": [
        "resultados_d = [resultado_rl_d, resultado_ad_d, resultado_svr_d, \n",
        "                  resultado_gb_d, resultado_ls_d, resultado_rg_d, resultado_en_d]\n",
        "labels = ['Regresion lineal', 'Árbol de decisión', 'SVR', 'Gradient Boosting',\n",
        "           'Lasso', 'Ridge',  'ElasticNet']\n",
        "\n",
        "scoreModels = pd.DataFrame({'Models': labels,\n",
        "                            'resultados': resultados_d})\n",
        "scoreModels.sort_values(by = 'resultados', ascending = False)"
      ],
      "execution_count": null,
      "outputs": [
        {
          "output_type": "execute_result",
          "data": {
            "text/html": [
              "<div>\n",
              "<style scoped>\n",
              "    .dataframe tbody tr th:only-of-type {\n",
              "        vertical-align: middle;\n",
              "    }\n",
              "\n",
              "    .dataframe tbody tr th {\n",
              "        vertical-align: top;\n",
              "    }\n",
              "\n",
              "    .dataframe thead th {\n",
              "        text-align: right;\n",
              "    }\n",
              "</style>\n",
              "<table border=\"1\" class=\"dataframe\">\n",
              "  <thead>\n",
              "    <tr style=\"text-align: right;\">\n",
              "      <th></th>\n",
              "      <th>Models</th>\n",
              "      <th>resultados</th>\n",
              "    </tr>\n",
              "  </thead>\n",
              "  <tbody>\n",
              "    <tr>\n",
              "      <th>4</th>\n",
              "      <td>Lasso</td>\n",
              "      <td>0.643854</td>\n",
              "    </tr>\n",
              "    <tr>\n",
              "      <th>0</th>\n",
              "      <td>Regresion lineal</td>\n",
              "      <td>0.643847</td>\n",
              "    </tr>\n",
              "    <tr>\n",
              "      <th>5</th>\n",
              "      <td>Ridge</td>\n",
              "      <td>0.643847</td>\n",
              "    </tr>\n",
              "    <tr>\n",
              "      <th>6</th>\n",
              "      <td>ElasticNet</td>\n",
              "      <td>0.643139</td>\n",
              "    </tr>\n",
              "    <tr>\n",
              "      <th>2</th>\n",
              "      <td>SVR</td>\n",
              "      <td>0.604400</td>\n",
              "    </tr>\n",
              "    <tr>\n",
              "      <th>1</th>\n",
              "      <td>Árbol de decisión</td>\n",
              "      <td>0.515555</td>\n",
              "    </tr>\n",
              "    <tr>\n",
              "      <th>3</th>\n",
              "      <td>Gradient Boosting</td>\n",
              "      <td>0.500921</td>\n",
              "    </tr>\n",
              "  </tbody>\n",
              "</table>\n",
              "</div>"
            ],
            "text/plain": [
              "              Models  resultados\n",
              "4              Lasso    0.643854\n",
              "0   Regresion lineal    0.643847\n",
              "5              Ridge    0.643847\n",
              "6         ElasticNet    0.643139\n",
              "2                SVR    0.604400\n",
              "1  Árbol de decisión    0.515555\n",
              "3  Gradient Boosting    0.500921"
            ]
          },
          "metadata": {},
          "execution_count": 169
        }
      ]
    }
  ]
}