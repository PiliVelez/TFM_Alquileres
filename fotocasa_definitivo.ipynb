{
 "cells": [
  {
   "cell_type": "code",
   "execution_count": 23,
   "metadata": {},
   "outputs": [
    {
     "name": "stdout",
     "output_type": "stream",
     "text": [
      "Requirement already satisfied: selenium in c:\\users\\pilar\\anaconda3\\lib\\site-packages (3.141.0)\n",
      "Requirement already satisfied: urllib3 in c:\\users\\pilar\\anaconda3\\lib\\site-packages (from selenium) (1.25.11)\n",
      "Note: you may need to restart the kernel to use updated packages.\n"
     ]
    }
   ],
   "source": [
    "pip install selenium\n"
   ]
  },
  {
   "cell_type": "code",
   "execution_count": 53,
   "metadata": {},
   "outputs": [],
   "source": [
    "import time\n",
    "from selenium.webdriver.common.keys import Keys\n",
    "from selenium import webdriver\n",
    "import bs4\n",
    "from bs4 import BeautifulSoup \n",
    "from selenium.webdriver.common.action_chains import ActionChains\n",
    "import pandas as pd"
   ]
  },
  {
   "cell_type": "code",
   "execution_count": 54,
   "metadata": {},
   "outputs": [
    {
     "ename": "AttributeError",
     "evalue": "'WebDriver' object has no attribute 'maximize_windows'",
     "output_type": "error",
     "traceback": [
      "\u001b[1;31m---------------------------------------------------------------------------\u001b[0m",
      "\u001b[1;31mAttributeError\u001b[0m                            Traceback (most recent call last)",
      "\u001b[1;32m<ipython-input-54-f09b1783bc98>\u001b[0m in \u001b[0;36m<module>\u001b[1;34m\u001b[0m\n\u001b[0;32m      1\u001b[0m \u001b[0mdriver\u001b[0m\u001b[1;33m=\u001b[0m\u001b[0mwebdriver\u001b[0m\u001b[1;33m.\u001b[0m\u001b[0mChrome\u001b[0m\u001b[1;33m(\u001b[0m\u001b[1;34mr\"chromedriver.exe\"\u001b[0m\u001b[1;33m)\u001b[0m\u001b[1;33m\u001b[0m\u001b[1;33m\u001b[0m\u001b[0m\n\u001b[0;32m      2\u001b[0m \u001b[0mdriver\u001b[0m\u001b[1;33m.\u001b[0m\u001b[0mget\u001b[0m\u001b[1;33m(\u001b[0m\u001b[1;34m\"https://www.fotocasa.es\"\u001b[0m\u001b[1;33m)\u001b[0m\u001b[1;33m\u001b[0m\u001b[1;33m\u001b[0m\u001b[0m\n\u001b[1;32m----> 3\u001b[1;33m \u001b[0mdriver\u001b[0m\u001b[1;33m.\u001b[0m\u001b[0mmaximize_windows\u001b[0m\u001b[1;33m(\u001b[0m\u001b[1;33m)\u001b[0m\u001b[1;33m\u001b[0m\u001b[1;33m\u001b[0m\u001b[0m\n\u001b[0m",
      "\u001b[1;31mAttributeError\u001b[0m: 'WebDriver' object has no attribute 'maximize_windows'"
     ]
    }
   ],
   "source": [
    "driver=webdriver.Chrome(r\"chromedriver.exe\")\n",
    "driver.get(\"https://www.fotocasa.es\")\n",
    "driver.maximize_windows()"
   ]
  },
  {
   "cell_type": "code",
   "execution_count": 55,
   "metadata": {},
   "outputs": [],
   "source": [
    "time.sleep(2)\n",
    "alquilar=driver.find_element_by_xpath('.//div[@class=\"re-HomeSearchSelector-item re-HomeSearchSelector-item--rent\"]')\n",
    "alquilar.click()"
   ]
  },
  {
   "cell_type": "code",
   "execution_count": 56,
   "metadata": {},
   "outputs": [],
   "source": [
    "time.sleep(2)\n",
    "buscador=driver.find_element_by_xpath('.//div[@class=\"sui-MoleculeAutosuggest-input-container\"]/input')\n",
    "buscador.click()\n"
   ]
  },
  {
   "cell_type": "code",
   "execution_count": 57,
   "metadata": {},
   "outputs": [],
   "source": [
    "buscador.send_keys('Bilbao')\n",
    "time.sleep(1)\n",
    "buscador.send_keys(Keys.ENTER)"
   ]
  },
  {
   "cell_type": "code",
   "execution_count": 304,
   "metadata": {},
   "outputs": [],
   "source": [
    "for i in range(20):\n",
    "    html_txt25=driver.page_source\n",
    "    soup=BeautifulSoup(html_txt25)\n",
    "    listaprecios=[]\n",
    "\n",
    "    precios = soup.find_all('div', class_=\"re-CardPriceComposite\")\n",
    "    for precio in precios:\n",
    "        pr=precio.find('span').getText()\n",
    "        listaprecios.append(pr)\n",
    "    \n",
    "    ActionChains(driver).key_down(Keys.PAGE_DOWN).key_up(Keys.PAGE_DOWN).perform()\n",
    "    time.sleep(0.5)\n",
    "    \n",
    "listahabitaciones=[]\n",
    "    \n",
    "habitaciones = soup.find_all('span', class_=\"re-CardFeatures-feature\") \n",
    "\n",
    "for habitacion in habitaciones:\n",
    "    hab=habitacion.getText()\n",
    "    listahabitaciones.append(hab) \n",
    "    \n",
    "\n",
    "listatipo=[]\n",
    "    \n",
    "#tipos = soup.find_all('div', class_=\"re-Card-wrapperTitle\") \n",
    "tipos = soup.find_all('span', class_=\"re-CardTitle re-CardTitle--ayce\") \n",
    "for tipo in tipos:\n",
    "    tip=tipo.find('span').getText()\n",
    "    listatipo.append(tip)\n",
    "        \n",
    "\n",
    "listacalles=[]\n",
    "    \n",
    "#calles = soup.find_all('div', class_=\"re-Card-wrapperTitle\") \n",
    "calles = soup.find_all('span', class_=\"re-CardTitle re-CardTitle--ayce\") \n",
    "for calle in calles:\n",
    "#    cal=calle.find('h3').getText()\n",
    "    cal=calle.getText()\n",
    "    if \"Piso\" in cal:\n",
    "        cal=cal[4:]\n",
    "        listacalles.append(cal)\n",
    "    else:\n",
    "        if \"Apartamento\" in cal:\n",
    "            cal=cal[11:]\n",
    "            listacalles.append(cal)\n",
    "        else:\n",
    "            if \"Ático\" in cal:\n",
    "                cal=cal[5:]\n",
    "                listacalles.append(cal)\n",
    "            else:\n",
    "                if \"Dúplex\" in cal:\n",
    "                    cal=cal[6:]\n",
    "                    listacalles.append(cal)\n",
    "                else:\n",
    "                    if \"Estudio\" in cal:\n",
    "                        cal=cal[7:]\n",
    "                        listacalles.append(cal)\n",
    "                    else:\n",
    "                        listacalles.append(cal)   \n",
    "                            \n"
   ]
  },
  {
   "cell_type": "code",
   "execution_count": 305,
   "metadata": {},
   "outputs": [
    {
     "name": "stdout",
     "output_type": "stream",
     "text": [
      "['5 habs.', '3 baños', '145 m²', '', '3 habs.', '2 baños', '100 m²', '', '100 m²', '', '4 habs.', '112 m²', '', '4 habs.', '110 m²', '', '4 habs.', '109 m²', '', '4 habs.', '4 baños', '158 m²', '']\n",
      "['1.900 € /mes', '1.000 € /mes', '1.100 € /mes', '1.800 €', '1.800 €', '1.800 €', 'A consultar']\n",
      "['Piso', 'Piso', 'Piso']\n",
      "['Deusto', 'Deusto', 'Buenos Aires, Abando - Albia']\n"
     ]
    }
   ],
   "source": [
    "print(listahabitaciones)\n",
    "print(listaprecios)\n",
    "print(listatipo)\n",
    "print(listacalles)"
   ]
  },
  {
   "cell_type": "code",
   "execution_count": 306,
   "metadata": {},
   "outputs": [
    {
     "name": "stdout",
     "output_type": "stream",
     "text": [
      "['5', '3', '4', '4', '4', '4']\n",
      "['3', '2', 0, 0, 0, '4']\n",
      "['145', '100', '112', '110', '109', '158']\n",
      "['N', 'N', 'N', 'N', 'N', 'N']\n",
      "['N', 'N', 'N', 'N', 'N', 'N']\n",
      "['N', 'N', 'N', 'N', 'N', 'N']\n"
     ]
    }
   ],
   "source": [
    "ind_comienzo = 0\n",
    "ind_reg_nuevo = 0\n",
    "\n",
    "# Indicadores para que todas las listas tengan el mismo número de elementos.\n",
    "ind_precio = 0\n",
    "ind_hab = 0\n",
    "ind_habs = 0\n",
    "ind_bano = 0\n",
    "ind_banos = 0\n",
    "ind_metros = 0\n",
    "ind_ascensor = 0\n",
    "ind_terraza = 0\n",
    "ind_parking = 0\n",
    "col_ignorar = []\n",
    "ignorar = 0\n",
    "contador = 0\n",
    "num_ignorados = 0\n",
    "\n",
    "#Lista de elementos para comentar las columnas\n",
    "col_precios=[]\n",
    "col_habitaciones=[]\n",
    "col_banos=[]\n",
    "col_metros=[]\n",
    "col_terraza=[]\n",
    "col_ascensor=[]\n",
    "col_parking=[]\n",
    "\n",
    "for elemento in listahabitaciones:\n",
    "# Habitaciones\n",
    "    if \"habs\" in elemento:\n",
    "        ind_habs = 1\n",
    "        ind_reg_nuevo = 1\n",
    "        hab = elemento[-7]\n",
    "        col_habitaciones.append(hab) \n",
    "        \n",
    "    else:\n",
    "        if \"hab\" in elemento:\n",
    "            ind_hab = 1\n",
    "            ind_reg_nuevo = 1\n",
    "            hab = elemento[-6]\n",
    "            col_habitaciones.append(hab) \n",
    "# Baños            \n",
    "    if \"baños\" in elemento:\n",
    "        if ind_reg_nuevo == 0 and (ind_bano == 1 or ind_banos ==1):\n",
    "            ignorar = 1\n",
    "        else:\n",
    "            ind_banos = 1\n",
    "            ban = elemento[-7]\n",
    "            col_banos.append(ban)       \n",
    "    else:\n",
    "        if \"baño\" in elemento:           \n",
    "            if ind_reg_nuevo == 0 and (ind_bano == 1 or ind_banos ==1):\n",
    "                ignorar = 1\n",
    "            else:\n",
    "                ind_bano = 1\n",
    "                ban = elemento[-6]\n",
    "                col_banos.append(ban)      \n",
    "# Metros cuadrados\n",
    "    if \"m²\" in elemento:\n",
    "        if ind_reg_nuevo == 0 and ind_metros == 1:\n",
    "             ignorar = 1\n",
    "        else:\n",
    "            ind_metros = 1\n",
    "            met = elemento[0:-3]\n",
    "            col_metros.append(met)   \n",
    "# Ascensor\n",
    "    if \"ascensor\" in elemento:\n",
    "        if ind_reg_nuevo == 0 and ind_ascensor == 1:\n",
    "             ignorar = 1\n",
    "        else:\n",
    "            ind_ascensor = 1\n",
    "            col_ascensor.append('S')  \n",
    "# Terraza\n",
    "    if \"terraza\" in elemento:\n",
    "        ind_terraza = 1\n",
    "        col_terraza.append('S') \n",
    "# Parking\n",
    "    if \"parking\" in elemento:\n",
    "        ind_parking = 1\n",
    "        col_parking.append('S') \n",
    "        \n",
    "    if ind_comienzo == 0:  \n",
    "        ind_comienzo = 1\n",
    "        ind_reg_nuevo = 0\n",
    "    else:\n",
    "# Si es un registro nuevo tenemos que escribir a ceros o a espacios aquellos datos de los que no tengamos información\n",
    "        if ind_reg_nuevo == 1:\n",
    "            if  ind_bano == 0 and ind_banos == 0:\n",
    "                col_banos.append(0) \n",
    "            if ind_metros == 0:\n",
    "                col_metros.append(0)\n",
    "            if ind_terraza == 0:\n",
    "                col_terraza.append('N')      \n",
    "            if ind_ascensor == 0:\n",
    "                col_ascensor.append('N')    \n",
    "            if ind_parking == 0:\n",
    "                col_parking.append('N')   \n",
    " # Inicializamos contadores.           \n",
    "            ind_reg_nuevo = 0\n",
    "            ind_habs = 0\n",
    "            ind_hab = 0\n",
    "            ind_bano = 0\n",
    "            ind_banos = 0\n",
    "            ind_metros = 0\n",
    "            ind_terraza = 0\n",
    "            ind_ascensor = 0\n",
    "            ind_parking = 0\n",
    "\n",
    "            if  ignorar == 1:\n",
    "                col_ignorar.append(contador)\n",
    "                contador = contador + 1 \n",
    "                num_ignorados = num_ignorados + 1\n",
    "                \n",
    "            ignorar = 0\n",
    "            contador = contador + 1 \n",
    "# Cuidado con el último, porque solo escribiremos la habitación  \n",
    "if  ind_bano == 0 and ind_banos == 0:\n",
    "    col_banos.append(0) \n",
    "if ind_metros == 0:\n",
    "    col_metros.append(0)\n",
    "if ind_terraza == 0:\n",
    "    col_terraza.append('N')      \n",
    "if ind_ascensor == 0:\n",
    "    col_ascensor.append('N')    \n",
    "if ind_parking == 0:\n",
    "    col_parking.append('N') \n",
    "\n",
    "# Miramos como vamos\n",
    "\n",
    "print(col_habitaciones)          \n",
    "print(col_banos)\n",
    "print(col_metros)\n",
    "print(col_terraza)\n",
    "print(col_ascensor)\n",
    "print(col_parking)\n"
   ]
  },
  {
   "cell_type": "code",
   "execution_count": 307,
   "metadata": {},
   "outputs": [
    {
     "data": {
      "text/plain": [
       "[1]"
      ]
     },
     "execution_count": 307,
     "metadata": {},
     "output_type": "execute_result"
    }
   ],
   "source": [
    "col_ignorar"
   ]
  },
  {
   "cell_type": "code",
   "execution_count": 308,
   "metadata": {},
   "outputs": [
    {
     "name": "stdout",
     "output_type": "stream",
     "text": [
      "1\n"
     ]
    }
   ],
   "source": [
    "print(num_ignorados)"
   ]
  },
  {
   "cell_type": "code",
   "execution_count": 309,
   "metadata": {},
   "outputs": [
    {
     "name": "stdout",
     "output_type": "stream",
     "text": [
      "['1900', '1100', 0, 0, 0, 0]\n"
     ]
    }
   ],
   "source": [
    "# Extraemos los precios\n",
    "col_precios=[]\n",
    "contador = 0\n",
    "existe_lista = 0\n",
    "\n",
    "for elemento in listaprecios:\n",
    "    if \"€ /mes\" in elemento:\n",
    "        pre = elemento[0:-7]\n",
    "        for lista in col_ignorar:           \n",
    "            if contador == lista:\n",
    "                existe_lista = 1\n",
    "                \n",
    "        if existe_lista == 0:\n",
    "            pre=pre.replace('.', '')\n",
    "            col_precios.append(pre)      \n",
    "    else:\n",
    "        col_precios.append(0) \n",
    "        \n",
    "    contador = contador + 1\n",
    "    existe_lista = 0\n",
    "\n",
    "print(col_precios)"
   ]
  },
  {
   "cell_type": "code",
   "execution_count": 310,
   "metadata": {},
   "outputs": [
    {
     "name": "stdout",
     "output_type": "stream",
     "text": [
      "['Piso', 'Piso']\n",
      "['Deusto', 'Buenos Aires, Abando - Albia']\n"
     ]
    }
   ],
   "source": [
    "#Ignorar también los tipos y las calles de los registros que vayamos ignorando.\n",
    "# Extraemos los tipos\n",
    "col_tipos=[]\n",
    "contador = 0\n",
    "existe_lista = 0\n",
    " \n",
    "for elemento in listatipo:\n",
    "    tipo = elemento\n",
    "    for lista in col_ignorar:           \n",
    "        if contador == lista:\n",
    "            existe_lista = 1\n",
    "    if existe_lista == 0:\n",
    "        col_tipos.append(tipo)       \n",
    "   \n",
    "    contador = contador + 1\n",
    "    existe_lista = 0\n",
    "\n",
    "print(col_tipos)\n",
    "\n",
    "# Extraemos los tipos\n",
    "col_calles=[]\n",
    "contador = 0\n",
    "existe_lista = 0\n",
    "\n",
    "for elemento in listacalles:\n",
    "    calle = elemento\n",
    "    for lista in col_ignorar:           \n",
    "        if contador == lista:\n",
    "            existe_lista = 1\n",
    "    if existe_lista == 0:\n",
    "        col_calles.append(calle)    \n",
    "            \n",
    "    contador = contador + 1\n",
    "    existe_lista = 0\n",
    "\n",
    "print(col_calles)"
   ]
  },
  {
   "cell_type": "code",
   "execution_count": 311,
   "metadata": {},
   "outputs": [],
   "source": [
    "df=pd.DataFrame()"
   ]
  },
  {
   "cell_type": "code",
   "execution_count": 312,
   "metadata": {},
   "outputs": [
    {
     "ename": "ValueError",
     "evalue": "arrays must all be same length",
     "output_type": "error",
     "traceback": [
      "\u001b[1;31m---------------------------------------------------------------------------\u001b[0m",
      "\u001b[1;31mValueError\u001b[0m                                Traceback (most recent call last)",
      "\u001b[1;32m<ipython-input-312-fce6724164ce>\u001b[0m in \u001b[0;36m<module>\u001b[1;34m\u001b[0m\n\u001b[0;32m      1\u001b[0m \u001b[0mdf\u001b[0m\u001b[1;33m=\u001b[0m\u001b[0mpd\u001b[0m\u001b[1;33m.\u001b[0m\u001b[0mDataFrame\u001b[0m\u001b[1;33m(\u001b[0m\u001b[1;33m)\u001b[0m\u001b[1;33m\u001b[0m\u001b[1;33m\u001b[0m\u001b[0m\n\u001b[1;32m----> 2\u001b[1;33m df=pd.DataFrame({'Ciudad': 'Bilbao', 'Habitaciones': col_habitaciones, 'Baños':col_banos,  'Superficie':col_metros, \n\u001b[0m\u001b[0;32m      3\u001b[0m                  \u001b[1;34m'Terraza'\u001b[0m\u001b[1;33m:\u001b[0m \u001b[0mcol_terraza\u001b[0m\u001b[1;33m,\u001b[0m \u001b[1;34m'Ascensor'\u001b[0m\u001b[1;33m:\u001b[0m \u001b[0mcol_ascensor\u001b[0m\u001b[1;33m,\u001b[0m \u001b[1;34m'Parking'\u001b[0m\u001b[1;33m:\u001b[0m \u001b[0mcol_parking\u001b[0m\u001b[1;33m,\u001b[0m \u001b[1;34m'Tipo_vivienda'\u001b[0m\u001b[1;33m:\u001b[0m \u001b[0mcol_tipos\u001b[0m\u001b[1;33m,\u001b[0m\u001b[1;33m\u001b[0m\u001b[1;33m\u001b[0m\u001b[0m\n\u001b[0;32m      4\u001b[0m                   \u001b[1;34m'Calle'\u001b[0m\u001b[1;33m:\u001b[0m \u001b[0mcol_calles\u001b[0m\u001b[1;33m,\u001b[0m \u001b[1;34m'Precio'\u001b[0m\u001b[1;33m:\u001b[0m \u001b[0mcol_precios\u001b[0m\u001b[1;33m\u001b[0m\u001b[1;33m\u001b[0m\u001b[0m\n\u001b[0;32m      5\u001b[0m                 })\n",
      "\u001b[1;32m~\\anaconda3\\lib\\site-packages\\pandas\\core\\frame.py\u001b[0m in \u001b[0;36m__init__\u001b[1;34m(self, data, index, columns, dtype, copy)\u001b[0m\n\u001b[0;32m    466\u001b[0m \u001b[1;33m\u001b[0m\u001b[0m\n\u001b[0;32m    467\u001b[0m         \u001b[1;32melif\u001b[0m \u001b[0misinstance\u001b[0m\u001b[1;33m(\u001b[0m\u001b[0mdata\u001b[0m\u001b[1;33m,\u001b[0m \u001b[0mdict\u001b[0m\u001b[1;33m)\u001b[0m\u001b[1;33m:\u001b[0m\u001b[1;33m\u001b[0m\u001b[1;33m\u001b[0m\u001b[0m\n\u001b[1;32m--> 468\u001b[1;33m             \u001b[0mmgr\u001b[0m \u001b[1;33m=\u001b[0m \u001b[0minit_dict\u001b[0m\u001b[1;33m(\u001b[0m\u001b[0mdata\u001b[0m\u001b[1;33m,\u001b[0m \u001b[0mindex\u001b[0m\u001b[1;33m,\u001b[0m \u001b[0mcolumns\u001b[0m\u001b[1;33m,\u001b[0m \u001b[0mdtype\u001b[0m\u001b[1;33m=\u001b[0m\u001b[0mdtype\u001b[0m\u001b[1;33m)\u001b[0m\u001b[1;33m\u001b[0m\u001b[1;33m\u001b[0m\u001b[0m\n\u001b[0m\u001b[0;32m    469\u001b[0m         \u001b[1;32melif\u001b[0m \u001b[0misinstance\u001b[0m\u001b[1;33m(\u001b[0m\u001b[0mdata\u001b[0m\u001b[1;33m,\u001b[0m \u001b[0mma\u001b[0m\u001b[1;33m.\u001b[0m\u001b[0mMaskedArray\u001b[0m\u001b[1;33m)\u001b[0m\u001b[1;33m:\u001b[0m\u001b[1;33m\u001b[0m\u001b[1;33m\u001b[0m\u001b[0m\n\u001b[0;32m    470\u001b[0m             \u001b[1;32mimport\u001b[0m \u001b[0mnumpy\u001b[0m\u001b[1;33m.\u001b[0m\u001b[0mma\u001b[0m\u001b[1;33m.\u001b[0m\u001b[0mmrecords\u001b[0m \u001b[1;32mas\u001b[0m \u001b[0mmrecords\u001b[0m\u001b[1;33m\u001b[0m\u001b[1;33m\u001b[0m\u001b[0m\n",
      "\u001b[1;32m~\\anaconda3\\lib\\site-packages\\pandas\\core\\internals\\construction.py\u001b[0m in \u001b[0;36minit_dict\u001b[1;34m(data, index, columns, dtype)\u001b[0m\n\u001b[0;32m    281\u001b[0m             \u001b[0marr\u001b[0m \u001b[1;32mif\u001b[0m \u001b[1;32mnot\u001b[0m \u001b[0mis_datetime64tz_dtype\u001b[0m\u001b[1;33m(\u001b[0m\u001b[0marr\u001b[0m\u001b[1;33m)\u001b[0m \u001b[1;32melse\u001b[0m \u001b[0marr\u001b[0m\u001b[1;33m.\u001b[0m\u001b[0mcopy\u001b[0m\u001b[1;33m(\u001b[0m\u001b[1;33m)\u001b[0m \u001b[1;32mfor\u001b[0m \u001b[0marr\u001b[0m \u001b[1;32min\u001b[0m \u001b[0marrays\u001b[0m\u001b[1;33m\u001b[0m\u001b[1;33m\u001b[0m\u001b[0m\n\u001b[0;32m    282\u001b[0m         ]\n\u001b[1;32m--> 283\u001b[1;33m     \u001b[1;32mreturn\u001b[0m \u001b[0marrays_to_mgr\u001b[0m\u001b[1;33m(\u001b[0m\u001b[0marrays\u001b[0m\u001b[1;33m,\u001b[0m \u001b[0mdata_names\u001b[0m\u001b[1;33m,\u001b[0m \u001b[0mindex\u001b[0m\u001b[1;33m,\u001b[0m \u001b[0mcolumns\u001b[0m\u001b[1;33m,\u001b[0m \u001b[0mdtype\u001b[0m\u001b[1;33m=\u001b[0m\u001b[0mdtype\u001b[0m\u001b[1;33m)\u001b[0m\u001b[1;33m\u001b[0m\u001b[1;33m\u001b[0m\u001b[0m\n\u001b[0m\u001b[0;32m    284\u001b[0m \u001b[1;33m\u001b[0m\u001b[0m\n\u001b[0;32m    285\u001b[0m \u001b[1;33m\u001b[0m\u001b[0m\n",
      "\u001b[1;32m~\\anaconda3\\lib\\site-packages\\pandas\\core\\internals\\construction.py\u001b[0m in \u001b[0;36marrays_to_mgr\u001b[1;34m(arrays, arr_names, index, columns, dtype, verify_integrity)\u001b[0m\n\u001b[0;32m     76\u001b[0m         \u001b[1;31m# figure out the index, if necessary\u001b[0m\u001b[1;33m\u001b[0m\u001b[1;33m\u001b[0m\u001b[1;33m\u001b[0m\u001b[0m\n\u001b[0;32m     77\u001b[0m         \u001b[1;32mif\u001b[0m \u001b[0mindex\u001b[0m \u001b[1;32mis\u001b[0m \u001b[1;32mNone\u001b[0m\u001b[1;33m:\u001b[0m\u001b[1;33m\u001b[0m\u001b[1;33m\u001b[0m\u001b[0m\n\u001b[1;32m---> 78\u001b[1;33m             \u001b[0mindex\u001b[0m \u001b[1;33m=\u001b[0m \u001b[0mextract_index\u001b[0m\u001b[1;33m(\u001b[0m\u001b[0marrays\u001b[0m\u001b[1;33m)\u001b[0m\u001b[1;33m\u001b[0m\u001b[1;33m\u001b[0m\u001b[0m\n\u001b[0m\u001b[0;32m     79\u001b[0m         \u001b[1;32melse\u001b[0m\u001b[1;33m:\u001b[0m\u001b[1;33m\u001b[0m\u001b[1;33m\u001b[0m\u001b[0m\n\u001b[0;32m     80\u001b[0m             \u001b[0mindex\u001b[0m \u001b[1;33m=\u001b[0m \u001b[0mensure_index\u001b[0m\u001b[1;33m(\u001b[0m\u001b[0mindex\u001b[0m\u001b[1;33m)\u001b[0m\u001b[1;33m\u001b[0m\u001b[1;33m\u001b[0m\u001b[0m\n",
      "\u001b[1;32m~\\anaconda3\\lib\\site-packages\\pandas\\core\\internals\\construction.py\u001b[0m in \u001b[0;36mextract_index\u001b[1;34m(data)\u001b[0m\n\u001b[0;32m    395\u001b[0m             \u001b[0mlengths\u001b[0m \u001b[1;33m=\u001b[0m \u001b[0mlist\u001b[0m\u001b[1;33m(\u001b[0m\u001b[0mset\u001b[0m\u001b[1;33m(\u001b[0m\u001b[0mraw_lengths\u001b[0m\u001b[1;33m)\u001b[0m\u001b[1;33m)\u001b[0m\u001b[1;33m\u001b[0m\u001b[1;33m\u001b[0m\u001b[0m\n\u001b[0;32m    396\u001b[0m             \u001b[1;32mif\u001b[0m \u001b[0mlen\u001b[0m\u001b[1;33m(\u001b[0m\u001b[0mlengths\u001b[0m\u001b[1;33m)\u001b[0m \u001b[1;33m>\u001b[0m \u001b[1;36m1\u001b[0m\u001b[1;33m:\u001b[0m\u001b[1;33m\u001b[0m\u001b[1;33m\u001b[0m\u001b[0m\n\u001b[1;32m--> 397\u001b[1;33m                 \u001b[1;32mraise\u001b[0m \u001b[0mValueError\u001b[0m\u001b[1;33m(\u001b[0m\u001b[1;34m\"arrays must all be same length\"\u001b[0m\u001b[1;33m)\u001b[0m\u001b[1;33m\u001b[0m\u001b[1;33m\u001b[0m\u001b[0m\n\u001b[0m\u001b[0;32m    398\u001b[0m \u001b[1;33m\u001b[0m\u001b[0m\n\u001b[0;32m    399\u001b[0m             \u001b[1;32mif\u001b[0m \u001b[0mhave_dicts\u001b[0m\u001b[1;33m:\u001b[0m\u001b[1;33m\u001b[0m\u001b[1;33m\u001b[0m\u001b[0m\n",
      "\u001b[1;31mValueError\u001b[0m: arrays must all be same length"
     ]
    }
   ],
   "source": [
    "df=pd.DataFrame()\n",
    "df=pd.DataFrame({'Ciudad': 'Bilbao', 'Habitaciones': col_habitaciones, 'Baños':col_banos,  'Superficie':col_metros, \n",
    "                 'Terraza': col_terraza, 'Ascensor': col_ascensor, 'Parking': col_parking, 'Tipo_vivienda': col_tipos,\n",
    "                  'Calle': col_calles, 'Precio': col_precios \n",
    "                })"
   ]
  },
  {
   "cell_type": "code",
   "execution_count": null,
   "metadata": {},
   "outputs": [],
   "source": [
    "#print(df)"
   ]
  },
  {
   "cell_type": "code",
   "execution_count": null,
   "metadata": {},
   "outputs": [],
   "source": [
    "df.to_csv('PRECIOS_bis_25.CSV', index=False)"
   ]
  },
  {
   "cell_type": "code",
   "execution_count": null,
   "metadata": {},
   "outputs": [],
   "source": []
  }
 ],
 "metadata": {
  "kernelspec": {
   "display_name": "Python 3",
   "language": "python",
   "name": "python3"
  },
  "language_info": {
   "codemirror_mode": {
    "name": "ipython",
    "version": 3
   },
   "file_extension": ".py",
   "mimetype": "text/x-python",
   "name": "python",
   "nbconvert_exporter": "python",
   "pygments_lexer": "ipython3",
   "version": "3.8.5"
  }
 },
 "nbformat": 4,
 "nbformat_minor": 4
}
